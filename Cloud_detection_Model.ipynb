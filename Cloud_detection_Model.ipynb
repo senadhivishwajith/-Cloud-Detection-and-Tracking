{
  "nbformat": 4,
  "nbformat_minor": 0,
  "metadata": {
    "colab": {
      "provenance": [],
      "gpuType": "T4"
    },
    "kernelspec": {
      "name": "python3",
      "display_name": "Python 3"
    },
    "language_info": {
      "name": "python"
    },
    "accelerator": "GPU"
  },
  "cells": [
    {
      "cell_type": "code",
      "execution_count": null,
      "metadata": {
        "id": "mdUtX9ZknLeh",
        "colab": {
          "base_uri": "https://localhost:8080/"
        },
        "collapsed": true,
        "outputId": "f76ca8c4-5519-4630-bbbd-429d4ae8df76"
      },
      "outputs": [
        {
          "output_type": "stream",
          "name": "stdout",
          "text": [
            "Requirement already satisfied: roboflow in /usr/local/lib/python3.11/dist-packages (1.1.54)\n",
            "Requirement already satisfied: certifi in /usr/local/lib/python3.11/dist-packages (from roboflow) (2025.1.31)\n",
            "Requirement already satisfied: idna==3.7 in /usr/local/lib/python3.11/dist-packages (from roboflow) (3.7)\n",
            "Requirement already satisfied: cycler in /usr/local/lib/python3.11/dist-packages (from roboflow) (0.12.1)\n",
            "Requirement already satisfied: kiwisolver>=1.3.1 in /usr/local/lib/python3.11/dist-packages (from roboflow) (1.4.8)\n",
            "Requirement already satisfied: matplotlib in /usr/local/lib/python3.11/dist-packages (from roboflow) (3.10.0)\n",
            "Requirement already satisfied: numpy>=1.18.5 in /usr/local/lib/python3.11/dist-packages (from roboflow) (1.26.4)\n",
            "Requirement already satisfied: opencv-python-headless==4.10.0.84 in /usr/local/lib/python3.11/dist-packages (from roboflow) (4.10.0.84)\n",
            "Requirement already satisfied: Pillow>=7.1.2 in /usr/local/lib/python3.11/dist-packages (from roboflow) (11.1.0)\n",
            "Requirement already satisfied: python-dateutil in /usr/local/lib/python3.11/dist-packages (from roboflow) (2.8.2)\n",
            "Requirement already satisfied: python-dotenv in /usr/local/lib/python3.11/dist-packages (from roboflow) (1.0.1)\n",
            "Requirement already satisfied: requests in /usr/local/lib/python3.11/dist-packages (from roboflow) (2.32.3)\n",
            "Requirement already satisfied: six in /usr/local/lib/python3.11/dist-packages (from roboflow) (1.17.0)\n",
            "Requirement already satisfied: urllib3>=1.26.6 in /usr/local/lib/python3.11/dist-packages (from roboflow) (2.3.0)\n",
            "Requirement already satisfied: tqdm>=4.41.0 in /usr/local/lib/python3.11/dist-packages (from roboflow) (4.67.1)\n",
            "Requirement already satisfied: PyYAML>=5.3.1 in /usr/local/lib/python3.11/dist-packages (from roboflow) (6.0.2)\n",
            "Requirement already satisfied: requests-toolbelt in /usr/local/lib/python3.11/dist-packages (from roboflow) (1.0.0)\n",
            "Requirement already satisfied: filetype in /usr/local/lib/python3.11/dist-packages (from roboflow) (1.2.0)\n",
            "Requirement already satisfied: contourpy>=1.0.1 in /usr/local/lib/python3.11/dist-packages (from matplotlib->roboflow) (1.3.1)\n",
            "Requirement already satisfied: fonttools>=4.22.0 in /usr/local/lib/python3.11/dist-packages (from matplotlib->roboflow) (4.56.0)\n",
            "Requirement already satisfied: packaging>=20.0 in /usr/local/lib/python3.11/dist-packages (from matplotlib->roboflow) (24.2)\n",
            "Requirement already satisfied: pyparsing>=2.3.1 in /usr/local/lib/python3.11/dist-packages (from matplotlib->roboflow) (3.2.1)\n",
            "Requirement already satisfied: charset-normalizer<4,>=2 in /usr/local/lib/python3.11/dist-packages (from requests->roboflow) (3.4.1)\n"
          ]
        }
      ],
      "source": [
        "!pip install roboflow"
      ]
    },
    {
      "cell_type": "code",
      "source": [
        "from roboflow import Roboflow\n",
        "rf = Roboflow(api_key=\"7Ka9qNNIIcbpeWjmibcz\")\n",
        "project = rf.workspace(\"cloud-detection-cvmay\").project(\"cloud-detection-1.0\")\n",
        "version = project.version(4)\n",
        "dataset = version.download(\"yolov8\")"
      ],
      "metadata": {
        "colab": {
          "base_uri": "https://localhost:8080/"
        },
        "id": "zOiXEwLLCjsA",
        "outputId": "6ad1cadf-8706-45fd-f803-bbffa45d2e3c"
      },
      "execution_count": null,
      "outputs": [
        {
          "output_type": "stream",
          "name": "stdout",
          "text": [
            "loading Roboflow workspace...\n",
            "loading Roboflow project...\n"
          ]
        }
      ]
    },
    {
      "cell_type": "code",
      "source": [
        "!ls -R /content\n"
      ],
      "metadata": {
        "colab": {
          "base_uri": "https://localhost:8080/"
        },
        "collapsed": true,
        "id": "f-wjHZ2wCpUa",
        "outputId": "c8038ea3-1731-4f2e-fbb7-24d6e578a969"
      },
      "execution_count": null,
      "outputs": [
        {
          "output_type": "stream",
          "name": "stdout",
          "text": [
            "/content:\n",
            "Cloud-detection-1.0-4  runs  sample_data  yolo11n.pt  yolov8n.pt\n",
            "\n",
            "/content/Cloud-detection-1.0-4:\n",
            "data.yaml  README.dataset.txt  README.roboflow.txt  test  train  valid\n",
            "\n",
            "/content/Cloud-detection-1.0-4/test:\n",
            "images\tlabels\n",
            "\n",
            "/content/Cloud-detection-1.0-4/test/images:\n",
            "25-02-15-11-06-40_jpg.rf.93c34396874b0dd5b71f8e287b690f9d.jpg\n",
            "25-02-15-11-08-42_jpg.rf.417df0209adb74b5d123c48b7fe100f7.jpg\n",
            "25-02-15-11-25-48_jpg.rf.04c267da1b839631dcb7a7b0fffc2b2c.jpg\n",
            "25-02-15-11-28-35_jpg.rf.785d0596734000b8dde3e66390ed766b.jpg\n",
            "25-02-15-11-31-38_jpg.rf.c4c2f8c800c4451cf87bb48c0eeed5a4.jpg\n",
            "25-02-15-12-26-13_jpg.rf.5c95a526729fdf74452095c0ff54ecd5.jpg\n",
            "25-02-15-12-49-15_jpg.rf.4b0ae08878cc22c78817c2cd110106a2.jpg\n",
            "25-02-15-12-59-10_jpg.rf.a2750a5dc6a6fe0978d54e70d6073a12.jpg\n",
            "25-02-15-13-07-42_jpg.rf.e40a15d467962f5ad9f9f5ed6d194218.jpg\n",
            "25-02-15-13-17-42_jpg.rf.78e539df8b6a0816a1305b3c536c0c47.jpg\n",
            "25-02-15-13-17-52_jpg.rf.9e9994132ee604493409618481e40638.jpg\n",
            "25-02-15-13-24-59_jpg.rf.7984d614d6bdaa42f657d35ac57220d4.jpg\n",
            "25-02-15-13-27-46_jpg.rf.ed3e01d5da0134d2288bf46cde5cd5a2.jpg\n",
            "25-02-15-13-30-29_jpg.rf.20c0efdfac81009661bd835d6b9d5852.jpg\n",
            "25-02-15-13-41-14_jpg.rf.64fc33cedf0e2f6c9e2cab4f8523670a.jpg\n",
            "25-02-15-14-00-06_jpg.rf.12d64040317900c77edea5d5757a683c.jpg\n",
            "25-02-15-14-02-29_jpg.rf.157ee64d11add5554b8045122e6ac7e1.jpg\n",
            "25-02-15-14-08-14_jpg.rf.202e2982169785e1ac089a1c8d170b07.jpg\n",
            "25-02-15-14-12-03_jpg.rf.dd2a626d7c70253306b6cb11dcb571fd.jpg\n",
            "25-02-15-14-15-36_jpg.rf.c8e096ddae52f7d5704d9241cd144e6d.jpg\n",
            "25-02-15-14-25-55_jpg.rf.2b0ccd196e366c3e96bf0ab3f31b0a2d.jpg\n",
            "25-02-15-14-36-30_jpg.rf.8a1fdf165392c2682a0a24725ea2eb87.jpg\n",
            "25-02-15-14-40-34_jpg.rf.e3589b5ac37189698924c588568f3b11.jpg\n",
            "25-02-15-14-47-05_jpg.rf.f621a9bf063140539a02393bd8d81f06.jpg\n",
            "\n",
            "/content/Cloud-detection-1.0-4/test/labels:\n",
            "25-02-15-11-06-40_jpg.rf.93c34396874b0dd5b71f8e287b690f9d.txt\n",
            "25-02-15-11-08-42_jpg.rf.417df0209adb74b5d123c48b7fe100f7.txt\n",
            "25-02-15-11-25-48_jpg.rf.04c267da1b839631dcb7a7b0fffc2b2c.txt\n",
            "25-02-15-11-28-35_jpg.rf.785d0596734000b8dde3e66390ed766b.txt\n",
            "25-02-15-11-31-38_jpg.rf.c4c2f8c800c4451cf87bb48c0eeed5a4.txt\n",
            "25-02-15-12-26-13_jpg.rf.5c95a526729fdf74452095c0ff54ecd5.txt\n",
            "25-02-15-12-49-15_jpg.rf.4b0ae08878cc22c78817c2cd110106a2.txt\n",
            "25-02-15-12-59-10_jpg.rf.a2750a5dc6a6fe0978d54e70d6073a12.txt\n",
            "25-02-15-13-07-42_jpg.rf.e40a15d467962f5ad9f9f5ed6d194218.txt\n",
            "25-02-15-13-17-42_jpg.rf.78e539df8b6a0816a1305b3c536c0c47.txt\n",
            "25-02-15-13-17-52_jpg.rf.9e9994132ee604493409618481e40638.txt\n",
            "25-02-15-13-24-59_jpg.rf.7984d614d6bdaa42f657d35ac57220d4.txt\n",
            "25-02-15-13-27-46_jpg.rf.ed3e01d5da0134d2288bf46cde5cd5a2.txt\n",
            "25-02-15-13-30-29_jpg.rf.20c0efdfac81009661bd835d6b9d5852.txt\n",
            "25-02-15-13-41-14_jpg.rf.64fc33cedf0e2f6c9e2cab4f8523670a.txt\n",
            "25-02-15-14-00-06_jpg.rf.12d64040317900c77edea5d5757a683c.txt\n",
            "25-02-15-14-02-29_jpg.rf.157ee64d11add5554b8045122e6ac7e1.txt\n",
            "25-02-15-14-08-14_jpg.rf.202e2982169785e1ac089a1c8d170b07.txt\n",
            "25-02-15-14-12-03_jpg.rf.dd2a626d7c70253306b6cb11dcb571fd.txt\n",
            "25-02-15-14-15-36_jpg.rf.c8e096ddae52f7d5704d9241cd144e6d.txt\n",
            "25-02-15-14-25-55_jpg.rf.2b0ccd196e366c3e96bf0ab3f31b0a2d.txt\n",
            "25-02-15-14-36-30_jpg.rf.8a1fdf165392c2682a0a24725ea2eb87.txt\n",
            "25-02-15-14-40-34_jpg.rf.e3589b5ac37189698924c588568f3b11.txt\n",
            "25-02-15-14-47-05_jpg.rf.f621a9bf063140539a02393bd8d81f06.txt\n",
            "\n",
            "/content/Cloud-detection-1.0-4/train:\n",
            "images\tlabels\tlabels.cache\n",
            "\n",
            "/content/Cloud-detection-1.0-4/train/images:\n",
            "25-02-15-11-02-25_jpg.rf.41452e9a72f58065948f1c6bad8f8e0e.jpg\n",
            "25-02-15-11-02-25_jpg.rf.679914b2e4e9eb6aa6446a16cbd9d4d7.jpg\n",
            "25-02-15-11-02-25_jpg.rf.eda10808df61fca1a2e626790df2d1bf.jpg\n",
            "25-02-15-11-02-36_jpg.rf.0a30cdc9f2e10b65286ca8723493a215.jpg\n",
            "25-02-15-11-02-36_jpg.rf.760396dc5cc36521d59e9f5669d88b48.jpg\n",
            "25-02-15-11-02-36_jpg.rf.9c60d0b977eb4e8c34cca3884396bf25.jpg\n",
            "25-02-15-11-05-28_jpg.rf.17c503485831ddb7ac42d9f793bd8c85.jpg\n",
            "25-02-15-11-05-28_jpg.rf.18509bbff82d050711d34d1d5433d75d.jpg\n",
            "25-02-15-11-05-28_jpg.rf.240df6d28e19f003a8fe97d8f955bdd4.jpg\n",
            "25-02-15-11-07-00_jpg.rf.66a8c1d610ba768cc97ee52a9f3bf98e.jpg\n",
            "25-02-15-11-07-00_jpg.rf.c55534668588f4174481c089a1439f24.jpg\n",
            "25-02-15-11-07-00_jpg.rf.f59072b0be81ef96a849ad40393de150.jpg\n",
            "25-02-15-11-09-07_jpg.rf.59dff832cd056cec1be98a4214919f71.jpg\n",
            "25-02-15-11-09-07_jpg.rf.7bde8f5c3092dc3a12f45e3d92947415.jpg\n",
            "25-02-15-11-09-07_jpg.rf.8f26a029679fbc526f4da7cca471a0e0.jpg\n",
            "25-02-15-11-09-17_jpg.rf.51c3df3e9e3323e93e373e189dba52d0.jpg\n",
            "25-02-15-11-09-17_jpg.rf.60a09d1b78fc282a2f3d5fa58020697b.jpg\n",
            "25-02-15-11-09-17_jpg.rf.9d3907749193ffd7abd5717467ce00aa.jpg\n",
            "25-02-15-11-10-08_jpg.rf.519cc1d144a3042cf895add4fa0eb1f4.jpg\n",
            "25-02-15-11-10-08_jpg.rf.cd33582302dba32971f931bb44d0e8a7.jpg\n",
            "25-02-15-11-10-08_jpg.rf.d27d9ea3ff936bd4848ce2991809f752.jpg\n",
            "25-02-15-11-10-18_jpg.rf.00c2c36baf7529283b5ba516549a17fd.jpg\n",
            "25-02-15-11-10-18_jpg.rf.150229f3ac52d7b07c89b11207e10c68.jpg\n",
            "25-02-15-11-10-18_jpg.rf.86bfef61c1c83f05e0f24ec7f52c0f28.jpg\n",
            "25-02-15-11-11-49_jpg.rf.7038032defef3e571fcc5f88d424ca6e.jpg\n",
            "25-02-15-11-11-49_jpg.rf.9e60d1ba41cb9fd4246554726e1dd251.jpg\n",
            "25-02-15-11-11-49_jpg.rf.eb0e2a7afaef0c87957bfba83f950109.jpg\n",
            "25-02-15-11-12-30_jpg.rf.2ea4218e53d6d7351ee820aa8f09f446.jpg\n",
            "25-02-15-11-12-30_jpg.rf.44579b11d571b69f0474b350e636ef23.jpg\n",
            "25-02-15-11-12-30_jpg.rf.7685371c205592593670fa2acebce705.jpg\n",
            "25-02-15-11-15-03_jpg.rf.6210da01787526ec8ede750e12304fff.jpg\n",
            "25-02-15-11-15-03_jpg.rf.a1611647b83274d4c3039eb2590e87a1.jpg\n",
            "25-02-15-11-15-03_jpg.rf.f42162b79c029c9dad4a3bd1b629e22e.jpg\n",
            "25-02-15-11-15-13_jpg.rf.0890c3d45e7cb26dd74b7da222cc8f6b.jpg\n",
            "25-02-15-11-15-13_jpg.rf.5f5d8a1b746cf3bc57fbdacb3eb65136.jpg\n",
            "25-02-15-11-15-13_jpg.rf.d26cc4308a21e505e3c17b7254364758.jpg\n",
            "25-02-15-11-16-44_jpg.rf.1097a2ed92b06b7f7283eb25bba2196e.jpg\n",
            "25-02-15-11-16-44_jpg.rf.1916c9c276c3371e257ddd6f5986d0af.jpg\n",
            "25-02-15-11-16-44_jpg.rf.a3f7e81b28d7c1ccb2c50e85f7a715fe.jpg\n",
            "25-02-15-11-17-04_jpg.rf.4ca837a4deff95c9ebe81a5b638b06ef.jpg\n",
            "25-02-15-11-17-04_jpg.rf.5c97b97f3eab84aafe8b3da7ebbc1c96.jpg\n",
            "25-02-15-11-17-04_jpg.rf.8f286f0d53ecc946eae6cc1fd7bd5410.jpg\n",
            "25-02-15-11-20-22_jpg.rf.175919e775250c11741b92d1b82dedcc.jpg\n",
            "25-02-15-11-20-22_jpg.rf.2f4df698ea10253c226a6db32217a8b4.jpg\n",
            "25-02-15-11-20-22_jpg.rf.d2db13728e2457074fb2500e52a0721b.jpg\n",
            "25-02-15-11-20-53_jpg.rf.035f73872d64b144d9534a71627c7b3b.jpg\n",
            "25-02-15-11-20-53_jpg.rf.5b0950475513b6525f338fec27015ce7.jpg\n",
            "25-02-15-11-20-53_jpg.rf.6771091b6570a96a9bc3981327270f2e.jpg\n",
            "25-02-15-11-21-03_jpg.rf.1c837c6926d3e4210a93cc46a5ec34b6.jpg\n",
            "25-02-15-11-21-03_jpg.rf.21e3dddec3075cb831572f72077b7dfb.jpg\n",
            "25-02-15-11-21-03_jpg.rf.f1f3827ce13fb77dc0229b40306b2f22.jpg\n",
            "25-02-15-11-21-13_jpg.rf.469fd361ee771754a2a259612b8bcc2c.jpg\n",
            "25-02-15-11-21-13_jpg.rf.75cdf4bd4ec465d48deb65a3b61b4a70.jpg\n",
            "25-02-15-11-21-13_jpg.rf.f2efc5d8e4153e6409b6e84ca78b554f.jpg\n",
            "25-02-15-11-23-05_jpg.rf.04f0e71b78ca64f9f02511b0616cab55.jpg\n",
            "25-02-15-11-23-05_jpg.rf.af6282b8ba27c5dea6d1908a3d4fe125.jpg\n",
            "25-02-15-11-23-05_jpg.rf.f62c319842a13260c06e6918d72913e8.jpg\n",
            "25-02-15-11-24-36_jpg.rf.1891e8429103d2cca244d72cd230e469.jpg\n",
            "25-02-15-11-24-36_jpg.rf.5a6c71cce732fc1f1d908482fdc6a8e1.jpg\n",
            "25-02-15-11-24-36_jpg.rf.94ce460cb1875a11dfd8d15ea5c8471d.jpg\n",
            "25-02-15-11-25-17_jpg.rf.1923043e8a86b299cb4cbc5a91fa4546.jpg\n",
            "25-02-15-11-25-17_jpg.rf.240d468c9d09c8eff01bafe63ba275bf.jpg\n",
            "25-02-15-11-25-17_jpg.rf.d9d0ad3983467f53734b35f2eb72f98c.jpg\n",
            "25-02-15-11-25-58_jpg.rf.1ef87505a382ef52ca273e5eb1039c05.jpg\n",
            "25-02-15-11-25-58_jpg.rf.2f1946129a634250cb73070c5302c57d.jpg\n",
            "25-02-15-11-25-58_jpg.rf.a3d7853cf9d8cf0eff6f33106d28a9e2.jpg\n",
            "25-02-15-11-29-06_jpg.rf.2e68ac07e743fb1954f9b78ea20bd70b.jpg\n",
            "25-02-15-11-29-06_jpg.rf.9dd1023016edcc63291b912009fa328f.jpg\n",
            "25-02-15-11-29-06_jpg.rf.b739b2cd424f8e75c46028e2802b08cf.jpg\n",
            "25-02-15-11-31-28_jpg.rf.45f9f581c48a3e58f9264485c37c0444.jpg\n",
            "25-02-15-11-31-28_jpg.rf.4ba0cc21289a94c4180987382583aff0.jpg\n",
            "25-02-15-11-31-28_jpg.rf.fefcd1e7b28869e4e123f49591226fb4.jpg\n",
            "25-02-15-11-33-10_jpg.rf.20218c70e76211bff9faeda9c8dd8a6e.jpg\n",
            "25-02-15-11-33-10_jpg.rf.7518b87ff08d713468d8a8a86dfe86bf.jpg\n",
            "25-02-15-11-33-10_jpg.rf.bef293a4d587cf3c8a06236acb4f63e2.jpg\n",
            "25-02-15-11-34-21_jpg.rf.1332981c8665d46f109f21d3c3fb45e3.jpg\n",
            "25-02-15-11-34-21_jpg.rf.187c0139b6c59d9d00dd2910dd27645a.jpg\n",
            "25-02-15-11-34-21_jpg.rf.c456b7cf8584cccfff0aee60fddfed2e.jpg\n",
            "25-02-15-11-34-31_jpg.rf.9b30b445d71042d52ab2d87d6a458c7b.jpg\n",
            "25-02-15-11-34-31_jpg.rf.a08de6e4c487a93aec5f5be4a1a69095.jpg\n",
            "25-02-15-11-34-31_jpg.rf.ec9ad415eaa36a0c5d3f5ff0e3881c43.jpg\n",
            "25-02-15-11-37-49_jpg.rf.3ed6dcd2c34a0a0755e26640b9f4c2a1.jpg\n",
            "25-02-15-11-37-49_jpg.rf.789edfe2e5f2df89d2764ce13926dff0.jpg\n",
            "25-02-15-11-37-49_jpg.rf.8b747a12a124ccf582b4639306768a54.jpg\n",
            "25-02-15-11-37-59_jpg.rf.4f2041f568a9f601b117e3638e8ff277.jpg\n",
            "25-02-15-11-37-59_jpg.rf.c12dce5ca861d71dfb30fe477adbf7cd.jpg\n",
            "25-02-15-11-41-43_jpg.rf.415c58b812fe43af836302957a1774a8.jpg\n",
            "25-02-15-11-41-43_jpg.rf.8dd9a3180bb40f35214401a184e9f6b9.jpg\n",
            "25-02-15-11-41-43_jpg.rf.b83a9b31d23144e2736c02b59eb0ee73.jpg\n",
            "25-02-15-11-42-03_jpg.rf.2a6ae6f5256344b0029a0fdfd09d7777.jpg\n",
            "25-02-15-11-42-03_jpg.rf.d39bab5d9e2748f31cf2e8cc59368298.jpg\n",
            "25-02-15-11-42-03_jpg.rf.f6a81fda32675b2775628d324481d8ff.jpg\n",
            "25-02-15-11-42-13_jpg.rf.66e1845f496e1ae40ffce7f4870b2a7a.jpg\n",
            "25-02-15-11-42-13_jpg.rf.c17c9a60ad36afa537b903346630bde4.jpg\n",
            "25-02-15-11-42-13_jpg.rf.c64cfb4cb4e1c584ba03d833b104582c.jpg\n",
            "25-02-15-11-45-21_jpg.rf.4f9ded184612dfe59daa57a3358656ce.jpg\n",
            "25-02-15-11-45-21_jpg.rf.b32d2e4d5de06a91d1178da540e6a4d8.jpg\n",
            "25-02-15-11-45-21_jpg.rf.c87268ba752557f0bc7017e26f8dc300.jpg\n",
            "25-02-15-11-50-05_jpg.rf.37978c1ea47a06a42ec64f2adcb2ff55.jpg\n",
            "25-02-15-11-50-05_jpg.rf.d4efdf6ab5d4eb2e88f65966935ed042.jpg\n",
            "25-02-15-11-51-51_jpg.rf.0b59a6d028d757db9ac45d804486211e.jpg\n",
            "25-02-15-11-51-51_jpg.rf.7b6b4ab8291fcb58a1f7437016f5babd.jpg\n",
            "25-02-15-11-51-51_jpg.rf.cd31a4cd011365bdd55e04bb282dd50c.jpg\n",
            "25-02-15-11-52-02_jpg.rf.2e79a62277173375cc0e80a45cbbf1d8.jpg\n",
            "25-02-15-11-52-02_jpg.rf.a6d106d13bc942f301b8d70b1b6d366d.jpg\n",
            "25-02-15-11-52-02_jpg.rf.fbace97cd3ffd45de540d9fd4e0fafe1.jpg\n",
            "25-02-15-11-52-12_jpg.rf.2f1183a56f698a1e1e711ac69447aeef.jpg\n",
            "25-02-15-11-52-12_jpg.rf.74234bd685d8c2bf14aae0a412fbe075.jpg\n",
            "25-02-15-11-52-12_jpg.rf.cac00cdea66e44919259eba19c767859.jpg\n",
            "25-02-15-11-53-54_jpg.rf.36e31f331bf6c36f7a5b2d6883a38641.jpg\n",
            "25-02-15-11-53-54_jpg.rf.81ace301aeae3e80bc35d88c3e25f070.jpg\n",
            "25-02-15-11-53-54_jpg.rf.cb771358e8c8d5b9d1bb759c598650d2.jpg\n",
            "25-02-15-11-55-25_jpg.rf.0966109d822bb189db7f13288327c778.jpg\n",
            "25-02-15-11-55-25_jpg.rf.8d7259d1b3efcd2d83abe21761a0f34a.jpg\n",
            "25-02-15-11-55-25_jpg.rf.da53618b860053aff1d28617e81babdd.jpg\n",
            "25-02-15-11-57-27_jpg.rf.1d97ff58912249617c375cdc4f2b881e.jpg\n",
            "25-02-15-11-57-27_jpg.rf.a9a0f8c93009c1523ba4b35d12a562e1.jpg\n",
            "25-02-15-11-57-27_jpg.rf.b2a25f4d0ce6aefc763ade9e1f81a89f.jpg\n",
            "25-02-15-11-57-37_jpg.rf.56119535d69184f0acbbfbb2d8ede1e1.jpg\n",
            "25-02-15-11-57-37_jpg.rf.e48e6c7a5d1d81f8e3513a6f845e4959.jpg\n",
            "25-02-15-11-57-37_jpg.rf.f7a3f94251128cab0fb2658906b76715.jpg\n",
            "25-02-15-11-57-57_jpg.rf.39e4374a378635edd59d7f7ee6de1e77.jpg\n",
            "25-02-15-11-57-57_jpg.rf.469bd5043cef3b7a85a0b97da23e0847.jpg\n",
            "25-02-15-11-57-57_jpg.rf.c735513386ad6d61ce4586f8591078e9.jpg\n",
            "25-02-15-11-59-49_jpg.rf.3e93ec0111b4c70fff99d5258d98baec.jpg\n",
            "25-02-15-11-59-49_jpg.rf.887dec0be4013cd10a56b8573a4be8ee.jpg\n",
            "25-02-15-11-59-49_jpg.rf.f9e9b3f4d73649f1a6a498820072ea17.jpg\n",
            "25-02-15-12-01-46_jpg.rf.853b4f3a127d01b531586ecd2cf9c25b.jpg\n",
            "25-02-15-12-01-46_jpg.rf.e5c396b7af8c167a55e2c5082f7b3e83.jpg\n",
            "25-02-15-12-01-46_jpg.rf.e71644f983cf854b4233ed9be1ceff22.jpg\n",
            "25-02-15-12-01-56_jpg.rf.5271aaf23af44d824a15ef2649a18e57.jpg\n",
            "25-02-15-12-01-56_jpg.rf.7cd4a08d349a60230f0a3a8fe63259fe.jpg\n",
            "25-02-15-12-01-56_jpg.rf.e0f92cf666702d635526e1ba8a43df08.jpg\n",
            "25-02-15-12-02-16_jpg.rf.1a573f50be7c64e2ed886f3983f371c4.jpg\n",
            "25-02-15-12-02-16_jpg.rf.2c539537ba2e1e51c553bf46c4365361.jpg\n",
            "25-02-15-12-02-16_jpg.rf.32782ec394650faf5cb5edc9ae006347.jpg\n",
            "25-02-15-12-05-09_jpg.rf.21a77e5bfcc05ac725641f7b1a18772c.jpg\n",
            "25-02-15-12-05-09_jpg.rf.32eed94e01c479db88b7e0d50a2337cb.jpg\n",
            "25-02-15-12-05-09_jpg.rf.5bc2f23a2551cfdf09205f3693f7db7d.jpg\n",
            "25-02-15-12-05-19_jpg.rf.0aee6d7d22283ea9de63762ce9aa8fe3.jpg\n",
            "25-02-15-12-05-19_jpg.rf.9879a72534d541f55c232f6557b33f1c.jpg\n",
            "25-02-15-12-05-19_jpg.rf.cb940fb32ca7da3904da5130a9dab3e1.jpg\n",
            "25-02-15-12-06-40_jpg.rf.25043c3a3274bfda2ea64feca9d61683.jpg\n",
            "25-02-15-12-06-40_jpg.rf.6ae7014ffe1dc3c81248498657171c20.jpg\n",
            "25-02-15-12-06-40_jpg.rf.d54790e5c174b13f45161a6e36d20203.jpg\n",
            "25-02-15-12-07-21_jpg.rf.2d1d6a2e004909fa2f54df6fa5429b0e.jpg\n",
            "25-02-15-12-07-21_jpg.rf.3afc1119e44d9bf844aa2852375b03b0.jpg\n",
            "25-02-15-12-07-21_jpg.rf.70ef5d9df5f78faadb25d8188af3228d.jpg\n",
            "25-02-15-12-09-18_jpg.rf.08fe3fc9b828d56562e905e7c95cf5c8.jpg\n",
            "25-02-15-12-09-18_jpg.rf.7ecc35ebf5afabd1aecc37a29890557c.jpg\n",
            "25-02-15-12-09-18_jpg.rf.811622dc7e2f0cce157da9fb0f786d33.jpg\n",
            "25-02-15-12-10-29_jpg.rf.4cc2d1fe563e1f523a8e98c41f9b6653.jpg\n",
            "25-02-15-12-10-29_jpg.rf.6eaf80d7627d3b2546b6482ae649ec3d.jpg\n",
            "25-02-15-12-10-29_jpg.rf.9dc932fcab4aae45684520ae91895d79.jpg\n",
            "25-02-15-12-10-39_jpg.rf.700c558171b396e1a9ad6eb4f945e82c.jpg\n",
            "25-02-15-12-10-39_jpg.rf.ab0c4a928125f743a41eee34176a32df.jpg\n",
            "25-02-15-12-10-39_jpg.rf.b8e6586462a678767500ff9fc7b42546.jpg\n",
            "25-02-15-12-11-40_jpg.rf.8cf595a9548df1eacea5ace45a4052ca.jpg\n",
            "25-02-15-12-11-40_jpg.rf.e714fa0136ceded26506fc47d701356a.jpg\n",
            "25-02-15-12-12-00_jpg.rf.1f339e374bc5e683b3cc9b350c6acd81.jpg\n",
            "25-02-15-12-12-00_jpg.rf.448310299869da8c9e790e75370c9a92.jpg\n",
            "25-02-15-12-12-00_jpg.rf.584a01cf954a429dfbeccdcc3b6a2eac.jpg\n",
            "25-02-15-12-12-10_jpg.rf.073e52815c3e85fa170df8eba45d97e2.jpg\n",
            "25-02-15-12-12-10_jpg.rf.0cf11afff927dad16bd4fabca55eb5c5.jpg\n",
            "25-02-15-12-12-10_jpg.rf.ef79ecdb9068e86591e2f32cce2c44ce.jpg\n",
            "25-02-15-12-12-31_jpg.rf.01b4d66a9a5f8eb38e7a7d8550382ada.jpg\n",
            "25-02-15-12-12-31_jpg.rf.03deecc57e8600b652e9121d671e7813.jpg\n",
            "25-02-15-12-12-31_jpg.rf.46a8df6a537c74550e955f5c17b54af7.jpg\n",
            "25-02-15-12-13-42_jpg.rf.142916da508e5b12ba175f5a8b7b413b.jpg\n",
            "25-02-15-12-13-42_jpg.rf.767761750bd0f8a0b3f884aab721d58f.jpg\n",
            "25-02-15-12-13-42_jpg.rf.f3d51176420836e2453b9b0aaf44222b.jpg\n",
            "25-02-15-12-14-12_jpg.rf.1e79108d2496e00406e04492375065c1.jpg\n",
            "25-02-15-12-14-12_jpg.rf.a7db831548b709166bd2421999c556c2.jpg\n",
            "25-02-15-12-14-12_jpg.rf.f956b32557f5b211000111f3181ea538.jpg\n",
            "25-02-15-12-15-34_jpg.rf.55258faa9164d0b18f12d6699322eb6f.jpg\n",
            "25-02-15-12-15-34_jpg.rf.c39f4b818bd598ddeb954d04d307f367.jpg\n",
            "25-02-15-12-15-34_jpg.rf.f7d8cf377c36fb8ca2baef0552d7e62c.jpg\n",
            "25-02-15-12-19-22_jpg.rf.4a252891bc0330b1f649f576d5e4c7a1.jpg\n",
            "25-02-15-12-19-22_jpg.rf.d8ae727d27eb72e944471103f21f6f50.jpg\n",
            "25-02-15-12-19-22_jpg.rf.fdb0e04afb91b28401bb7dac025ccb9a.jpg\n",
            "25-02-15-12-19-32_jpg.rf.20a5cdd4c2f6cb813177711e81f8dd74.jpg\n",
            "25-02-15-12-19-32_jpg.rf.85a5dcccb2a0e92f3be096327854bad8.jpg\n",
            "25-02-15-12-19-32_jpg.rf.8fb56129a6dfe789422c90c6f498e801.jpg\n",
            "25-02-15-12-21-34_jpg.rf.0f8bc9851a7611fd687d2eabbdae12a5.jpg\n",
            "25-02-15-12-21-34_jpg.rf.8fb9227ec05ae6f914258b52af98c1c4.jpg\n",
            "25-02-15-12-21-34_jpg.rf.c4ab520afe2404f9702af183b02eb180.jpg\n",
            "25-02-15-12-23-26_jpg.rf.10b67fd733d698a2a80061ccd2368754.jpg\n",
            "25-02-15-12-23-26_jpg.rf.4538a1b5b7ecd98ba373101acf3670d2.jpg\n",
            "25-02-15-12-23-26_jpg.rf.a8fd08c87fff5f9601c4280db2f1d8b3.jpg\n",
            "25-02-15-12-24-07_jpg.rf.16e33d237627598c14a12459ef186e42.jpg\n",
            "25-02-15-12-24-07_jpg.rf.2e3bfda14d1f99b91649e64202c037d3.jpg\n",
            "25-02-15-12-24-07_jpg.rf.d512e1e0101cd9a068c25cbb2d4b33c7.jpg\n",
            "25-02-15-12-24-17_jpg.rf.0bf227ebd296ae4f6fd28781991bb3e9.jpg\n",
            "25-02-15-12-24-17_jpg.rf.5b709aa4c1674798098157f3dc1824ea.jpg\n",
            "25-02-15-12-24-17_jpg.rf.67966d69cc0be85bfe866ab0e38001cd.jpg\n",
            "25-02-15-12-25-38_jpg.rf.05ecd32516175d8d8c4a66cac51b2f36.jpg\n",
            "25-02-15-12-25-38_jpg.rf.3e5944e1715f6283cf526aa3e8960301.jpg\n",
            "25-02-15-12-25-38_jpg.rf.bd304f86fea82e734842d945c65e7cc2.jpg\n",
            "25-02-15-12-28-15_jpg.rf.0a11febb216aa78df1f72c8ee5c084c2.jpg\n",
            "25-02-15-12-28-15_jpg.rf.935c1d64f82f394369991e190460f36c.jpg\n",
            "25-02-15-12-28-15_jpg.rf.d508129efdecf306d6c86fa1f1b0aa2b.jpg\n",
            "25-02-15-12-29-37_jpg.rf.870af2c72b3c9e0cdb13c6c7454910c1.jpg\n",
            "25-02-15-12-29-37_jpg.rf.880073779dad68eb9b800833167a4b2e.jpg\n",
            "25-02-15-12-29-37_jpg.rf.be077054b26e7392519835bf535efa2b.jpg\n",
            "25-02-15-12-29-47_jpg.rf.2c5080bd5c531e98cdc7bfdf211843f8.jpg\n",
            "25-02-15-12-29-47_jpg.rf.48470b032f0011975a93ca5181d09619.jpg\n",
            "25-02-15-12-29-47_jpg.rf.96cd4ab2499f50bdb70cbb2ad5caa6c5.jpg\n",
            "25-02-15-12-30-07_jpg.rf.3309d1f411581a940482e987438ab08c.jpg\n",
            "25-02-15-12-30-07_jpg.rf.64d527d817dde93e6ebd420af46fabf5.jpg\n",
            "25-02-15-12-30-07_jpg.rf.cc1f04bc3cf645bb539c1ebb52b8d00f.jpg\n",
            "25-02-15-12-31-08_jpg.rf.6b0b8da5ab49f0264ed24c30390d5525.jpg\n",
            "25-02-15-12-31-08_jpg.rf.c3e916cdec0c811ee2696e73bed0305e.jpg\n",
            "25-02-15-12-31-08_jpg.rf.fc0ebf27ad602337e705b222508d2b90.jpg\n",
            "25-02-15-12-31-18_jpg.rf.17ae912862ef4deea3d41075ab5a98e0.jpg\n",
            "25-02-15-12-31-18_jpg.rf.30aa0116a2d23ea3591f9a48a17c87bd.jpg\n",
            "25-02-15-12-31-18_jpg.rf.a692a8a1a3e4b90ffa446c9b1607f9e0.jpg\n",
            "25-02-15-12-33-20_jpg.rf.2d3f2ac4418ce5122b91fe3f55a6e4a8.jpg\n",
            "25-02-15-12-33-20_jpg.rf.876d9cebb2592797b50d9233d4bb75af.jpg\n",
            "25-02-15-12-33-20_jpg.rf.a5ca083c5b7ec9c0fb6019e2ad855b68.jpg\n",
            "25-02-15-12-33-30_jpg.rf.0c6a494c7fc2c5442290074fd4f2ec2f.jpg\n",
            "25-02-15-12-33-30_jpg.rf.ab4c9f67403a3d4c42821d25d0ead05a.jpg\n",
            "25-02-15-12-33-30_jpg.rf.c8513bd6f859284add326173dabf0cb2.jpg\n",
            "25-02-15-12-34-01_jpg.rf.67730fddb84c197bf6b1e3b4a1132ef5.jpg\n",
            "25-02-15-12-34-01_jpg.rf.94ab3da57b3c4aaf98e747f329c431d9.jpg\n",
            "25-02-15-12-34-01_jpg.rf.c0a55fcd98458b30dcebf4f3293fde1b.jpg\n",
            "25-02-15-12-34-11_jpg.rf.27dc0e7cd402ad3e4b406ea0e63d9725.jpg\n",
            "25-02-15-12-34-11_jpg.rf.cbb192fe528276927b3cd50f1c628f7a.jpg\n",
            "25-02-15-12-34-11_jpg.rf.ecc15b99f75371d0022238732cfa1361.jpg\n",
            "25-02-15-12-36-38_jpg.rf.2c852ab09fa090f2c8310c83a0db3644.jpg\n",
            "25-02-15-12-36-38_jpg.rf.6ffd61606d11314f97bb4ab8dbc0bf04.jpg\n",
            "25-02-15-12-36-38_jpg.rf.921ba84e2e84ef8db19d7b9e02957340.jpg\n",
            "25-02-15-12-38-00_jpg.rf.a096996082c7307c195a6b7c3a15c2b7.jpg\n",
            "25-02-15-12-38-00_jpg.rf.af003169a863e7830d68a209f893c154.jpg\n",
            "25-02-15-12-38-00_jpg.rf.f87bea43f1ca1b53231abd505da0f66a.jpg\n",
            "25-02-15-12-38-10_jpg.rf.17f9a32cdacd9fa14c45c900bd77d764.jpg\n",
            "25-02-15-12-38-10_jpg.rf.8fd94b7ebc025fb7ff1f3f0621afa7e5.jpg\n",
            "25-02-15-12-38-10_jpg.rf.c8fcea4be6d30523c1b201580356871b.jpg\n",
            "25-02-15-12-39-51_jpg.rf.03cb4d7442c1da7ad271225e5a03170d.jpg\n",
            "25-02-15-12-39-51_jpg.rf.4cc82b4b5474c0a86d6db424a343a3cb.jpg\n",
            "25-02-15-12-39-51_jpg.rf.a49b651fd65ceb8e220167ce2ef83647.jpg\n",
            "25-02-15-12-40-22_jpg.rf.5d22b71dbb04bc6b3b2d1e5a82dc32a6.jpg\n",
            "25-02-15-12-40-22_jpg.rf.e34e67aa10e6ee3b86608949f81e1d5e.jpg\n",
            "25-02-15-12-42-34_jpg.rf.02e2ffffe9edb4ad1c0886faed9d6d58.jpg\n",
            "25-02-15-12-42-34_jpg.rf.85421d32b675cce3a5414af320b61bf4.jpg\n",
            "25-02-15-12-42-34_jpg.rf.bcd61dc476283c752a03509011c61327.jpg\n",
            "25-02-15-12-44-51_jpg.rf.004b4a263108e34c6fe38405962edfe0.jpg\n",
            "25-02-15-12-44-51_jpg.rf.77c3a2c695862d99485246f0bf65612f.jpg\n",
            "25-02-15-12-44-51_jpg.rf.8f866a26a7a0951f2ddc23534a983793.jpg\n",
            "25-02-15-12-45-01_jpg.rf.412780dbf3f9bc22916ce6debe53dcb3.jpg\n",
            "25-02-15-12-45-01_jpg.rf.d9147d22501f18970bcf340fa33e34e1.jpg\n",
            "25-02-15-12-45-01_jpg.rf.fbba1689e5c6cc117faa784c2b84e600.jpg\n",
            "25-02-15-12-47-03_jpg.rf.9026d80d81397844001364edbaf97efd.jpg\n",
            "25-02-15-12-47-03_jpg.rf.b4c989a91428a6e6feacb29dee5befa3.jpg\n",
            "25-02-15-12-47-03_jpg.rf.d1961d455fe3a86245c02a0a2e14c578.jpg\n",
            "25-02-15-12-47-13_jpg.rf.6019aba11f507ad984f122bec36c09e1.jpg\n",
            "25-02-15-12-47-13_jpg.rf.9ab7fc4aa89cba48bac3c0e99366885e.jpg\n",
            "25-02-15-12-47-13_jpg.rf.c021ba0b8272ea57d9732437cbd53d0f.jpg\n",
            "25-02-15-12-48-55_jpg.rf.4c042178b2bee72c3a0eab50b859739b.jpg\n",
            "25-02-15-12-48-55_jpg.rf.55a99412f79ebd9bd3966bbb45ada653.jpg\n",
            "25-02-15-12-48-55_jpg.rf.a193239a071cd4366cb76bcfb07854ca.jpg\n",
            "25-02-15-12-49-05_jpg.rf.218eb5b07ac3e4bb4507f816464eae8a.jpg\n",
            "25-02-15-12-49-05_jpg.rf.554eb72da4e79b940ed7340c8afecba1.jpg\n",
            "25-02-15-12-49-05_jpg.rf.8504c92f80ac54170fdd5fb0899831c9.jpg\n",
            "25-02-15-12-50-47_jpg.rf.21575d06121c4f55972062b758cf6063.jpg\n",
            "25-02-15-12-50-47_jpg.rf.88c99dccdbdb44ebc4fa7d2c061bdf18.jpg\n",
            "25-02-15-12-52-23_jpg.rf.848f64753d3ca402be288a9f5655b6aa.jpg\n",
            "25-02-15-12-52-23_jpg.rf.b39e7655a790ccffb3853fd5a126d253.jpg\n",
            "25-02-15-12-52-23_jpg.rf.eb47ff3c3d8321df70b9526284aaf89f.jpg\n",
            "25-02-15-12-54-56_jpg.rf.025db4e15d271a8f4e23d4419b8a2fbd.jpg\n",
            "25-02-15-12-54-56_jpg.rf.a321cead5104bc77b1ac2ecba2d13cec.jpg\n",
            "25-02-15-12-54-56_jpg.rf.a3c90b7296a57aee46dbef369c87bbd4.jpg\n",
            "25-02-15-12-55-16_jpg.rf.4b2e62f7a2673e902af82ae0cb789445.jpg\n",
            "25-02-15-12-55-16_jpg.rf.844796aff873d7edbd53d7aaad4fd68d.jpg\n",
            "25-02-15-12-55-16_jpg.rf.9ddabbe7d410896bc21ccf8e2a6a0dbd.jpg\n",
            "25-02-15-12-56-37_jpg.rf.409327319049f177e8fd01196b57eb48.jpg\n",
            "25-02-15-12-56-37_jpg.rf.a044349fb834cfe9f1c90f0730bfad99.jpg\n",
            "25-02-15-12-57-28_jpg.rf.319f81ded9df760d52b22422323ea112.jpg\n",
            "25-02-15-12-57-28_jpg.rf.760f38592740dc750f4822181bd6e45a.jpg\n",
            "25-02-15-12-57-28_jpg.rf.9d5a5f86d966931fb5d61159aebe30b1.jpg\n",
            "25-02-15-12-57-38_jpg.rf.2182dcad70a1299c503a613ed6b2869e.jpg\n",
            "25-02-15-12-57-38_jpg.rf.34601f057ec17743840433aea60efafe.jpg\n",
            "25-02-15-12-57-38_jpg.rf.f68104cc3ae2cc4611110900ac8c978b.jpg\n",
            "25-02-15-12-59-00_jpg.rf.12f414ed8c576aa14424c258fbfad01b.jpg\n",
            "25-02-15-12-59-00_jpg.rf.42e65de9bdde528ea45b0da92e4faf63.jpg\n",
            "25-02-15-12-59-00_jpg.rf.dc53fc0b49663b1a6d9698f70e572c45.jpg\n",
            "25-02-15-12-59-30_jpg.rf.6a147ab9e8617f001e0a20eb35b21af8.jpg\n",
            "25-02-15-12-59-30_jpg.rf.a2ba058fde61be2e6539c40ccc3eddc5.jpg\n",
            "25-02-15-12-59-30_jpg.rf.ffef24d7174e57ce72b0992866065f8e.jpg\n",
            "25-02-15-13-02-48_jpg.rf.58c209fe2caf38f07eca595bac4f6089.jpg\n",
            "25-02-15-13-02-48_jpg.rf.bf0c2127360a2683e2ada6b672cd7f26.jpg\n",
            "25-02-15-13-02-48_jpg.rf.f6283843a48a0e066c745fadc3d181ff.jpg\n",
            "25-02-15-13-03-08_jpg.rf.12c170fb5d41b3a5e50b9add34869fb0.jpg\n",
            "25-02-15-13-03-08_jpg.rf.19934e9448036238c63da864aeb248fb.jpg\n",
            "25-02-15-13-03-08_jpg.rf.e6f1ca53ef18f082bbe515f626ad09b8.jpg\n",
            "25-02-15-13-03-18_jpg.rf.b0a5ed1038b9f6bfb514582bf80f0bb2.jpg\n",
            "25-02-15-13-03-18_jpg.rf.bd229e5b4725b99bee2920c81804cd2d.jpg\n",
            "25-02-15-13-03-18_jpg.rf.ea02478a450587a9dccc1840f5d0c74c.jpg\n",
            "25-02-15-13-05-41_jpg.rf.1a37b5ec1ac5acf3b53ea5a415d80459.jpg\n",
            "25-02-15-13-05-41_jpg.rf.3b17580c96cbc2f07a5c7ea32438b916.jpg\n",
            "25-02-15-13-05-41_jpg.rf.54dcbb94c386d1f6ceb930451b972a94.jpg\n",
            "25-02-15-13-06-01_jpg.rf.92d260dfb6898568bbe61abc0e3d18d3.jpg\n",
            "25-02-15-13-06-01_jpg.rf.b1d465444407db9be33af6696743134f.jpg\n",
            "25-02-15-13-06-01_jpg.rf.b7254d8936574a9d0c9a3a09b5f1c629.jpg\n",
            "25-02-15-13-07-53_jpg.rf.021fd7fb244871b9d42a8e9a2d9c1331.jpg\n",
            "25-02-15-13-07-53_jpg.rf.0a58785d7fcbabc7ea85197306801108.jpg\n",
            "25-02-15-13-07-53_jpg.rf.5bb32cfbd4395d7e06440d4876ddd437.jpg\n",
            "25-02-15-13-08-03_jpg.rf.135a7b313495f69d2c776f43b72fafe0.jpg\n",
            "25-02-15-13-08-03_jpg.rf.53e94506057fc4e22dad1a90bd5fa5ef.jpg\n",
            "25-02-15-13-08-03_jpg.rf.c53546c183a26097a8da7b37dbe1c9c4.jpg\n",
            "25-02-15-13-08-13_jpg.rf.b1512975eded09ff4367a6f95af00bf2.jpg\n",
            "25-02-15-13-08-13_jpg.rf.d2fdaf428a283bbbd20d48920be078d6.jpg\n",
            "25-02-15-13-08-13_jpg.rf.e91450b30128466e3e2c9b449075d079.jpg\n",
            "25-02-15-13-08-33_jpg.rf.885ab007d5094a270c51c08bc62e591b.jpg\n",
            "25-02-15-13-08-33_jpg.rf.c01a595a48060359fb9801ba542fb9fa.jpg\n",
            "25-02-15-13-08-33_jpg.rf.d45532943c4481009763c7e2557e4ae1.jpg\n",
            "25-02-15-13-09-50_jpg.rf.05cabb10d15c425a73e391c6320a5c26.jpg\n",
            "25-02-15-13-09-50_jpg.rf.85b8b2c9efc70fcd0efd1c6e5b597d7a.jpg\n",
            "25-02-15-13-09-50_jpg.rf.9b506ad210f7739d81fdaed29dcac11a.jpg\n",
            "25-02-15-13-10-20_jpg.rf.04b1477f355438fc37779da4b167b031.jpg\n",
            "25-02-15-13-10-20_jpg.rf.b5201961f3295fca92da0d83361ec60b.jpg\n",
            "25-02-15-13-10-20_jpg.rf.eb858ce801991b55c39e42cca56a3428.jpg\n",
            "25-02-15-13-13-23_jpg.rf.649a60002b333615423d0b950fafef17.jpg\n",
            "25-02-15-13-13-23_jpg.rf.b3aedddac8dadb59a9e7d77db2417870.jpg\n",
            "25-02-15-13-13-23_jpg.rf.e82daf5ca3ef9174de1238c7b55aeeda.jpg\n",
            "25-02-15-13-14-04_jpg.rf.624980ca8eef12f6746c5149ff0c33df.jpg\n",
            "25-02-15-13-14-04_jpg.rf.946b0eb6f2e974cc99193037b71d013e.jpg\n",
            "25-02-15-13-14-04_jpg.rf.dab44745c0ed79546ba90f7d4e24fc3d.jpg\n",
            "25-02-15-13-15-25_jpg.rf.02a3d32d65fdb351948c66563b68b4a7.jpg\n",
            "25-02-15-13-15-25_jpg.rf.5c2a65b211c43bd4a0f9f5b3de3068d9.jpg\n",
            "25-02-15-13-15-25_jpg.rf.fd8a47b1a419553162f3080362edd56a.jpg\n",
            "25-02-15-13-15-45_jpg.rf.4c186743f2b4559b39bc3d1a51dc1976.jpg\n",
            "25-02-15-13-15-45_jpg.rf.6fd1f585806f8aa19f627b9e042e48b1.jpg\n",
            "25-02-15-13-15-45_jpg.rf.aead8ea23a501d1d0aedce159de57e3c.jpg\n",
            "25-02-15-13-15-55_jpg.rf.090baa894d0713f7a8ded620d7b18c6d.jpg\n",
            "25-02-15-13-15-55_jpg.rf.77c9a9bba0b215f54a60f509e81ad86f.jpg\n",
            "25-02-15-13-15-55_jpg.rf.f7f711143541d98907a26da6081cc54c.jpg\n",
            "25-02-15-13-17-06_jpg.rf.2263ff0c2540d21811a696c049b4541a.jpg\n",
            "25-02-15-13-17-06_jpg.rf.22ccfb010f7368be854041fff994b2bd.jpg\n",
            "25-02-15-13-17-06_jpg.rf.91ab325eebc7521de535848ca177b383.jpg\n",
            "25-02-15-13-19-54_jpg.rf.96882acf827e4527c2f8e9cd66c94602.jpg\n",
            "25-02-15-13-19-54_jpg.rf.ae36d8a815beb375562b8e77f973d6d6.jpg\n",
            "25-02-15-13-19-54_jpg.rf.af74c2f07bcb6edc81461cd40f58fb61.jpg\n",
            "25-02-15-13-21-46_jpg.rf.195e0ca50c952ac5b5397ab350e9900c.jpg\n",
            "25-02-15-13-21-46_jpg.rf.7d696f580f92a9560f012be91a2c77b7.jpg\n",
            "25-02-15-13-21-46_jpg.rf.f920e3a7882dfc2f6c6686deb3e63082.jpg\n",
            "25-02-15-13-25-19_jpg.rf.16d30379c4d367cc3b26d9b5cf402e80.jpg\n",
            "25-02-15-13-25-19_jpg.rf.d54fda5e393d3405fb8b98a984c40c4d.jpg\n",
            "25-02-15-13-25-19_jpg.rf.da977ac40835b848c7a902b7694560e2.jpg\n",
            "25-02-15-13-27-36_jpg.rf.28230f8dafaee65821e96867ac33dcc6.jpg\n",
            "25-02-15-13-27-36_jpg.rf.a8c4114ea346c713ac4f4549688c649a.jpg\n",
            "25-02-15-13-27-36_jpg.rf.e25eb491b4d045548b0e4b5d16e5e48e.jpg\n",
            "25-02-15-13-29-18_jpg.rf.22a34528f6651d887ba8bbe36e63819d.jpg\n",
            "25-02-15-13-29-18_jpg.rf.6ce1adf86b363a08a7e18733407ea820.jpg\n",
            "25-02-15-13-29-18_jpg.rf.f3d09f6a815d3dd5b6ed89afe95d2023.jpg\n",
            "25-02-15-13-29-48_jpg.rf.24cd206c3a2535780d3411607016fa89.jpg\n",
            "25-02-15-13-29-48_jpg.rf.5ebe306fb248eb522f3659b4a4c8011f.jpg\n",
            "25-02-15-13-29-48_jpg.rf.f60eaeee135d0bc8fefd7514fe7ea77a.jpg\n",
            "25-02-15-13-30-39_jpg.rf.84278b307b9e015d337244b4ea00b5b3.jpg\n",
            "25-02-15-13-30-39_jpg.rf.abaf90ce2415ca5314f17a22c9387847.jpg\n",
            "25-02-15-13-30-39_jpg.rf.c799b1301bdbb1cb39fad20821c44dd3.jpg\n",
            "25-02-15-13-31-50_jpg.rf.0b2c10e40e324f6da8a6ac98c14b5cfc.jpg\n",
            "25-02-15-13-31-50_jpg.rf.c2d785e6118525e581a6413a81922c1c.jpg\n",
            "25-02-15-13-31-50_jpg.rf.ff96bd47ab68597a2b5d20cd997df166.jpg\n",
            "25-02-15-13-32-00_jpg.rf.16980ef6c4f93069b6fd2f5a78b2593f.jpg\n",
            "25-02-15-13-32-00_jpg.rf.871fec1b3b485bf004c15990a194a5af.jpg\n",
            "25-02-15-13-32-00_jpg.rf.b7099c22b0b52a3e494456bcea6bf73d.jpg\n",
            "25-02-15-13-32-41_jpg.rf.335b34397e1485e22a5d471ba306c878.jpg\n",
            "25-02-15-13-32-41_jpg.rf.498279e10a39eca73c6e1ad2e5e1cfba.jpg\n",
            "25-02-15-13-32-41_jpg.rf.a2c7a44e5bccf8d6773a10caa6658ea9.jpg\n",
            "25-02-15-13-33-42_jpg.rf.6536818cc4328988016960a9d8354a3c.jpg\n",
            "25-02-15-13-33-42_jpg.rf.c38ba14ea2b7ac9753054c4bd275f633.jpg\n",
            "25-02-15-13-33-42_jpg.rf.e2fa4bcfc7b264ac25347a94ac9e36e1.jpg\n",
            "25-02-15-13-33-52_jpg.rf.2f8ce40ddfdf07907805bacacf1e6190.jpg\n",
            "25-02-15-13-33-52_jpg.rf.3091b30ee80a208eea8e2478919cd5d4.jpg\n",
            "25-02-15-13-33-52_jpg.rf.3ff08550d3d434e9c72354af42885525.jpg\n",
            "25-02-15-13-34-48_jpg.rf.0184b100038687befc168a998495e2e2.jpg\n",
            "25-02-15-13-34-48_jpg.rf.8762a186527b9d2b9cf6ed5491fa9dc0.jpg\n",
            "25-02-15-13-34-48_jpg.rf.d290110697598a3ca127397cb838eb8e.jpg\n",
            "25-02-15-13-34-58_jpg.rf.790b74fbff371d28a229846879fa5240.jpg\n",
            "25-02-15-13-34-58_jpg.rf.aba5acdecbbad7f4e57f3d4322a2bfe4.jpg\n",
            "25-02-15-13-34-58_jpg.rf.dcb56383003a07780b4808d3870dd4b4.jpg\n",
            "25-02-15-13-35-18_jpg.rf.1d346924b3419073c30696db207cfdfe.jpg\n",
            "25-02-15-13-35-18_jpg.rf.1f0cfeca2051c3fbbb6b9e9c0ebe55c1.jpg\n",
            "25-02-15-13-35-18_jpg.rf.658366e991a3a9c3024f1deed4790976.jpg\n",
            "25-02-15-13-36-09_jpg.rf.318208fe5b3b85e1d93a42f0439913eb.jpg\n",
            "25-02-15-13-36-09_jpg.rf.9b3a7f44194924890e4138c2a04f3632.jpg\n",
            "25-02-15-13-36-09_jpg.rf.db11388dda4b81f96e3b2d17f5946c32.jpg\n",
            "25-02-15-13-40-54_jpg.rf.6ca7334ab5555ec30c1caa94796aec50.jpg\n",
            "25-02-15-13-40-54_jpg.rf.7c1980de55bac01d0dd524b40257fb6e.jpg\n",
            "25-02-15-13-40-54_jpg.rf.b38867902428c9bfe47cc7b01623a861.jpg\n",
            "25-02-15-13-42-35_jpg.rf.278f514fe7d2d051444915e27252d631.jpg\n",
            "25-02-15-13-42-35_jpg.rf.36354a43edc8a1dc986fff683642d104.jpg\n",
            "25-02-15-13-42-35_jpg.rf.a5eadf7a4f8c54dfa1517f0b9115b4a0.jpg\n",
            "25-02-15-13-43-00_jpg.rf.095448f5b966270632cb5112560f4446.jpg\n",
            "25-02-15-13-43-00_jpg.rf.79655b7acd4bd7ba3e0b07b9bd489657.jpg\n",
            "25-02-15-13-43-00_jpg.rf.c10e5063cf3e947b91a5302e1b8eb34f.jpg\n",
            "25-02-15-13-44-22_jpg.rf.0897be8e77dd37d727562b32ccba444c.jpg\n",
            "25-02-15-13-44-22_jpg.rf.9ebe513bc02773165af7fc2926ae4973.jpg\n",
            "25-02-15-13-44-22_jpg.rf.cb486af5b3f55ba797c8890fd9a328ac.jpg\n",
            "25-02-15-13-44-32_jpg.rf.695d6e54d30b2719ec533a810dfb2d64.jpg\n",
            "25-02-15-13-44-32_jpg.rf.d3645391d2061d0ab2fb275522dca751.jpg\n",
            "25-02-15-13-44-32_jpg.rf.f684ed78bee631bd428f63ce93143286.jpg\n",
            "25-02-15-13-46-24_jpg.rf.2acf1b60abd359bfb4fb522c0e929494.jpg\n",
            "25-02-15-13-46-24_jpg.rf.40be34494b77ba928468b9b67bf5e506.jpg\n",
            "25-02-15-13-46-24_jpg.rf.ba8be6f2f21894c6752b69d54632ea14.jpg\n",
            "25-02-15-13-46-34_jpg.rf.a0b9a3a9b19b74d0375bbb4964f3e9d3.jpg\n",
            "25-02-15-13-46-34_jpg.rf.ee7448425791d4fd5b345c3e9145eebf.jpg\n",
            "25-02-15-13-48-36_jpg.rf.1713b43d595886cf2059dbfbb022b091.jpg\n",
            "25-02-15-13-48-36_jpg.rf.59d134fbf85265dbe2be7d8fbb81f8cd.jpg\n",
            "25-02-15-13-48-36_jpg.rf.f7e6011d54ba2987d5e5bb4dc22bc500.jpg\n",
            "25-02-15-13-52-14_jpg.rf.55559caede9948d767ce496de533127e.jpg\n",
            "25-02-15-13-52-14_jpg.rf.747a8aefd51203498b33d32290dc7ff2.jpg\n",
            "25-02-15-13-52-45_jpg.rf.1855346337dadedf45131025b27bce5a.jpg\n",
            "25-02-15-13-52-45_jpg.rf.40d5a2dc8188ba99c2c44b722218b110.jpg\n",
            "25-02-15-13-52-45_jpg.rf.a87548d4037b6cf87402894ba1c46e8a.jpg\n",
            "25-02-15-13-52-55_jpg.rf.83a8b0d7b5e9a2aa1f2d0a0ab2a4fe1b.jpg\n",
            "25-02-15-13-52-55_jpg.rf.df5343864a3888f459f9d258c76559f0.jpg\n",
            "25-02-15-13-52-55_jpg.rf.f3729424a45cb94f123ac150d528bd58.jpg\n",
            "25-02-15-13-54-26_jpg.rf.4e9bf196df75e1bccb957a05099d8e7e.jpg\n",
            "25-02-15-13-54-26_jpg.rf.ee0448b4e356810595c3682e71991049.jpg\n",
            "25-02-15-13-54-26_jpg.rf.f0bf0937e7be31deff2a9c786a1a83f0.jpg\n",
            "25-02-15-13-56-08_jpg.rf.522d8d8c7704a5a747d5a25026d080c2.jpg\n",
            "25-02-15-13-56-08_jpg.rf.670711905c13628ea89b210a687b2635.jpg\n",
            "25-02-15-13-56-08_jpg.rf.95f245e81a03dbe08b045da2d6d353af.jpg\n",
            "25-02-15-14-00-17_jpg.rf.4f95778db58ce5792a1b78a31a421a90.jpg\n",
            "25-02-15-14-00-17_jpg.rf.f64b2592ba0878b56c841da3aea31a9c.jpg\n",
            "25-02-15-14-00-17_jpg.rf.fa891f858ed4723f620bdd151bd02a0e.jpg\n",
            "25-02-15-14-02-39_jpg.rf.1c19bfca9dbc2e964fd0eb3e7740ae1a.jpg\n",
            "25-02-15-14-02-39_jpg.rf.768986cc3b0615b4991707bd714a8bf6.jpg\n",
            "25-02-15-14-02-39_jpg.rf.e3fe5c53b626f092187d2660be169fa4.jpg\n",
            "25-02-15-14-03-50_jpg.rf.53bc836c3b59d9ed77daeb0ee23b1ae5.jpg\n",
            "25-02-15-14-03-50_jpg.rf.c8c8d21c2b4a63dc838f3a6fc75a4fef.jpg\n",
            "25-02-15-14-03-50_jpg.rf.fd6a6de3183066efccfcdb53325382d7.jpg\n",
            "25-02-15-14-05-31_jpg.rf.56347ac15513e4b460470be9accc6261.jpg\n",
            "25-02-15-14-05-31_jpg.rf.ea5911ec131efefe4b05a02fd8675994.jpg\n",
            "25-02-15-14-05-31_jpg.rf.ea9103852a1b568945fcacac9eca4432.jpg\n",
            "25-02-15-14-07-33_jpg.rf.418f4390c436dc499bd6fb360fb70d82.jpg\n",
            "25-02-15-14-07-33_jpg.rf.9662b6004ea45f4814fab09082c15a62.jpg\n",
            "25-02-15-14-07-33_jpg.rf.a86366041dbb52f42ff92d25d1bb0270.jpg\n",
            "25-02-15-14-08-04_jpg.rf.19919303b1760155925e2bed156b9d42.jpg\n",
            "25-02-15-14-08-04_jpg.rf.75bca3d00d6208d988980468f368c17b.jpg\n",
            "25-02-15-14-08-04_jpg.rf.e76ffb6b46baf4b396308065e9f16f92.jpg\n",
            "25-02-15-14-09-20_jpg.rf.35798a3faecb2747d09d9e8cdeef2e62.jpg\n",
            "25-02-15-14-09-20_jpg.rf.38049a0590bdcedd6732e23ca1404d03.jpg\n",
            "25-02-15-14-09-20_jpg.rf.8dad324377fd4e2b140ed19890a3e497.jpg\n",
            "25-02-15-14-09-30_jpg.rf.008d086a72da3421f488d36777ad3457.jpg\n",
            "25-02-15-14-09-30_jpg.rf.111d42e2ff5f45aeff1107cb03b091d4.jpg\n",
            "25-02-15-14-09-30_jpg.rf.dc49520b29381ff75ea5acbfd5d9d3c0.jpg\n",
            "25-02-15-14-11-52_jpg.rf.5d0c101ce0fa22bc2a15e4346fc418e8.jpg\n",
            "25-02-15-14-11-52_jpg.rf.5e00b7d56071dcb734a69a8ebb344296.jpg\n",
            "25-02-15-14-11-52_jpg.rf.d0aa044d190dbd13d24295c0809d57c4.jpg\n",
            "25-02-15-14-12-13_jpg.rf.d5b0a05806e57721801902222b53cccb.jpg\n",
            "25-02-15-14-12-13_jpg.rf.e5749334ed2b09592c4ad75165c399bb.jpg\n",
            "25-02-15-14-12-13_jpg.rf.ee7c353361c0e0d4def15bc7b00a669f.jpg\n",
            "25-02-15-14-13-34_jpg.rf.bd56311609280c469d6c89a6adf2272d.jpg\n",
            "25-02-15-14-13-34_jpg.rf.cbcdcdc00872127fee35210c6302129f.jpg\n",
            "25-02-15-14-13-34_jpg.rf.d555999985c127dd2476ef5041af5c28.jpg\n",
            "25-02-15-14-13-44_jpg.rf.976899a09c0ea53446059777887598dc.jpg\n",
            "25-02-15-14-13-44_jpg.rf.a7c307ad3868bd4c1ca3f8e4e86c20b5.jpg\n",
            "25-02-15-14-13-44_jpg.rf.ca68e598688b29669b4884c7585bc138.jpg\n",
            "25-02-15-14-13-54_jpg.rf.07ac4d12d071e64828a0fc003c5fac52.jpg\n",
            "25-02-15-14-13-54_jpg.rf.2e834b44a91decde69cb541c809641b7.jpg\n",
            "25-02-15-14-13-54_jpg.rf.c17c8962449b43a74d211971e7a12989.jpg\n",
            "25-02-15-14-15-26_jpg.rf.5f69b0bc572f7ed9f6e4c2aee25633dc.jpg\n",
            "25-02-15-14-15-26_jpg.rf.707edafbf8108bc168650c0d6c114d1b.jpg\n",
            "25-02-15-14-15-26_jpg.rf.dc8c30e44300264f778c8e179ce0ccb1.jpg\n",
            "25-02-15-14-17-33_jpg.rf.243d5723c7b2e60599b0c3b132940b01.jpg\n",
            "25-02-15-14-17-33_jpg.rf.63b89a97aeac6eac6a76f59f1ae4bbf1.jpg\n",
            "25-02-15-14-17-33_jpg.rf.cfb3de2991d52d2cc109f7a20f5f1bc6.jpg\n",
            "25-02-15-14-19-35_jpg.rf.c3bc7a91917d36c0ed6eb03ad10e94ce.jpg\n",
            "25-02-15-14-19-35_jpg.rf.c776cdc3e43436b19b21ce034f7b9a9e.jpg\n",
            "25-02-15-14-19-35_jpg.rf.e014bdbb05cf751994a7ce664db50f60.jpg\n",
            "25-02-15-14-19-55_jpg.rf.02fd01ef057cc861739bfefe29ec0ad5.jpg\n",
            "25-02-15-14-19-55_jpg.rf.d6ca8472f347294dcb7b8a073512e952.jpg\n",
            "25-02-15-14-19-55_jpg.rf.fa25112eecf5b13226c82c11be00ecdf.jpg\n",
            "25-02-15-14-20-05_jpg.rf.22d224fe42ca81ededb0f74fcbb6c9e8.jpg\n",
            "25-02-15-14-20-05_jpg.rf.4b16888220c6f6726739eb4e54e53443.jpg\n",
            "25-02-15-14-20-05_jpg.rf.e6e1eb0aa3e2d8b2d923bd4385982d6b.jpg\n",
            "25-02-15-14-21-36_jpg.rf.39ddded168615d0e59049ae4eac5b50a.jpg\n",
            "25-02-15-14-21-36_jpg.rf.6d836084a419770c9ebeb2fece48a9d3.jpg\n",
            "25-02-15-14-23-18_jpg.rf.30a6af5424d385498427c13277c296bf.jpg\n",
            "25-02-15-14-23-18_jpg.rf.cb3b4a80a3712472f514c008bbf3d071.jpg\n",
            "25-02-15-14-23-18_jpg.rf.e29442e04402ee5f6281a852b1d9b716.jpg\n",
            "25-02-15-14-25-45_jpg.rf.30d98d2cb3831830fca848a6f9287b00.jpg\n",
            "25-02-15-14-25-45_jpg.rf.972af073651e6dcabe1f5dfe1a6e48c8.jpg\n",
            "25-02-15-14-25-45_jpg.rf.d8f9c0b4fa280af12f669e634451855b.jpg\n",
            "25-02-15-14-26-05_jpg.rf.20051666eed02134a830e9a965af9fb3.jpg\n",
            "25-02-15-14-26-05_jpg.rf.59c100851e65182550909229e4236834.jpg\n",
            "25-02-15-14-26-05_jpg.rf.5eda0ec172c67cfdb37413e43b99435c.jpg\n",
            "25-02-15-14-27-47_jpg.rf.bdace4e219cd8ac1365114bae93c5239.jpg\n",
            "25-02-15-14-27-47_jpg.rf.e8decca19806db76bfb73d98f5e23c10.jpg\n",
            "25-02-15-14-27-47_jpg.rf.ef8c1cff7a49f76b7c6ea17d1b8b6d63.jpg\n",
            "25-02-15-14-27-57_jpg.rf.251cddf2ca8f576f0cda48e58246005b.jpg\n",
            "25-02-15-14-27-57_jpg.rf.64ce863b427fff1502388ce7c61439af.jpg\n",
            "25-02-15-14-27-57_jpg.rf.6649617d9000791136d952b5e3a68147.jpg\n",
            "25-02-15-14-28-07_jpg.rf.620aba4157e81071d0385a61398a2ac7.jpg\n",
            "25-02-15-14-28-07_jpg.rf.9cb59413f68c59c7de909e1aef7d735d.jpg\n",
            "25-02-15-14-28-07_jpg.rf.bddd611cb6c52dfbec393d8fad571cd0.jpg\n",
            "25-02-15-14-28-38_jpg.rf.d048ae9f7e71db323c2d2cf00f9c23f9.jpg\n",
            "25-02-15-14-28-38_jpg.rf.db4ef6b20b0982345ad51d974202ddc5.jpg\n",
            "25-02-15-14-28-38_jpg.rf.f9171aec7dd4a8bbe63735aa2815088b.jpg\n",
            "25-02-15-14-29-08_jpg.rf.0d3ac11efa659410bf0f0bf3e60e8722.jpg\n",
            "25-02-15-14-29-08_jpg.rf.1228b27ca5eb9bc0b2fd03fe74c9ade2.jpg\n",
            "25-02-15-14-29-08_jpg.rf.28cd45834db50ec57239f879bb9b43c8.jpg\n",
            "25-02-15-14-31-20_jpg.rf.b8a76e8c80aa6550c25543b681998894.jpg\n",
            "25-02-15-14-31-20_jpg.rf.c132c4609f7539a3e39845e4df1c4d04.jpg\n",
            "25-02-15-14-31-20_jpg.rf.e134629d8515ed0ccbc760ec1d07ff38.jpg\n",
            "25-02-15-14-31-31_jpg.rf.762945af454a42c93f8dd5f23ea52fca.jpg\n",
            "25-02-15-14-31-31_jpg.rf.ba7cd4876b423c2d7e8a4db236ff2911.jpg\n",
            "25-02-15-14-31-31_jpg.rf.f6ea9533184561c6f20faed7f8bb6ef8.jpg\n",
            "25-02-15-14-33-32_jpg.rf.0d9c1fdff6049726a708fa09f25b06d3.jpg\n",
            "25-02-15-14-33-32_jpg.rf.773b1733d5c03b6954459dcf0868d275.jpg\n",
            "25-02-15-14-33-32_jpg.rf.cbfda5503d39207efd772246439edafa.jpg\n",
            "25-02-15-14-34-03_jpg.rf.330a00ba3ba21f297b633790a0060e36.jpg\n",
            "25-02-15-14-34-03_jpg.rf.61f7bdb890b4cb410e1d0b13b2d39247.jpg\n",
            "25-02-15-14-34-03_jpg.rf.80a98067168203c5386c8c162a18313d.jpg\n",
            "25-02-15-14-34-28_jpg.rf.43766bcc2a3e02539ee285a68ad57ce2.jpg\n",
            "25-02-15-14-34-28_jpg.rf.e4d2ee67cad6b90d060925023c13b097.jpg\n",
            "25-02-15-14-34-28_jpg.rf.f15b1a32764fb6daf9283f82061df2d4.jpg\n",
            "25-02-15-14-34-38_jpg.rf.26d63e73fb3b0e05a981eb887e727856.jpg\n",
            "25-02-15-14-34-38_jpg.rf.c70faa80f6b6ac106ba4f26191dc3a26.jpg\n",
            "25-02-15-14-37-41_jpg.rf.7c888ff8bede91ec08801138816f0492.jpg\n",
            "25-02-15-14-37-41_jpg.rf.8b33f24e69c21f5c67883f7f6e5b9157.jpg\n",
            "25-02-15-14-37-41_jpg.rf.f69d340bed36fbd256ca9229a6817126.jpg\n",
            "25-02-15-14-38-01_jpg.rf.21cf0276b67f552e26c7046e462f0f80.jpg\n",
            "25-02-15-14-38-01_jpg.rf.261f4fa14e7b94a28fd2e32023fc07cf.jpg\n",
            "25-02-15-14-38-01_jpg.rf.629c18e6aefc26dab064664999bb760c.jpg\n",
            "25-02-15-14-39-23_jpg.rf.3cd428ce86fae04c9d4151f056d65986.jpg\n",
            "25-02-15-14-39-23_jpg.rf.597ef576dac1e594b9e87056228b3d98.jpg\n",
            "25-02-15-14-39-23_jpg.rf.7a14b0536285563ca8cc005c832bfef2.jpg\n",
            "25-02-15-14-40-24_jpg.rf.4e52158614d28eebd02ba31f6a56c331.jpg\n",
            "25-02-15-14-40-24_jpg.rf.c33b8984e396c826924e8808dbca6405.jpg\n",
            "25-02-15-14-40-24_jpg.rf.f2b9fa6dbb6e097505f79b35bdfe78a7.jpg\n",
            "25-02-15-14-40-44_jpg.rf.4464e3b908c489ceaada1d01a8730fbe.jpg\n",
            "25-02-15-14-40-44_jpg.rf.d36d986b3ed19c4b5f007d56f343335a.jpg\n",
            "25-02-15-14-40-44_jpg.rf.f872730d26bdda93b6f0d76f9035de91.jpg\n",
            "25-02-15-14-41-14_jpg.rf.9c0d2c5ce246a09e1ffe417a92f4d437.jpg\n",
            "25-02-15-14-41-14_jpg.rf.d833c7aa419f681940a4091c20ede02c.jpg\n",
            "25-02-15-14-41-14_jpg.rf.dcf060d3869c9409db5ea6f9aab22928.jpg\n",
            "25-02-15-14-42-36_jpg.rf.5ab0a54a8e2d4adda79506279666fe9b.jpg\n",
            "25-02-15-14-42-36_jpg.rf.5f6d46ade5123e04a61358bbce1dbe78.jpg\n",
            "25-02-15-14-42-36_jpg.rf.86c57f44bbf35ad67d0a77a5b7e3ea30.jpg\n",
            "25-02-15-14-46-55_jpg.rf.37c62b5b122507b0a99538e16cc78aff.jpg\n",
            "25-02-15-14-46-55_jpg.rf.9eb849a647aa81dc1fe64cb6ce05f347.jpg\n",
            "25-02-15-14-46-55_jpg.rf.f6226d17546dcd944a87e30580cad507.jpg\n",
            "25-02-15-14-49-07_jpg.rf.63e4fdae5c9a41df3cc013235fefd8e6.jpg\n",
            "25-02-15-14-49-07_jpg.rf.fc47cfcf630f52bb02fc93745f3d22b3.jpg\n",
            "25-02-15-14-49-07_jpg.rf.fe3416a578d80d8fe578ea84a2b3492d.jpg\n",
            "25-02-15-14-49-17_jpg.rf.12075052e8a6d3afb016472840de4fc7.jpg\n",
            "25-02-15-14-49-17_jpg.rf.6766768adbe267e447013f3b555545a6.jpg\n",
            "25-02-15-14-49-17_jpg.rf.84ed389fdc3d124defb9756f35e3079d.jpg\n",
            "25-02-15-14-50-18_jpg.rf.4fab74a004d442dfe741661f35db50eb.jpg\n",
            "25-02-15-14-50-18_jpg.rf.98dc028b840b70aea3f48fca3724ee43.jpg\n",
            "25-02-15-14-50-18_jpg.rf.dc9595073222f064af16c2a22f23650f.jpg\n",
            "25-02-15-15-07-54_jpg.rf.679584bdb97d7a999e4d77db3087cd2a.jpg\n",
            "25-02-15-15-07-54_jpg.rf.cdf004a6a50d076bb4bc946eb9e835f9.jpg\n",
            "25-02-15-15-07-54_jpg.rf.e6a47c10240c0b20fe6d6922c23252b9.jpg\n",
            "25-02-15-15-19-55_jpg.rf.07527320eea79b86badad2bf33fbd835.jpg\n",
            "25-02-15-15-19-55_jpg.rf.23f3127eb3e9dd34233b19985af59f4d.jpg\n",
            "25-02-15-15-19-55_jpg.rf.9d25be15ea0bd6e0e0517f07ea0b18c5.jpg\n",
            "25-02-15-15-34-59_jpg.rf.3a70862af648484261404c1c43e12df1.jpg\n",
            "25-02-15-15-34-59_jpg.rf.3ca37bf138ea0c3e8a923ffb807e0a53.jpg\n",
            "25-02-15-15-34-59_jpg.rf.bda99f256fd45d213f1226df2ce7bb73.jpg\n",
            "25-02-15-15-41-15_jpg.rf.c6721c2569f6dbd09ccf41a35b4bca71.jpg\n",
            "25-02-15-15-41-15_jpg.rf.dbfe4f5531c97f2759a0b456982b7450.jpg\n",
            "25-02-15-15-41-15_jpg.rf.f3cf458562d9cd21500f090de163699b.jpg\n",
            "\n",
            "/content/Cloud-detection-1.0-4/train/labels:\n",
            "25-02-15-11-02-25_jpg.rf.41452e9a72f58065948f1c6bad8f8e0e.txt\n",
            "25-02-15-11-02-25_jpg.rf.679914b2e4e9eb6aa6446a16cbd9d4d7.txt\n",
            "25-02-15-11-02-25_jpg.rf.eda10808df61fca1a2e626790df2d1bf.txt\n",
            "25-02-15-11-02-36_jpg.rf.0a30cdc9f2e10b65286ca8723493a215.txt\n",
            "25-02-15-11-02-36_jpg.rf.760396dc5cc36521d59e9f5669d88b48.txt\n",
            "25-02-15-11-02-36_jpg.rf.9c60d0b977eb4e8c34cca3884396bf25.txt\n",
            "25-02-15-11-05-28_jpg.rf.17c503485831ddb7ac42d9f793bd8c85.txt\n",
            "25-02-15-11-05-28_jpg.rf.18509bbff82d050711d34d1d5433d75d.txt\n",
            "25-02-15-11-05-28_jpg.rf.240df6d28e19f003a8fe97d8f955bdd4.txt\n",
            "25-02-15-11-07-00_jpg.rf.66a8c1d610ba768cc97ee52a9f3bf98e.txt\n",
            "25-02-15-11-07-00_jpg.rf.c55534668588f4174481c089a1439f24.txt\n",
            "25-02-15-11-07-00_jpg.rf.f59072b0be81ef96a849ad40393de150.txt\n",
            "25-02-15-11-09-07_jpg.rf.59dff832cd056cec1be98a4214919f71.txt\n",
            "25-02-15-11-09-07_jpg.rf.7bde8f5c3092dc3a12f45e3d92947415.txt\n",
            "25-02-15-11-09-07_jpg.rf.8f26a029679fbc526f4da7cca471a0e0.txt\n",
            "25-02-15-11-09-17_jpg.rf.51c3df3e9e3323e93e373e189dba52d0.txt\n",
            "25-02-15-11-09-17_jpg.rf.60a09d1b78fc282a2f3d5fa58020697b.txt\n",
            "25-02-15-11-09-17_jpg.rf.9d3907749193ffd7abd5717467ce00aa.txt\n",
            "25-02-15-11-10-08_jpg.rf.519cc1d144a3042cf895add4fa0eb1f4.txt\n",
            "25-02-15-11-10-08_jpg.rf.cd33582302dba32971f931bb44d0e8a7.txt\n",
            "25-02-15-11-10-08_jpg.rf.d27d9ea3ff936bd4848ce2991809f752.txt\n",
            "25-02-15-11-10-18_jpg.rf.00c2c36baf7529283b5ba516549a17fd.txt\n",
            "25-02-15-11-10-18_jpg.rf.150229f3ac52d7b07c89b11207e10c68.txt\n",
            "25-02-15-11-10-18_jpg.rf.86bfef61c1c83f05e0f24ec7f52c0f28.txt\n",
            "25-02-15-11-11-49_jpg.rf.7038032defef3e571fcc5f88d424ca6e.txt\n",
            "25-02-15-11-11-49_jpg.rf.9e60d1ba41cb9fd4246554726e1dd251.txt\n",
            "25-02-15-11-11-49_jpg.rf.eb0e2a7afaef0c87957bfba83f950109.txt\n",
            "25-02-15-11-12-30_jpg.rf.2ea4218e53d6d7351ee820aa8f09f446.txt\n",
            "25-02-15-11-12-30_jpg.rf.44579b11d571b69f0474b350e636ef23.txt\n",
            "25-02-15-11-12-30_jpg.rf.7685371c205592593670fa2acebce705.txt\n",
            "25-02-15-11-15-03_jpg.rf.6210da01787526ec8ede750e12304fff.txt\n",
            "25-02-15-11-15-03_jpg.rf.a1611647b83274d4c3039eb2590e87a1.txt\n",
            "25-02-15-11-15-03_jpg.rf.f42162b79c029c9dad4a3bd1b629e22e.txt\n",
            "25-02-15-11-15-13_jpg.rf.0890c3d45e7cb26dd74b7da222cc8f6b.txt\n",
            "25-02-15-11-15-13_jpg.rf.5f5d8a1b746cf3bc57fbdacb3eb65136.txt\n",
            "25-02-15-11-15-13_jpg.rf.d26cc4308a21e505e3c17b7254364758.txt\n",
            "25-02-15-11-16-44_jpg.rf.1097a2ed92b06b7f7283eb25bba2196e.txt\n",
            "25-02-15-11-16-44_jpg.rf.1916c9c276c3371e257ddd6f5986d0af.txt\n",
            "25-02-15-11-16-44_jpg.rf.a3f7e81b28d7c1ccb2c50e85f7a715fe.txt\n",
            "25-02-15-11-17-04_jpg.rf.4ca837a4deff95c9ebe81a5b638b06ef.txt\n",
            "25-02-15-11-17-04_jpg.rf.5c97b97f3eab84aafe8b3da7ebbc1c96.txt\n",
            "25-02-15-11-17-04_jpg.rf.8f286f0d53ecc946eae6cc1fd7bd5410.txt\n",
            "25-02-15-11-20-22_jpg.rf.175919e775250c11741b92d1b82dedcc.txt\n",
            "25-02-15-11-20-22_jpg.rf.2f4df698ea10253c226a6db32217a8b4.txt\n",
            "25-02-15-11-20-22_jpg.rf.d2db13728e2457074fb2500e52a0721b.txt\n",
            "25-02-15-11-20-53_jpg.rf.035f73872d64b144d9534a71627c7b3b.txt\n",
            "25-02-15-11-20-53_jpg.rf.5b0950475513b6525f338fec27015ce7.txt\n",
            "25-02-15-11-20-53_jpg.rf.6771091b6570a96a9bc3981327270f2e.txt\n",
            "25-02-15-11-21-03_jpg.rf.1c837c6926d3e4210a93cc46a5ec34b6.txt\n",
            "25-02-15-11-21-03_jpg.rf.21e3dddec3075cb831572f72077b7dfb.txt\n",
            "25-02-15-11-21-03_jpg.rf.f1f3827ce13fb77dc0229b40306b2f22.txt\n",
            "25-02-15-11-21-13_jpg.rf.469fd361ee771754a2a259612b8bcc2c.txt\n",
            "25-02-15-11-21-13_jpg.rf.75cdf4bd4ec465d48deb65a3b61b4a70.txt\n",
            "25-02-15-11-21-13_jpg.rf.f2efc5d8e4153e6409b6e84ca78b554f.txt\n",
            "25-02-15-11-23-05_jpg.rf.04f0e71b78ca64f9f02511b0616cab55.txt\n",
            "25-02-15-11-23-05_jpg.rf.af6282b8ba27c5dea6d1908a3d4fe125.txt\n",
            "25-02-15-11-23-05_jpg.rf.f62c319842a13260c06e6918d72913e8.txt\n",
            "25-02-15-11-24-36_jpg.rf.1891e8429103d2cca244d72cd230e469.txt\n",
            "25-02-15-11-24-36_jpg.rf.5a6c71cce732fc1f1d908482fdc6a8e1.txt\n",
            "25-02-15-11-24-36_jpg.rf.94ce460cb1875a11dfd8d15ea5c8471d.txt\n",
            "25-02-15-11-25-17_jpg.rf.1923043e8a86b299cb4cbc5a91fa4546.txt\n",
            "25-02-15-11-25-17_jpg.rf.240d468c9d09c8eff01bafe63ba275bf.txt\n",
            "25-02-15-11-25-17_jpg.rf.d9d0ad3983467f53734b35f2eb72f98c.txt\n",
            "25-02-15-11-25-58_jpg.rf.1ef87505a382ef52ca273e5eb1039c05.txt\n",
            "25-02-15-11-25-58_jpg.rf.2f1946129a634250cb73070c5302c57d.txt\n",
            "25-02-15-11-25-58_jpg.rf.a3d7853cf9d8cf0eff6f33106d28a9e2.txt\n",
            "25-02-15-11-29-06_jpg.rf.2e68ac07e743fb1954f9b78ea20bd70b.txt\n",
            "25-02-15-11-29-06_jpg.rf.9dd1023016edcc63291b912009fa328f.txt\n",
            "25-02-15-11-29-06_jpg.rf.b739b2cd424f8e75c46028e2802b08cf.txt\n",
            "25-02-15-11-31-28_jpg.rf.45f9f581c48a3e58f9264485c37c0444.txt\n",
            "25-02-15-11-31-28_jpg.rf.4ba0cc21289a94c4180987382583aff0.txt\n",
            "25-02-15-11-31-28_jpg.rf.fefcd1e7b28869e4e123f49591226fb4.txt\n",
            "25-02-15-11-33-10_jpg.rf.20218c70e76211bff9faeda9c8dd8a6e.txt\n",
            "25-02-15-11-33-10_jpg.rf.7518b87ff08d713468d8a8a86dfe86bf.txt\n",
            "25-02-15-11-33-10_jpg.rf.bef293a4d587cf3c8a06236acb4f63e2.txt\n",
            "25-02-15-11-34-21_jpg.rf.1332981c8665d46f109f21d3c3fb45e3.txt\n",
            "25-02-15-11-34-21_jpg.rf.187c0139b6c59d9d00dd2910dd27645a.txt\n",
            "25-02-15-11-34-21_jpg.rf.c456b7cf8584cccfff0aee60fddfed2e.txt\n",
            "25-02-15-11-34-31_jpg.rf.9b30b445d71042d52ab2d87d6a458c7b.txt\n",
            "25-02-15-11-34-31_jpg.rf.a08de6e4c487a93aec5f5be4a1a69095.txt\n",
            "25-02-15-11-34-31_jpg.rf.ec9ad415eaa36a0c5d3f5ff0e3881c43.txt\n",
            "25-02-15-11-37-49_jpg.rf.3ed6dcd2c34a0a0755e26640b9f4c2a1.txt\n",
            "25-02-15-11-37-49_jpg.rf.789edfe2e5f2df89d2764ce13926dff0.txt\n",
            "25-02-15-11-37-49_jpg.rf.8b747a12a124ccf582b4639306768a54.txt\n",
            "25-02-15-11-37-59_jpg.rf.4f2041f568a9f601b117e3638e8ff277.txt\n",
            "25-02-15-11-37-59_jpg.rf.c12dce5ca861d71dfb30fe477adbf7cd.txt\n",
            "25-02-15-11-41-43_jpg.rf.415c58b812fe43af836302957a1774a8.txt\n",
            "25-02-15-11-41-43_jpg.rf.8dd9a3180bb40f35214401a184e9f6b9.txt\n",
            "25-02-15-11-41-43_jpg.rf.b83a9b31d23144e2736c02b59eb0ee73.txt\n",
            "25-02-15-11-42-03_jpg.rf.2a6ae6f5256344b0029a0fdfd09d7777.txt\n",
            "25-02-15-11-42-03_jpg.rf.d39bab5d9e2748f31cf2e8cc59368298.txt\n",
            "25-02-15-11-42-03_jpg.rf.f6a81fda32675b2775628d324481d8ff.txt\n",
            "25-02-15-11-42-13_jpg.rf.66e1845f496e1ae40ffce7f4870b2a7a.txt\n",
            "25-02-15-11-42-13_jpg.rf.c17c9a60ad36afa537b903346630bde4.txt\n",
            "25-02-15-11-42-13_jpg.rf.c64cfb4cb4e1c584ba03d833b104582c.txt\n",
            "25-02-15-11-45-21_jpg.rf.4f9ded184612dfe59daa57a3358656ce.txt\n",
            "25-02-15-11-45-21_jpg.rf.b32d2e4d5de06a91d1178da540e6a4d8.txt\n",
            "25-02-15-11-45-21_jpg.rf.c87268ba752557f0bc7017e26f8dc300.txt\n",
            "25-02-15-11-50-05_jpg.rf.37978c1ea47a06a42ec64f2adcb2ff55.txt\n",
            "25-02-15-11-50-05_jpg.rf.d4efdf6ab5d4eb2e88f65966935ed042.txt\n",
            "25-02-15-11-51-51_jpg.rf.0b59a6d028d757db9ac45d804486211e.txt\n",
            "25-02-15-11-51-51_jpg.rf.7b6b4ab8291fcb58a1f7437016f5babd.txt\n",
            "25-02-15-11-51-51_jpg.rf.cd31a4cd011365bdd55e04bb282dd50c.txt\n",
            "25-02-15-11-52-02_jpg.rf.2e79a62277173375cc0e80a45cbbf1d8.txt\n",
            "25-02-15-11-52-02_jpg.rf.a6d106d13bc942f301b8d70b1b6d366d.txt\n",
            "25-02-15-11-52-02_jpg.rf.fbace97cd3ffd45de540d9fd4e0fafe1.txt\n",
            "25-02-15-11-52-12_jpg.rf.2f1183a56f698a1e1e711ac69447aeef.txt\n",
            "25-02-15-11-52-12_jpg.rf.74234bd685d8c2bf14aae0a412fbe075.txt\n",
            "25-02-15-11-52-12_jpg.rf.cac00cdea66e44919259eba19c767859.txt\n",
            "25-02-15-11-53-54_jpg.rf.36e31f331bf6c36f7a5b2d6883a38641.txt\n",
            "25-02-15-11-53-54_jpg.rf.81ace301aeae3e80bc35d88c3e25f070.txt\n",
            "25-02-15-11-53-54_jpg.rf.cb771358e8c8d5b9d1bb759c598650d2.txt\n",
            "25-02-15-11-55-25_jpg.rf.0966109d822bb189db7f13288327c778.txt\n",
            "25-02-15-11-55-25_jpg.rf.8d7259d1b3efcd2d83abe21761a0f34a.txt\n",
            "25-02-15-11-55-25_jpg.rf.da53618b860053aff1d28617e81babdd.txt\n",
            "25-02-15-11-57-27_jpg.rf.1d97ff58912249617c375cdc4f2b881e.txt\n",
            "25-02-15-11-57-27_jpg.rf.a9a0f8c93009c1523ba4b35d12a562e1.txt\n",
            "25-02-15-11-57-27_jpg.rf.b2a25f4d0ce6aefc763ade9e1f81a89f.txt\n",
            "25-02-15-11-57-37_jpg.rf.56119535d69184f0acbbfbb2d8ede1e1.txt\n",
            "25-02-15-11-57-37_jpg.rf.e48e6c7a5d1d81f8e3513a6f845e4959.txt\n",
            "25-02-15-11-57-37_jpg.rf.f7a3f94251128cab0fb2658906b76715.txt\n",
            "25-02-15-11-57-57_jpg.rf.39e4374a378635edd59d7f7ee6de1e77.txt\n",
            "25-02-15-11-57-57_jpg.rf.469bd5043cef3b7a85a0b97da23e0847.txt\n",
            "25-02-15-11-57-57_jpg.rf.c735513386ad6d61ce4586f8591078e9.txt\n",
            "25-02-15-11-59-49_jpg.rf.3e93ec0111b4c70fff99d5258d98baec.txt\n",
            "25-02-15-11-59-49_jpg.rf.887dec0be4013cd10a56b8573a4be8ee.txt\n",
            "25-02-15-11-59-49_jpg.rf.f9e9b3f4d73649f1a6a498820072ea17.txt\n",
            "25-02-15-12-01-46_jpg.rf.853b4f3a127d01b531586ecd2cf9c25b.txt\n",
            "25-02-15-12-01-46_jpg.rf.e5c396b7af8c167a55e2c5082f7b3e83.txt\n",
            "25-02-15-12-01-46_jpg.rf.e71644f983cf854b4233ed9be1ceff22.txt\n",
            "25-02-15-12-01-56_jpg.rf.5271aaf23af44d824a15ef2649a18e57.txt\n",
            "25-02-15-12-01-56_jpg.rf.7cd4a08d349a60230f0a3a8fe63259fe.txt\n",
            "25-02-15-12-01-56_jpg.rf.e0f92cf666702d635526e1ba8a43df08.txt\n",
            "25-02-15-12-02-16_jpg.rf.1a573f50be7c64e2ed886f3983f371c4.txt\n",
            "25-02-15-12-02-16_jpg.rf.2c539537ba2e1e51c553bf46c4365361.txt\n",
            "25-02-15-12-02-16_jpg.rf.32782ec394650faf5cb5edc9ae006347.txt\n",
            "25-02-15-12-05-09_jpg.rf.21a77e5bfcc05ac725641f7b1a18772c.txt\n",
            "25-02-15-12-05-09_jpg.rf.32eed94e01c479db88b7e0d50a2337cb.txt\n",
            "25-02-15-12-05-09_jpg.rf.5bc2f23a2551cfdf09205f3693f7db7d.txt\n",
            "25-02-15-12-05-19_jpg.rf.0aee6d7d22283ea9de63762ce9aa8fe3.txt\n",
            "25-02-15-12-05-19_jpg.rf.9879a72534d541f55c232f6557b33f1c.txt\n",
            "25-02-15-12-05-19_jpg.rf.cb940fb32ca7da3904da5130a9dab3e1.txt\n",
            "25-02-15-12-06-40_jpg.rf.25043c3a3274bfda2ea64feca9d61683.txt\n",
            "25-02-15-12-06-40_jpg.rf.6ae7014ffe1dc3c81248498657171c20.txt\n",
            "25-02-15-12-06-40_jpg.rf.d54790e5c174b13f45161a6e36d20203.txt\n",
            "25-02-15-12-07-21_jpg.rf.2d1d6a2e004909fa2f54df6fa5429b0e.txt\n",
            "25-02-15-12-07-21_jpg.rf.3afc1119e44d9bf844aa2852375b03b0.txt\n",
            "25-02-15-12-07-21_jpg.rf.70ef5d9df5f78faadb25d8188af3228d.txt\n",
            "25-02-15-12-09-18_jpg.rf.08fe3fc9b828d56562e905e7c95cf5c8.txt\n",
            "25-02-15-12-09-18_jpg.rf.7ecc35ebf5afabd1aecc37a29890557c.txt\n",
            "25-02-15-12-09-18_jpg.rf.811622dc7e2f0cce157da9fb0f786d33.txt\n",
            "25-02-15-12-10-29_jpg.rf.4cc2d1fe563e1f523a8e98c41f9b6653.txt\n",
            "25-02-15-12-10-29_jpg.rf.6eaf80d7627d3b2546b6482ae649ec3d.txt\n",
            "25-02-15-12-10-29_jpg.rf.9dc932fcab4aae45684520ae91895d79.txt\n",
            "25-02-15-12-10-39_jpg.rf.700c558171b396e1a9ad6eb4f945e82c.txt\n",
            "25-02-15-12-10-39_jpg.rf.ab0c4a928125f743a41eee34176a32df.txt\n",
            "25-02-15-12-10-39_jpg.rf.b8e6586462a678767500ff9fc7b42546.txt\n",
            "25-02-15-12-11-40_jpg.rf.8cf595a9548df1eacea5ace45a4052ca.txt\n",
            "25-02-15-12-11-40_jpg.rf.e714fa0136ceded26506fc47d701356a.txt\n",
            "25-02-15-12-12-00_jpg.rf.1f339e374bc5e683b3cc9b350c6acd81.txt\n",
            "25-02-15-12-12-00_jpg.rf.448310299869da8c9e790e75370c9a92.txt\n",
            "25-02-15-12-12-00_jpg.rf.584a01cf954a429dfbeccdcc3b6a2eac.txt\n",
            "25-02-15-12-12-10_jpg.rf.073e52815c3e85fa170df8eba45d97e2.txt\n",
            "25-02-15-12-12-10_jpg.rf.0cf11afff927dad16bd4fabca55eb5c5.txt\n",
            "25-02-15-12-12-10_jpg.rf.ef79ecdb9068e86591e2f32cce2c44ce.txt\n",
            "25-02-15-12-12-31_jpg.rf.01b4d66a9a5f8eb38e7a7d8550382ada.txt\n",
            "25-02-15-12-12-31_jpg.rf.03deecc57e8600b652e9121d671e7813.txt\n",
            "25-02-15-12-12-31_jpg.rf.46a8df6a537c74550e955f5c17b54af7.txt\n",
            "25-02-15-12-13-42_jpg.rf.142916da508e5b12ba175f5a8b7b413b.txt\n",
            "25-02-15-12-13-42_jpg.rf.767761750bd0f8a0b3f884aab721d58f.txt\n",
            "25-02-15-12-13-42_jpg.rf.f3d51176420836e2453b9b0aaf44222b.txt\n",
            "25-02-15-12-14-12_jpg.rf.1e79108d2496e00406e04492375065c1.txt\n",
            "25-02-15-12-14-12_jpg.rf.a7db831548b709166bd2421999c556c2.txt\n",
            "25-02-15-12-14-12_jpg.rf.f956b32557f5b211000111f3181ea538.txt\n",
            "25-02-15-12-15-34_jpg.rf.55258faa9164d0b18f12d6699322eb6f.txt\n",
            "25-02-15-12-15-34_jpg.rf.c39f4b818bd598ddeb954d04d307f367.txt\n",
            "25-02-15-12-15-34_jpg.rf.f7d8cf377c36fb8ca2baef0552d7e62c.txt\n",
            "25-02-15-12-19-22_jpg.rf.4a252891bc0330b1f649f576d5e4c7a1.txt\n",
            "25-02-15-12-19-22_jpg.rf.d8ae727d27eb72e944471103f21f6f50.txt\n",
            "25-02-15-12-19-22_jpg.rf.fdb0e04afb91b28401bb7dac025ccb9a.txt\n",
            "25-02-15-12-19-32_jpg.rf.20a5cdd4c2f6cb813177711e81f8dd74.txt\n",
            "25-02-15-12-19-32_jpg.rf.85a5dcccb2a0e92f3be096327854bad8.txt\n",
            "25-02-15-12-19-32_jpg.rf.8fb56129a6dfe789422c90c6f498e801.txt\n",
            "25-02-15-12-21-34_jpg.rf.0f8bc9851a7611fd687d2eabbdae12a5.txt\n",
            "25-02-15-12-21-34_jpg.rf.8fb9227ec05ae6f914258b52af98c1c4.txt\n",
            "25-02-15-12-21-34_jpg.rf.c4ab520afe2404f9702af183b02eb180.txt\n",
            "25-02-15-12-23-26_jpg.rf.10b67fd733d698a2a80061ccd2368754.txt\n",
            "25-02-15-12-23-26_jpg.rf.4538a1b5b7ecd98ba373101acf3670d2.txt\n",
            "25-02-15-12-23-26_jpg.rf.a8fd08c87fff5f9601c4280db2f1d8b3.txt\n",
            "25-02-15-12-24-07_jpg.rf.16e33d237627598c14a12459ef186e42.txt\n",
            "25-02-15-12-24-07_jpg.rf.2e3bfda14d1f99b91649e64202c037d3.txt\n",
            "25-02-15-12-24-07_jpg.rf.d512e1e0101cd9a068c25cbb2d4b33c7.txt\n",
            "25-02-15-12-24-17_jpg.rf.0bf227ebd296ae4f6fd28781991bb3e9.txt\n",
            "25-02-15-12-24-17_jpg.rf.5b709aa4c1674798098157f3dc1824ea.txt\n",
            "25-02-15-12-24-17_jpg.rf.67966d69cc0be85bfe866ab0e38001cd.txt\n",
            "25-02-15-12-25-38_jpg.rf.05ecd32516175d8d8c4a66cac51b2f36.txt\n",
            "25-02-15-12-25-38_jpg.rf.3e5944e1715f6283cf526aa3e8960301.txt\n",
            "25-02-15-12-25-38_jpg.rf.bd304f86fea82e734842d945c65e7cc2.txt\n",
            "25-02-15-12-28-15_jpg.rf.0a11febb216aa78df1f72c8ee5c084c2.txt\n",
            "25-02-15-12-28-15_jpg.rf.935c1d64f82f394369991e190460f36c.txt\n",
            "25-02-15-12-28-15_jpg.rf.d508129efdecf306d6c86fa1f1b0aa2b.txt\n",
            "25-02-15-12-29-37_jpg.rf.870af2c72b3c9e0cdb13c6c7454910c1.txt\n",
            "25-02-15-12-29-37_jpg.rf.880073779dad68eb9b800833167a4b2e.txt\n",
            "25-02-15-12-29-37_jpg.rf.be077054b26e7392519835bf535efa2b.txt\n",
            "25-02-15-12-29-47_jpg.rf.2c5080bd5c531e98cdc7bfdf211843f8.txt\n",
            "25-02-15-12-29-47_jpg.rf.48470b032f0011975a93ca5181d09619.txt\n",
            "25-02-15-12-29-47_jpg.rf.96cd4ab2499f50bdb70cbb2ad5caa6c5.txt\n",
            "25-02-15-12-30-07_jpg.rf.3309d1f411581a940482e987438ab08c.txt\n",
            "25-02-15-12-30-07_jpg.rf.64d527d817dde93e6ebd420af46fabf5.txt\n",
            "25-02-15-12-30-07_jpg.rf.cc1f04bc3cf645bb539c1ebb52b8d00f.txt\n",
            "25-02-15-12-31-08_jpg.rf.6b0b8da5ab49f0264ed24c30390d5525.txt\n",
            "25-02-15-12-31-08_jpg.rf.c3e916cdec0c811ee2696e73bed0305e.txt\n",
            "25-02-15-12-31-08_jpg.rf.fc0ebf27ad602337e705b222508d2b90.txt\n",
            "25-02-15-12-31-18_jpg.rf.17ae912862ef4deea3d41075ab5a98e0.txt\n",
            "25-02-15-12-31-18_jpg.rf.30aa0116a2d23ea3591f9a48a17c87bd.txt\n",
            "25-02-15-12-31-18_jpg.rf.a692a8a1a3e4b90ffa446c9b1607f9e0.txt\n",
            "25-02-15-12-33-20_jpg.rf.2d3f2ac4418ce5122b91fe3f55a6e4a8.txt\n",
            "25-02-15-12-33-20_jpg.rf.876d9cebb2592797b50d9233d4bb75af.txt\n",
            "25-02-15-12-33-20_jpg.rf.a5ca083c5b7ec9c0fb6019e2ad855b68.txt\n",
            "25-02-15-12-33-30_jpg.rf.0c6a494c7fc2c5442290074fd4f2ec2f.txt\n",
            "25-02-15-12-33-30_jpg.rf.ab4c9f67403a3d4c42821d25d0ead05a.txt\n",
            "25-02-15-12-33-30_jpg.rf.c8513bd6f859284add326173dabf0cb2.txt\n",
            "25-02-15-12-34-01_jpg.rf.67730fddb84c197bf6b1e3b4a1132ef5.txt\n",
            "25-02-15-12-34-01_jpg.rf.94ab3da57b3c4aaf98e747f329c431d9.txt\n",
            "25-02-15-12-34-01_jpg.rf.c0a55fcd98458b30dcebf4f3293fde1b.txt\n",
            "25-02-15-12-34-11_jpg.rf.27dc0e7cd402ad3e4b406ea0e63d9725.txt\n",
            "25-02-15-12-34-11_jpg.rf.cbb192fe528276927b3cd50f1c628f7a.txt\n",
            "25-02-15-12-34-11_jpg.rf.ecc15b99f75371d0022238732cfa1361.txt\n",
            "25-02-15-12-36-38_jpg.rf.2c852ab09fa090f2c8310c83a0db3644.txt\n",
            "25-02-15-12-36-38_jpg.rf.6ffd61606d11314f97bb4ab8dbc0bf04.txt\n",
            "25-02-15-12-36-38_jpg.rf.921ba84e2e84ef8db19d7b9e02957340.txt\n",
            "25-02-15-12-38-00_jpg.rf.a096996082c7307c195a6b7c3a15c2b7.txt\n",
            "25-02-15-12-38-00_jpg.rf.af003169a863e7830d68a209f893c154.txt\n",
            "25-02-15-12-38-00_jpg.rf.f87bea43f1ca1b53231abd505da0f66a.txt\n",
            "25-02-15-12-38-10_jpg.rf.17f9a32cdacd9fa14c45c900bd77d764.txt\n",
            "25-02-15-12-38-10_jpg.rf.8fd94b7ebc025fb7ff1f3f0621afa7e5.txt\n",
            "25-02-15-12-38-10_jpg.rf.c8fcea4be6d30523c1b201580356871b.txt\n",
            "25-02-15-12-39-51_jpg.rf.03cb4d7442c1da7ad271225e5a03170d.txt\n",
            "25-02-15-12-39-51_jpg.rf.4cc82b4b5474c0a86d6db424a343a3cb.txt\n",
            "25-02-15-12-39-51_jpg.rf.a49b651fd65ceb8e220167ce2ef83647.txt\n",
            "25-02-15-12-40-22_jpg.rf.5d22b71dbb04bc6b3b2d1e5a82dc32a6.txt\n",
            "25-02-15-12-40-22_jpg.rf.e34e67aa10e6ee3b86608949f81e1d5e.txt\n",
            "25-02-15-12-42-34_jpg.rf.02e2ffffe9edb4ad1c0886faed9d6d58.txt\n",
            "25-02-15-12-42-34_jpg.rf.85421d32b675cce3a5414af320b61bf4.txt\n",
            "25-02-15-12-42-34_jpg.rf.bcd61dc476283c752a03509011c61327.txt\n",
            "25-02-15-12-44-51_jpg.rf.004b4a263108e34c6fe38405962edfe0.txt\n",
            "25-02-15-12-44-51_jpg.rf.77c3a2c695862d99485246f0bf65612f.txt\n",
            "25-02-15-12-44-51_jpg.rf.8f866a26a7a0951f2ddc23534a983793.txt\n",
            "25-02-15-12-45-01_jpg.rf.412780dbf3f9bc22916ce6debe53dcb3.txt\n",
            "25-02-15-12-45-01_jpg.rf.d9147d22501f18970bcf340fa33e34e1.txt\n",
            "25-02-15-12-45-01_jpg.rf.fbba1689e5c6cc117faa784c2b84e600.txt\n",
            "25-02-15-12-47-03_jpg.rf.9026d80d81397844001364edbaf97efd.txt\n",
            "25-02-15-12-47-03_jpg.rf.b4c989a91428a6e6feacb29dee5befa3.txt\n",
            "25-02-15-12-47-03_jpg.rf.d1961d455fe3a86245c02a0a2e14c578.txt\n",
            "25-02-15-12-47-13_jpg.rf.6019aba11f507ad984f122bec36c09e1.txt\n",
            "25-02-15-12-47-13_jpg.rf.9ab7fc4aa89cba48bac3c0e99366885e.txt\n",
            "25-02-15-12-47-13_jpg.rf.c021ba0b8272ea57d9732437cbd53d0f.txt\n",
            "25-02-15-12-48-55_jpg.rf.4c042178b2bee72c3a0eab50b859739b.txt\n",
            "25-02-15-12-48-55_jpg.rf.55a99412f79ebd9bd3966bbb45ada653.txt\n",
            "25-02-15-12-48-55_jpg.rf.a193239a071cd4366cb76bcfb07854ca.txt\n",
            "25-02-15-12-49-05_jpg.rf.218eb5b07ac3e4bb4507f816464eae8a.txt\n",
            "25-02-15-12-49-05_jpg.rf.554eb72da4e79b940ed7340c8afecba1.txt\n",
            "25-02-15-12-49-05_jpg.rf.8504c92f80ac54170fdd5fb0899831c9.txt\n",
            "25-02-15-12-50-47_jpg.rf.21575d06121c4f55972062b758cf6063.txt\n",
            "25-02-15-12-50-47_jpg.rf.88c99dccdbdb44ebc4fa7d2c061bdf18.txt\n",
            "25-02-15-12-52-23_jpg.rf.848f64753d3ca402be288a9f5655b6aa.txt\n",
            "25-02-15-12-52-23_jpg.rf.b39e7655a790ccffb3853fd5a126d253.txt\n",
            "25-02-15-12-52-23_jpg.rf.eb47ff3c3d8321df70b9526284aaf89f.txt\n",
            "25-02-15-12-54-56_jpg.rf.025db4e15d271a8f4e23d4419b8a2fbd.txt\n",
            "25-02-15-12-54-56_jpg.rf.a321cead5104bc77b1ac2ecba2d13cec.txt\n",
            "25-02-15-12-54-56_jpg.rf.a3c90b7296a57aee46dbef369c87bbd4.txt\n",
            "25-02-15-12-55-16_jpg.rf.4b2e62f7a2673e902af82ae0cb789445.txt\n",
            "25-02-15-12-55-16_jpg.rf.844796aff873d7edbd53d7aaad4fd68d.txt\n",
            "25-02-15-12-55-16_jpg.rf.9ddabbe7d410896bc21ccf8e2a6a0dbd.txt\n",
            "25-02-15-12-56-37_jpg.rf.409327319049f177e8fd01196b57eb48.txt\n",
            "25-02-15-12-56-37_jpg.rf.a044349fb834cfe9f1c90f0730bfad99.txt\n",
            "25-02-15-12-57-28_jpg.rf.319f81ded9df760d52b22422323ea112.txt\n",
            "25-02-15-12-57-28_jpg.rf.760f38592740dc750f4822181bd6e45a.txt\n",
            "25-02-15-12-57-28_jpg.rf.9d5a5f86d966931fb5d61159aebe30b1.txt\n",
            "25-02-15-12-57-38_jpg.rf.2182dcad70a1299c503a613ed6b2869e.txt\n",
            "25-02-15-12-57-38_jpg.rf.34601f057ec17743840433aea60efafe.txt\n",
            "25-02-15-12-57-38_jpg.rf.f68104cc3ae2cc4611110900ac8c978b.txt\n",
            "25-02-15-12-59-00_jpg.rf.12f414ed8c576aa14424c258fbfad01b.txt\n",
            "25-02-15-12-59-00_jpg.rf.42e65de9bdde528ea45b0da92e4faf63.txt\n",
            "25-02-15-12-59-00_jpg.rf.dc53fc0b49663b1a6d9698f70e572c45.txt\n",
            "25-02-15-12-59-30_jpg.rf.6a147ab9e8617f001e0a20eb35b21af8.txt\n",
            "25-02-15-12-59-30_jpg.rf.a2ba058fde61be2e6539c40ccc3eddc5.txt\n",
            "25-02-15-12-59-30_jpg.rf.ffef24d7174e57ce72b0992866065f8e.txt\n",
            "25-02-15-13-02-48_jpg.rf.58c209fe2caf38f07eca595bac4f6089.txt\n",
            "25-02-15-13-02-48_jpg.rf.bf0c2127360a2683e2ada6b672cd7f26.txt\n",
            "25-02-15-13-02-48_jpg.rf.f6283843a48a0e066c745fadc3d181ff.txt\n",
            "25-02-15-13-03-08_jpg.rf.12c170fb5d41b3a5e50b9add34869fb0.txt\n",
            "25-02-15-13-03-08_jpg.rf.19934e9448036238c63da864aeb248fb.txt\n",
            "25-02-15-13-03-08_jpg.rf.e6f1ca53ef18f082bbe515f626ad09b8.txt\n",
            "25-02-15-13-03-18_jpg.rf.b0a5ed1038b9f6bfb514582bf80f0bb2.txt\n",
            "25-02-15-13-03-18_jpg.rf.bd229e5b4725b99bee2920c81804cd2d.txt\n",
            "25-02-15-13-03-18_jpg.rf.ea02478a450587a9dccc1840f5d0c74c.txt\n",
            "25-02-15-13-05-41_jpg.rf.1a37b5ec1ac5acf3b53ea5a415d80459.txt\n",
            "25-02-15-13-05-41_jpg.rf.3b17580c96cbc2f07a5c7ea32438b916.txt\n",
            "25-02-15-13-05-41_jpg.rf.54dcbb94c386d1f6ceb930451b972a94.txt\n",
            "25-02-15-13-06-01_jpg.rf.92d260dfb6898568bbe61abc0e3d18d3.txt\n",
            "25-02-15-13-06-01_jpg.rf.b1d465444407db9be33af6696743134f.txt\n",
            "25-02-15-13-06-01_jpg.rf.b7254d8936574a9d0c9a3a09b5f1c629.txt\n",
            "25-02-15-13-07-53_jpg.rf.021fd7fb244871b9d42a8e9a2d9c1331.txt\n",
            "25-02-15-13-07-53_jpg.rf.0a58785d7fcbabc7ea85197306801108.txt\n",
            "25-02-15-13-07-53_jpg.rf.5bb32cfbd4395d7e06440d4876ddd437.txt\n",
            "25-02-15-13-08-03_jpg.rf.135a7b313495f69d2c776f43b72fafe0.txt\n",
            "25-02-15-13-08-03_jpg.rf.53e94506057fc4e22dad1a90bd5fa5ef.txt\n",
            "25-02-15-13-08-03_jpg.rf.c53546c183a26097a8da7b37dbe1c9c4.txt\n",
            "25-02-15-13-08-13_jpg.rf.b1512975eded09ff4367a6f95af00bf2.txt\n",
            "25-02-15-13-08-13_jpg.rf.d2fdaf428a283bbbd20d48920be078d6.txt\n",
            "25-02-15-13-08-13_jpg.rf.e91450b30128466e3e2c9b449075d079.txt\n",
            "25-02-15-13-08-33_jpg.rf.885ab007d5094a270c51c08bc62e591b.txt\n",
            "25-02-15-13-08-33_jpg.rf.c01a595a48060359fb9801ba542fb9fa.txt\n",
            "25-02-15-13-08-33_jpg.rf.d45532943c4481009763c7e2557e4ae1.txt\n",
            "25-02-15-13-09-50_jpg.rf.05cabb10d15c425a73e391c6320a5c26.txt\n",
            "25-02-15-13-09-50_jpg.rf.85b8b2c9efc70fcd0efd1c6e5b597d7a.txt\n",
            "25-02-15-13-09-50_jpg.rf.9b506ad210f7739d81fdaed29dcac11a.txt\n",
            "25-02-15-13-10-20_jpg.rf.04b1477f355438fc37779da4b167b031.txt\n",
            "25-02-15-13-10-20_jpg.rf.b5201961f3295fca92da0d83361ec60b.txt\n",
            "25-02-15-13-10-20_jpg.rf.eb858ce801991b55c39e42cca56a3428.txt\n",
            "25-02-15-13-13-23_jpg.rf.649a60002b333615423d0b950fafef17.txt\n",
            "25-02-15-13-13-23_jpg.rf.b3aedddac8dadb59a9e7d77db2417870.txt\n",
            "25-02-15-13-13-23_jpg.rf.e82daf5ca3ef9174de1238c7b55aeeda.txt\n",
            "25-02-15-13-14-04_jpg.rf.624980ca8eef12f6746c5149ff0c33df.txt\n",
            "25-02-15-13-14-04_jpg.rf.946b0eb6f2e974cc99193037b71d013e.txt\n",
            "25-02-15-13-14-04_jpg.rf.dab44745c0ed79546ba90f7d4e24fc3d.txt\n",
            "25-02-15-13-15-25_jpg.rf.02a3d32d65fdb351948c66563b68b4a7.txt\n",
            "25-02-15-13-15-25_jpg.rf.5c2a65b211c43bd4a0f9f5b3de3068d9.txt\n",
            "25-02-15-13-15-25_jpg.rf.fd8a47b1a419553162f3080362edd56a.txt\n",
            "25-02-15-13-15-45_jpg.rf.4c186743f2b4559b39bc3d1a51dc1976.txt\n",
            "25-02-15-13-15-45_jpg.rf.6fd1f585806f8aa19f627b9e042e48b1.txt\n",
            "25-02-15-13-15-45_jpg.rf.aead8ea23a501d1d0aedce159de57e3c.txt\n",
            "25-02-15-13-15-55_jpg.rf.090baa894d0713f7a8ded620d7b18c6d.txt\n",
            "25-02-15-13-15-55_jpg.rf.77c9a9bba0b215f54a60f509e81ad86f.txt\n",
            "25-02-15-13-15-55_jpg.rf.f7f711143541d98907a26da6081cc54c.txt\n",
            "25-02-15-13-17-06_jpg.rf.2263ff0c2540d21811a696c049b4541a.txt\n",
            "25-02-15-13-17-06_jpg.rf.22ccfb010f7368be854041fff994b2bd.txt\n",
            "25-02-15-13-17-06_jpg.rf.91ab325eebc7521de535848ca177b383.txt\n",
            "25-02-15-13-19-54_jpg.rf.96882acf827e4527c2f8e9cd66c94602.txt\n",
            "25-02-15-13-19-54_jpg.rf.ae36d8a815beb375562b8e77f973d6d6.txt\n",
            "25-02-15-13-19-54_jpg.rf.af74c2f07bcb6edc81461cd40f58fb61.txt\n",
            "25-02-15-13-21-46_jpg.rf.195e0ca50c952ac5b5397ab350e9900c.txt\n",
            "25-02-15-13-21-46_jpg.rf.7d696f580f92a9560f012be91a2c77b7.txt\n",
            "25-02-15-13-21-46_jpg.rf.f920e3a7882dfc2f6c6686deb3e63082.txt\n",
            "25-02-15-13-25-19_jpg.rf.16d30379c4d367cc3b26d9b5cf402e80.txt\n",
            "25-02-15-13-25-19_jpg.rf.d54fda5e393d3405fb8b98a984c40c4d.txt\n",
            "25-02-15-13-25-19_jpg.rf.da977ac40835b848c7a902b7694560e2.txt\n",
            "25-02-15-13-27-36_jpg.rf.28230f8dafaee65821e96867ac33dcc6.txt\n",
            "25-02-15-13-27-36_jpg.rf.a8c4114ea346c713ac4f4549688c649a.txt\n",
            "25-02-15-13-27-36_jpg.rf.e25eb491b4d045548b0e4b5d16e5e48e.txt\n",
            "25-02-15-13-29-18_jpg.rf.22a34528f6651d887ba8bbe36e63819d.txt\n",
            "25-02-15-13-29-18_jpg.rf.6ce1adf86b363a08a7e18733407ea820.txt\n",
            "25-02-15-13-29-18_jpg.rf.f3d09f6a815d3dd5b6ed89afe95d2023.txt\n",
            "25-02-15-13-29-48_jpg.rf.24cd206c3a2535780d3411607016fa89.txt\n",
            "25-02-15-13-29-48_jpg.rf.5ebe306fb248eb522f3659b4a4c8011f.txt\n",
            "25-02-15-13-29-48_jpg.rf.f60eaeee135d0bc8fefd7514fe7ea77a.txt\n",
            "25-02-15-13-30-39_jpg.rf.84278b307b9e015d337244b4ea00b5b3.txt\n",
            "25-02-15-13-30-39_jpg.rf.abaf90ce2415ca5314f17a22c9387847.txt\n",
            "25-02-15-13-30-39_jpg.rf.c799b1301bdbb1cb39fad20821c44dd3.txt\n",
            "25-02-15-13-31-50_jpg.rf.0b2c10e40e324f6da8a6ac98c14b5cfc.txt\n",
            "25-02-15-13-31-50_jpg.rf.c2d785e6118525e581a6413a81922c1c.txt\n",
            "25-02-15-13-31-50_jpg.rf.ff96bd47ab68597a2b5d20cd997df166.txt\n",
            "25-02-15-13-32-00_jpg.rf.16980ef6c4f93069b6fd2f5a78b2593f.txt\n",
            "25-02-15-13-32-00_jpg.rf.871fec1b3b485bf004c15990a194a5af.txt\n",
            "25-02-15-13-32-00_jpg.rf.b7099c22b0b52a3e494456bcea6bf73d.txt\n",
            "25-02-15-13-32-41_jpg.rf.335b34397e1485e22a5d471ba306c878.txt\n",
            "25-02-15-13-32-41_jpg.rf.498279e10a39eca73c6e1ad2e5e1cfba.txt\n",
            "25-02-15-13-32-41_jpg.rf.a2c7a44e5bccf8d6773a10caa6658ea9.txt\n",
            "25-02-15-13-33-42_jpg.rf.6536818cc4328988016960a9d8354a3c.txt\n",
            "25-02-15-13-33-42_jpg.rf.c38ba14ea2b7ac9753054c4bd275f633.txt\n",
            "25-02-15-13-33-42_jpg.rf.e2fa4bcfc7b264ac25347a94ac9e36e1.txt\n",
            "25-02-15-13-33-52_jpg.rf.2f8ce40ddfdf07907805bacacf1e6190.txt\n",
            "25-02-15-13-33-52_jpg.rf.3091b30ee80a208eea8e2478919cd5d4.txt\n",
            "25-02-15-13-33-52_jpg.rf.3ff08550d3d434e9c72354af42885525.txt\n",
            "25-02-15-13-34-48_jpg.rf.0184b100038687befc168a998495e2e2.txt\n",
            "25-02-15-13-34-48_jpg.rf.8762a186527b9d2b9cf6ed5491fa9dc0.txt\n",
            "25-02-15-13-34-48_jpg.rf.d290110697598a3ca127397cb838eb8e.txt\n",
            "25-02-15-13-34-58_jpg.rf.790b74fbff371d28a229846879fa5240.txt\n",
            "25-02-15-13-34-58_jpg.rf.aba5acdecbbad7f4e57f3d4322a2bfe4.txt\n",
            "25-02-15-13-34-58_jpg.rf.dcb56383003a07780b4808d3870dd4b4.txt\n",
            "25-02-15-13-35-18_jpg.rf.1d346924b3419073c30696db207cfdfe.txt\n",
            "25-02-15-13-35-18_jpg.rf.1f0cfeca2051c3fbbb6b9e9c0ebe55c1.txt\n",
            "25-02-15-13-35-18_jpg.rf.658366e991a3a9c3024f1deed4790976.txt\n",
            "25-02-15-13-36-09_jpg.rf.318208fe5b3b85e1d93a42f0439913eb.txt\n",
            "25-02-15-13-36-09_jpg.rf.9b3a7f44194924890e4138c2a04f3632.txt\n",
            "25-02-15-13-36-09_jpg.rf.db11388dda4b81f96e3b2d17f5946c32.txt\n",
            "25-02-15-13-40-54_jpg.rf.6ca7334ab5555ec30c1caa94796aec50.txt\n",
            "25-02-15-13-40-54_jpg.rf.7c1980de55bac01d0dd524b40257fb6e.txt\n",
            "25-02-15-13-40-54_jpg.rf.b38867902428c9bfe47cc7b01623a861.txt\n",
            "25-02-15-13-42-35_jpg.rf.278f514fe7d2d051444915e27252d631.txt\n",
            "25-02-15-13-42-35_jpg.rf.36354a43edc8a1dc986fff683642d104.txt\n",
            "25-02-15-13-42-35_jpg.rf.a5eadf7a4f8c54dfa1517f0b9115b4a0.txt\n",
            "25-02-15-13-43-00_jpg.rf.095448f5b966270632cb5112560f4446.txt\n",
            "25-02-15-13-43-00_jpg.rf.79655b7acd4bd7ba3e0b07b9bd489657.txt\n",
            "25-02-15-13-43-00_jpg.rf.c10e5063cf3e947b91a5302e1b8eb34f.txt\n",
            "25-02-15-13-44-22_jpg.rf.0897be8e77dd37d727562b32ccba444c.txt\n",
            "25-02-15-13-44-22_jpg.rf.9ebe513bc02773165af7fc2926ae4973.txt\n",
            "25-02-15-13-44-22_jpg.rf.cb486af5b3f55ba797c8890fd9a328ac.txt\n",
            "25-02-15-13-44-32_jpg.rf.695d6e54d30b2719ec533a810dfb2d64.txt\n",
            "25-02-15-13-44-32_jpg.rf.d3645391d2061d0ab2fb275522dca751.txt\n",
            "25-02-15-13-44-32_jpg.rf.f684ed78bee631bd428f63ce93143286.txt\n",
            "25-02-15-13-46-24_jpg.rf.2acf1b60abd359bfb4fb522c0e929494.txt\n",
            "25-02-15-13-46-24_jpg.rf.40be34494b77ba928468b9b67bf5e506.txt\n",
            "25-02-15-13-46-24_jpg.rf.ba8be6f2f21894c6752b69d54632ea14.txt\n",
            "25-02-15-13-46-34_jpg.rf.a0b9a3a9b19b74d0375bbb4964f3e9d3.txt\n",
            "25-02-15-13-46-34_jpg.rf.ee7448425791d4fd5b345c3e9145eebf.txt\n",
            "25-02-15-13-48-36_jpg.rf.1713b43d595886cf2059dbfbb022b091.txt\n",
            "25-02-15-13-48-36_jpg.rf.59d134fbf85265dbe2be7d8fbb81f8cd.txt\n",
            "25-02-15-13-48-36_jpg.rf.f7e6011d54ba2987d5e5bb4dc22bc500.txt\n",
            "25-02-15-13-52-14_jpg.rf.55559caede9948d767ce496de533127e.txt\n",
            "25-02-15-13-52-14_jpg.rf.747a8aefd51203498b33d32290dc7ff2.txt\n",
            "25-02-15-13-52-45_jpg.rf.1855346337dadedf45131025b27bce5a.txt\n",
            "25-02-15-13-52-45_jpg.rf.40d5a2dc8188ba99c2c44b722218b110.txt\n",
            "25-02-15-13-52-45_jpg.rf.a87548d4037b6cf87402894ba1c46e8a.txt\n",
            "25-02-15-13-52-55_jpg.rf.83a8b0d7b5e9a2aa1f2d0a0ab2a4fe1b.txt\n",
            "25-02-15-13-52-55_jpg.rf.df5343864a3888f459f9d258c76559f0.txt\n",
            "25-02-15-13-52-55_jpg.rf.f3729424a45cb94f123ac150d528bd58.txt\n",
            "25-02-15-13-54-26_jpg.rf.4e9bf196df75e1bccb957a05099d8e7e.txt\n",
            "25-02-15-13-54-26_jpg.rf.ee0448b4e356810595c3682e71991049.txt\n",
            "25-02-15-13-54-26_jpg.rf.f0bf0937e7be31deff2a9c786a1a83f0.txt\n",
            "25-02-15-13-56-08_jpg.rf.522d8d8c7704a5a747d5a25026d080c2.txt\n",
            "25-02-15-13-56-08_jpg.rf.670711905c13628ea89b210a687b2635.txt\n",
            "25-02-15-13-56-08_jpg.rf.95f245e81a03dbe08b045da2d6d353af.txt\n",
            "25-02-15-14-00-17_jpg.rf.4f95778db58ce5792a1b78a31a421a90.txt\n",
            "25-02-15-14-00-17_jpg.rf.f64b2592ba0878b56c841da3aea31a9c.txt\n",
            "25-02-15-14-00-17_jpg.rf.fa891f858ed4723f620bdd151bd02a0e.txt\n",
            "25-02-15-14-02-39_jpg.rf.1c19bfca9dbc2e964fd0eb3e7740ae1a.txt\n",
            "25-02-15-14-02-39_jpg.rf.768986cc3b0615b4991707bd714a8bf6.txt\n",
            "25-02-15-14-02-39_jpg.rf.e3fe5c53b626f092187d2660be169fa4.txt\n",
            "25-02-15-14-03-50_jpg.rf.53bc836c3b59d9ed77daeb0ee23b1ae5.txt\n",
            "25-02-15-14-03-50_jpg.rf.c8c8d21c2b4a63dc838f3a6fc75a4fef.txt\n",
            "25-02-15-14-03-50_jpg.rf.fd6a6de3183066efccfcdb53325382d7.txt\n",
            "25-02-15-14-05-31_jpg.rf.56347ac15513e4b460470be9accc6261.txt\n",
            "25-02-15-14-05-31_jpg.rf.ea5911ec131efefe4b05a02fd8675994.txt\n",
            "25-02-15-14-05-31_jpg.rf.ea9103852a1b568945fcacac9eca4432.txt\n",
            "25-02-15-14-07-33_jpg.rf.418f4390c436dc499bd6fb360fb70d82.txt\n",
            "25-02-15-14-07-33_jpg.rf.9662b6004ea45f4814fab09082c15a62.txt\n",
            "25-02-15-14-07-33_jpg.rf.a86366041dbb52f42ff92d25d1bb0270.txt\n",
            "25-02-15-14-08-04_jpg.rf.19919303b1760155925e2bed156b9d42.txt\n",
            "25-02-15-14-08-04_jpg.rf.75bca3d00d6208d988980468f368c17b.txt\n",
            "25-02-15-14-08-04_jpg.rf.e76ffb6b46baf4b396308065e9f16f92.txt\n",
            "25-02-15-14-09-20_jpg.rf.35798a3faecb2747d09d9e8cdeef2e62.txt\n",
            "25-02-15-14-09-20_jpg.rf.38049a0590bdcedd6732e23ca1404d03.txt\n",
            "25-02-15-14-09-20_jpg.rf.8dad324377fd4e2b140ed19890a3e497.txt\n",
            "25-02-15-14-09-30_jpg.rf.008d086a72da3421f488d36777ad3457.txt\n",
            "25-02-15-14-09-30_jpg.rf.111d42e2ff5f45aeff1107cb03b091d4.txt\n",
            "25-02-15-14-09-30_jpg.rf.dc49520b29381ff75ea5acbfd5d9d3c0.txt\n",
            "25-02-15-14-11-52_jpg.rf.5d0c101ce0fa22bc2a15e4346fc418e8.txt\n",
            "25-02-15-14-11-52_jpg.rf.5e00b7d56071dcb734a69a8ebb344296.txt\n",
            "25-02-15-14-11-52_jpg.rf.d0aa044d190dbd13d24295c0809d57c4.txt\n",
            "25-02-15-14-12-13_jpg.rf.d5b0a05806e57721801902222b53cccb.txt\n",
            "25-02-15-14-12-13_jpg.rf.e5749334ed2b09592c4ad75165c399bb.txt\n",
            "25-02-15-14-12-13_jpg.rf.ee7c353361c0e0d4def15bc7b00a669f.txt\n",
            "25-02-15-14-13-34_jpg.rf.bd56311609280c469d6c89a6adf2272d.txt\n",
            "25-02-15-14-13-34_jpg.rf.cbcdcdc00872127fee35210c6302129f.txt\n",
            "25-02-15-14-13-34_jpg.rf.d555999985c127dd2476ef5041af5c28.txt\n",
            "25-02-15-14-13-44_jpg.rf.976899a09c0ea53446059777887598dc.txt\n",
            "25-02-15-14-13-44_jpg.rf.a7c307ad3868bd4c1ca3f8e4e86c20b5.txt\n",
            "25-02-15-14-13-44_jpg.rf.ca68e598688b29669b4884c7585bc138.txt\n",
            "25-02-15-14-13-54_jpg.rf.07ac4d12d071e64828a0fc003c5fac52.txt\n",
            "25-02-15-14-13-54_jpg.rf.2e834b44a91decde69cb541c809641b7.txt\n",
            "25-02-15-14-13-54_jpg.rf.c17c8962449b43a74d211971e7a12989.txt\n",
            "25-02-15-14-15-26_jpg.rf.5f69b0bc572f7ed9f6e4c2aee25633dc.txt\n",
            "25-02-15-14-15-26_jpg.rf.707edafbf8108bc168650c0d6c114d1b.txt\n",
            "25-02-15-14-15-26_jpg.rf.dc8c30e44300264f778c8e179ce0ccb1.txt\n",
            "25-02-15-14-17-33_jpg.rf.243d5723c7b2e60599b0c3b132940b01.txt\n",
            "25-02-15-14-17-33_jpg.rf.63b89a97aeac6eac6a76f59f1ae4bbf1.txt\n",
            "25-02-15-14-17-33_jpg.rf.cfb3de2991d52d2cc109f7a20f5f1bc6.txt\n",
            "25-02-15-14-19-35_jpg.rf.c3bc7a91917d36c0ed6eb03ad10e94ce.txt\n",
            "25-02-15-14-19-35_jpg.rf.c776cdc3e43436b19b21ce034f7b9a9e.txt\n",
            "25-02-15-14-19-35_jpg.rf.e014bdbb05cf751994a7ce664db50f60.txt\n",
            "25-02-15-14-19-55_jpg.rf.02fd01ef057cc861739bfefe29ec0ad5.txt\n",
            "25-02-15-14-19-55_jpg.rf.d6ca8472f347294dcb7b8a073512e952.txt\n",
            "25-02-15-14-19-55_jpg.rf.fa25112eecf5b13226c82c11be00ecdf.txt\n",
            "25-02-15-14-20-05_jpg.rf.22d224fe42ca81ededb0f74fcbb6c9e8.txt\n",
            "25-02-15-14-20-05_jpg.rf.4b16888220c6f6726739eb4e54e53443.txt\n",
            "25-02-15-14-20-05_jpg.rf.e6e1eb0aa3e2d8b2d923bd4385982d6b.txt\n",
            "25-02-15-14-21-36_jpg.rf.39ddded168615d0e59049ae4eac5b50a.txt\n",
            "25-02-15-14-21-36_jpg.rf.6d836084a419770c9ebeb2fece48a9d3.txt\n",
            "25-02-15-14-23-18_jpg.rf.30a6af5424d385498427c13277c296bf.txt\n",
            "25-02-15-14-23-18_jpg.rf.cb3b4a80a3712472f514c008bbf3d071.txt\n",
            "25-02-15-14-23-18_jpg.rf.e29442e04402ee5f6281a852b1d9b716.txt\n",
            "25-02-15-14-25-45_jpg.rf.30d98d2cb3831830fca848a6f9287b00.txt\n",
            "25-02-15-14-25-45_jpg.rf.972af073651e6dcabe1f5dfe1a6e48c8.txt\n",
            "25-02-15-14-25-45_jpg.rf.d8f9c0b4fa280af12f669e634451855b.txt\n",
            "25-02-15-14-26-05_jpg.rf.20051666eed02134a830e9a965af9fb3.txt\n",
            "25-02-15-14-26-05_jpg.rf.59c100851e65182550909229e4236834.txt\n",
            "25-02-15-14-26-05_jpg.rf.5eda0ec172c67cfdb37413e43b99435c.txt\n",
            "25-02-15-14-27-47_jpg.rf.bdace4e219cd8ac1365114bae93c5239.txt\n",
            "25-02-15-14-27-47_jpg.rf.e8decca19806db76bfb73d98f5e23c10.txt\n",
            "25-02-15-14-27-47_jpg.rf.ef8c1cff7a49f76b7c6ea17d1b8b6d63.txt\n",
            "25-02-15-14-27-57_jpg.rf.251cddf2ca8f576f0cda48e58246005b.txt\n",
            "25-02-15-14-27-57_jpg.rf.64ce863b427fff1502388ce7c61439af.txt\n",
            "25-02-15-14-27-57_jpg.rf.6649617d9000791136d952b5e3a68147.txt\n",
            "25-02-15-14-28-07_jpg.rf.620aba4157e81071d0385a61398a2ac7.txt\n",
            "25-02-15-14-28-07_jpg.rf.9cb59413f68c59c7de909e1aef7d735d.txt\n",
            "25-02-15-14-28-07_jpg.rf.bddd611cb6c52dfbec393d8fad571cd0.txt\n",
            "25-02-15-14-28-38_jpg.rf.d048ae9f7e71db323c2d2cf00f9c23f9.txt\n",
            "25-02-15-14-28-38_jpg.rf.db4ef6b20b0982345ad51d974202ddc5.txt\n",
            "25-02-15-14-28-38_jpg.rf.f9171aec7dd4a8bbe63735aa2815088b.txt\n",
            "25-02-15-14-29-08_jpg.rf.0d3ac11efa659410bf0f0bf3e60e8722.txt\n",
            "25-02-15-14-29-08_jpg.rf.1228b27ca5eb9bc0b2fd03fe74c9ade2.txt\n",
            "25-02-15-14-29-08_jpg.rf.28cd45834db50ec57239f879bb9b43c8.txt\n",
            "25-02-15-14-31-20_jpg.rf.b8a76e8c80aa6550c25543b681998894.txt\n",
            "25-02-15-14-31-20_jpg.rf.c132c4609f7539a3e39845e4df1c4d04.txt\n",
            "25-02-15-14-31-20_jpg.rf.e134629d8515ed0ccbc760ec1d07ff38.txt\n",
            "25-02-15-14-31-31_jpg.rf.762945af454a42c93f8dd5f23ea52fca.txt\n",
            "25-02-15-14-31-31_jpg.rf.ba7cd4876b423c2d7e8a4db236ff2911.txt\n",
            "25-02-15-14-31-31_jpg.rf.f6ea9533184561c6f20faed7f8bb6ef8.txt\n",
            "25-02-15-14-33-32_jpg.rf.0d9c1fdff6049726a708fa09f25b06d3.txt\n",
            "25-02-15-14-33-32_jpg.rf.773b1733d5c03b6954459dcf0868d275.txt\n",
            "25-02-15-14-33-32_jpg.rf.cbfda5503d39207efd772246439edafa.txt\n",
            "25-02-15-14-34-03_jpg.rf.330a00ba3ba21f297b633790a0060e36.txt\n",
            "25-02-15-14-34-03_jpg.rf.61f7bdb890b4cb410e1d0b13b2d39247.txt\n",
            "25-02-15-14-34-03_jpg.rf.80a98067168203c5386c8c162a18313d.txt\n",
            "25-02-15-14-34-28_jpg.rf.43766bcc2a3e02539ee285a68ad57ce2.txt\n",
            "25-02-15-14-34-28_jpg.rf.e4d2ee67cad6b90d060925023c13b097.txt\n",
            "25-02-15-14-34-28_jpg.rf.f15b1a32764fb6daf9283f82061df2d4.txt\n",
            "25-02-15-14-34-38_jpg.rf.26d63e73fb3b0e05a981eb887e727856.txt\n",
            "25-02-15-14-34-38_jpg.rf.c70faa80f6b6ac106ba4f26191dc3a26.txt\n",
            "25-02-15-14-37-41_jpg.rf.7c888ff8bede91ec08801138816f0492.txt\n",
            "25-02-15-14-37-41_jpg.rf.8b33f24e69c21f5c67883f7f6e5b9157.txt\n",
            "25-02-15-14-37-41_jpg.rf.f69d340bed36fbd256ca9229a6817126.txt\n",
            "25-02-15-14-38-01_jpg.rf.21cf0276b67f552e26c7046e462f0f80.txt\n",
            "25-02-15-14-38-01_jpg.rf.261f4fa14e7b94a28fd2e32023fc07cf.txt\n",
            "25-02-15-14-38-01_jpg.rf.629c18e6aefc26dab064664999bb760c.txt\n",
            "25-02-15-14-39-23_jpg.rf.3cd428ce86fae04c9d4151f056d65986.txt\n",
            "25-02-15-14-39-23_jpg.rf.597ef576dac1e594b9e87056228b3d98.txt\n",
            "25-02-15-14-39-23_jpg.rf.7a14b0536285563ca8cc005c832bfef2.txt\n",
            "25-02-15-14-40-24_jpg.rf.4e52158614d28eebd02ba31f6a56c331.txt\n",
            "25-02-15-14-40-24_jpg.rf.c33b8984e396c826924e8808dbca6405.txt\n",
            "25-02-15-14-40-24_jpg.rf.f2b9fa6dbb6e097505f79b35bdfe78a7.txt\n",
            "25-02-15-14-40-44_jpg.rf.4464e3b908c489ceaada1d01a8730fbe.txt\n",
            "25-02-15-14-40-44_jpg.rf.d36d986b3ed19c4b5f007d56f343335a.txt\n",
            "25-02-15-14-40-44_jpg.rf.f872730d26bdda93b6f0d76f9035de91.txt\n",
            "25-02-15-14-41-14_jpg.rf.9c0d2c5ce246a09e1ffe417a92f4d437.txt\n",
            "25-02-15-14-41-14_jpg.rf.d833c7aa419f681940a4091c20ede02c.txt\n",
            "25-02-15-14-41-14_jpg.rf.dcf060d3869c9409db5ea6f9aab22928.txt\n",
            "25-02-15-14-42-36_jpg.rf.5ab0a54a8e2d4adda79506279666fe9b.txt\n",
            "25-02-15-14-42-36_jpg.rf.5f6d46ade5123e04a61358bbce1dbe78.txt\n",
            "25-02-15-14-42-36_jpg.rf.86c57f44bbf35ad67d0a77a5b7e3ea30.txt\n",
            "25-02-15-14-46-55_jpg.rf.37c62b5b122507b0a99538e16cc78aff.txt\n",
            "25-02-15-14-46-55_jpg.rf.9eb849a647aa81dc1fe64cb6ce05f347.txt\n",
            "25-02-15-14-46-55_jpg.rf.f6226d17546dcd944a87e30580cad507.txt\n",
            "25-02-15-14-49-07_jpg.rf.63e4fdae5c9a41df3cc013235fefd8e6.txt\n",
            "25-02-15-14-49-07_jpg.rf.fc47cfcf630f52bb02fc93745f3d22b3.txt\n",
            "25-02-15-14-49-07_jpg.rf.fe3416a578d80d8fe578ea84a2b3492d.txt\n",
            "25-02-15-14-49-17_jpg.rf.12075052e8a6d3afb016472840de4fc7.txt\n",
            "25-02-15-14-49-17_jpg.rf.6766768adbe267e447013f3b555545a6.txt\n",
            "25-02-15-14-49-17_jpg.rf.84ed389fdc3d124defb9756f35e3079d.txt\n",
            "25-02-15-14-50-18_jpg.rf.4fab74a004d442dfe741661f35db50eb.txt\n",
            "25-02-15-14-50-18_jpg.rf.98dc028b840b70aea3f48fca3724ee43.txt\n",
            "25-02-15-14-50-18_jpg.rf.dc9595073222f064af16c2a22f23650f.txt\n",
            "25-02-15-15-07-54_jpg.rf.679584bdb97d7a999e4d77db3087cd2a.txt\n",
            "25-02-15-15-07-54_jpg.rf.cdf004a6a50d076bb4bc946eb9e835f9.txt\n",
            "25-02-15-15-07-54_jpg.rf.e6a47c10240c0b20fe6d6922c23252b9.txt\n",
            "25-02-15-15-19-55_jpg.rf.07527320eea79b86badad2bf33fbd835.txt\n",
            "25-02-15-15-19-55_jpg.rf.23f3127eb3e9dd34233b19985af59f4d.txt\n",
            "25-02-15-15-19-55_jpg.rf.9d25be15ea0bd6e0e0517f07ea0b18c5.txt\n",
            "25-02-15-15-34-59_jpg.rf.3a70862af648484261404c1c43e12df1.txt\n",
            "25-02-15-15-34-59_jpg.rf.3ca37bf138ea0c3e8a923ffb807e0a53.txt\n",
            "25-02-15-15-34-59_jpg.rf.bda99f256fd45d213f1226df2ce7bb73.txt\n",
            "25-02-15-15-41-15_jpg.rf.c6721c2569f6dbd09ccf41a35b4bca71.txt\n",
            "25-02-15-15-41-15_jpg.rf.dbfe4f5531c97f2759a0b456982b7450.txt\n",
            "25-02-15-15-41-15_jpg.rf.f3cf458562d9cd21500f090de163699b.txt\n",
            "\n",
            "/content/Cloud-detection-1.0-4/valid:\n",
            "images\tlabels\tlabels.cache\n",
            "\n",
            "/content/Cloud-detection-1.0-4/valid/images:\n",
            "25-02-15-11-13-01_jpg.rf.45aebca3601cb8b9e8c62f2b3d7895e2.jpg\n",
            "25-02-15-11-19-01_jpg.rf.69d56f4a6b18fbc5ce5a9e290d64a5b4.jpg\n",
            "25-02-15-11-22-45_jpg.rf.d9b20e65394842b635b30bb1f919b2c8.jpg\n",
            "25-02-15-11-23-15_jpg.rf.a97f0a8fe0a216fdfaba2ddf9a575edb.jpg\n",
            "25-02-15-11-28-25_jpg.rf.f02cfa8a514e81e3305822941febcb87.jpg\n",
            "25-02-15-11-36-17_jpg.rf.984462371d4db59b1e7af51a0a83bd40.jpg\n",
            "25-02-15-11-38-19_jpg.rf.6fd36b686b715d5261d3e2e7b2f8e3e7.jpg\n",
            "25-02-15-11-40-11_jpg.rf.4ed6ab39ab12b01c73a3d82a65e23b37.jpg\n",
            "25-02-15-11-47-43_jpg.rf.219894ab2acf745623ee21967a358515.jpg\n",
            "25-02-15-11-49-25_jpg.rf.82b0ff4eb4fc5d9adacbd3e5711edd35.jpg\n",
            "25-02-15-11-49-35_jpg.rf.4cffe2a493c703f78a01c13bb834079b.jpg\n",
            "25-02-15-11-59-19_jpg.rf.bd10314bed653a633d9196c80e4c7b8b.jpg\n",
            "25-02-15-12-26-03_jpg.rf.f98e027c3c21059c182afb0e5daccf11.jpg\n",
            "25-02-15-12-35-58_jpg.rf.f87652673bf92676213e69af86bf7b7a.jpg\n",
            "25-02-15-12-36-28_jpg.rf.2091d8ece8d3ae1404d29e1702be5bbe.jpg\n",
            "25-02-15-12-42-24_jpg.rf.ba7e350a41fbc835ceb4e1c67abc9dbe.jpg\n",
            "25-02-15-12-44-41_jpg.rf.ad03b6254cef637d72ea717456f75a74.jpg\n",
            "25-02-15-12-46-43_jpg.rf.2cc14e02a066e6da29dd54e9715fc473.jpg\n",
            "25-02-15-12-48-45_jpg.rf.1ce5767d681479c8cadef1982f55b8fd.jpg\n",
            "25-02-15-12-52-34_jpg.rf.dc01a92258c1dd52972953ef89829b22.jpg\n",
            "25-02-15-12-56-47_jpg.rf.c2829f0d3a0ee222d004447137a3ff27.jpg\n",
            "25-02-15-13-02-58_jpg.rf.70b0a349bcf59ffbe05f854243e7ba51.jpg\n",
            "25-02-15-13-17-32_jpg.rf.130a7dd28360c812d14906089a3e9766.jpg\n",
            "25-02-15-13-20-04_jpg.rf.3b8cbd14684006e9fdd14c392469c4f4.jpg\n",
            "25-02-15-13-22-16_jpg.rf.e535a5b92dec9fa0b2319531c875e6f8.jpg\n",
            "25-02-15-13-25-09_jpg.rf.1f9aa66350b00e715846a03d87d604c8.jpg\n",
            "25-02-15-13-31-40_jpg.rf.0c83f50fd92ab4f9eec1cb87f9afc775.jpg\n",
            "25-02-15-13-35-08_jpg.rf.47d81dfa4fbefa18fd5b035dd44f6eee.jpg\n",
            "25-02-15-13-37-20_jpg.rf.fdfdadb8d9d63093192349fb2df19b4d.jpg\n",
            "25-02-15-13-37-30_jpg.rf.db8097ab4dee1f089462a5147dfd1173.jpg\n",
            "25-02-15-13-42-45_jpg.rf.914eb996e7ca8d2f18dbca0e1dadc814.jpg\n",
            "25-02-15-13-43-11_jpg.rf.d90612217cc09f938eac629a91e98e34.jpg\n",
            "25-02-15-13-52-24_jpg.rf.90dcea3656d6316b374c4a1b471303ff.jpg\n",
            "25-02-15-13-53-05_jpg.rf.d2e774674d08860c97330a309d147bdb.jpg\n",
            "25-02-15-13-55-58_jpg.rf.ff83a734ea28765663d64466e673cf0a.jpg\n",
            "25-02-15-13-56-38_jpg.rf.6618a4c7900685f6b011f93f45f80d2a.jpg\n",
            "25-02-15-13-57-49_jpg.rf.4ce7ef3ef5f61c0ebf5a3d83cdb08dc0.jpg\n",
            "25-02-15-14-03-40_jpg.rf.819fc6a1d712affda74bbdf3ee25bc96.jpg\n",
            "25-02-15-14-11-42_jpg.rf.a17825ac3fc4bbfaedc6161ba4c13e09.jpg\n",
            "25-02-15-14-20-15_jpg.rf.5cb569999db1dc9c450b4f6b5cc03247.jpg\n",
            "25-02-15-14-21-26_jpg.rf.23cb9954c347f4a786bf196fe00a3e3b.jpg\n",
            "25-02-15-14-23-08_jpg.rf.fbcb25564a7e35c0beb2daafd8b2e46e.jpg\n",
            "25-02-15-14-33-22_jpg.rf.0ca4660905ee1dcf42877f742eb7ffcf.jpg\n",
            "25-02-15-14-39-53_jpg.rf.f1d774bdc904ced054b8bfdb241b3958.jpg\n",
            "25-02-15-14-42-26_jpg.rf.d3e332b694ca456fbcf7e21f6cb82d46.jpg\n",
            "25-02-15-14-44-53_jpg.rf.d18528ef8d1d5c54cc450b06608a5020.jpg\n",
            "25-02-15-14-47-15_jpg.rf.97220511947e0985230e0647d932c430.jpg\n",
            "25-02-15-15-32-02_jpg.rf.80a8dcd0070947005838cda56532877d.jpg\n",
            "25-02-15-15-56-19_jpg.rf.80c55cb12db20487dc98bd138c18abd1.jpg\n",
            "\n",
            "/content/Cloud-detection-1.0-4/valid/labels:\n",
            "25-02-15-11-13-01_jpg.rf.45aebca3601cb8b9e8c62f2b3d7895e2.txt\n",
            "25-02-15-11-19-01_jpg.rf.69d56f4a6b18fbc5ce5a9e290d64a5b4.txt\n",
            "25-02-15-11-22-45_jpg.rf.d9b20e65394842b635b30bb1f919b2c8.txt\n",
            "25-02-15-11-23-15_jpg.rf.a97f0a8fe0a216fdfaba2ddf9a575edb.txt\n",
            "25-02-15-11-28-25_jpg.rf.f02cfa8a514e81e3305822941febcb87.txt\n",
            "25-02-15-11-36-17_jpg.rf.984462371d4db59b1e7af51a0a83bd40.txt\n",
            "25-02-15-11-38-19_jpg.rf.6fd36b686b715d5261d3e2e7b2f8e3e7.txt\n",
            "25-02-15-11-40-11_jpg.rf.4ed6ab39ab12b01c73a3d82a65e23b37.txt\n",
            "25-02-15-11-47-43_jpg.rf.219894ab2acf745623ee21967a358515.txt\n",
            "25-02-15-11-49-25_jpg.rf.82b0ff4eb4fc5d9adacbd3e5711edd35.txt\n",
            "25-02-15-11-49-35_jpg.rf.4cffe2a493c703f78a01c13bb834079b.txt\n",
            "25-02-15-11-59-19_jpg.rf.bd10314bed653a633d9196c80e4c7b8b.txt\n",
            "25-02-15-12-26-03_jpg.rf.f98e027c3c21059c182afb0e5daccf11.txt\n",
            "25-02-15-12-35-58_jpg.rf.f87652673bf92676213e69af86bf7b7a.txt\n",
            "25-02-15-12-36-28_jpg.rf.2091d8ece8d3ae1404d29e1702be5bbe.txt\n",
            "25-02-15-12-42-24_jpg.rf.ba7e350a41fbc835ceb4e1c67abc9dbe.txt\n",
            "25-02-15-12-44-41_jpg.rf.ad03b6254cef637d72ea717456f75a74.txt\n",
            "25-02-15-12-46-43_jpg.rf.2cc14e02a066e6da29dd54e9715fc473.txt\n",
            "25-02-15-12-48-45_jpg.rf.1ce5767d681479c8cadef1982f55b8fd.txt\n",
            "25-02-15-12-52-34_jpg.rf.dc01a92258c1dd52972953ef89829b22.txt\n",
            "25-02-15-12-56-47_jpg.rf.c2829f0d3a0ee222d004447137a3ff27.txt\n",
            "25-02-15-13-02-58_jpg.rf.70b0a349bcf59ffbe05f854243e7ba51.txt\n",
            "25-02-15-13-17-32_jpg.rf.130a7dd28360c812d14906089a3e9766.txt\n",
            "25-02-15-13-20-04_jpg.rf.3b8cbd14684006e9fdd14c392469c4f4.txt\n",
            "25-02-15-13-22-16_jpg.rf.e535a5b92dec9fa0b2319531c875e6f8.txt\n",
            "25-02-15-13-25-09_jpg.rf.1f9aa66350b00e715846a03d87d604c8.txt\n",
            "25-02-15-13-31-40_jpg.rf.0c83f50fd92ab4f9eec1cb87f9afc775.txt\n",
            "25-02-15-13-35-08_jpg.rf.47d81dfa4fbefa18fd5b035dd44f6eee.txt\n",
            "25-02-15-13-37-20_jpg.rf.fdfdadb8d9d63093192349fb2df19b4d.txt\n",
            "25-02-15-13-37-30_jpg.rf.db8097ab4dee1f089462a5147dfd1173.txt\n",
            "25-02-15-13-42-45_jpg.rf.914eb996e7ca8d2f18dbca0e1dadc814.txt\n",
            "25-02-15-13-43-11_jpg.rf.d90612217cc09f938eac629a91e98e34.txt\n",
            "25-02-15-13-52-24_jpg.rf.90dcea3656d6316b374c4a1b471303ff.txt\n",
            "25-02-15-13-53-05_jpg.rf.d2e774674d08860c97330a309d147bdb.txt\n",
            "25-02-15-13-55-58_jpg.rf.ff83a734ea28765663d64466e673cf0a.txt\n",
            "25-02-15-13-56-38_jpg.rf.6618a4c7900685f6b011f93f45f80d2a.txt\n",
            "25-02-15-13-57-49_jpg.rf.4ce7ef3ef5f61c0ebf5a3d83cdb08dc0.txt\n",
            "25-02-15-14-03-40_jpg.rf.819fc6a1d712affda74bbdf3ee25bc96.txt\n",
            "25-02-15-14-11-42_jpg.rf.a17825ac3fc4bbfaedc6161ba4c13e09.txt\n",
            "25-02-15-14-20-15_jpg.rf.5cb569999db1dc9c450b4f6b5cc03247.txt\n",
            "25-02-15-14-21-26_jpg.rf.23cb9954c347f4a786bf196fe00a3e3b.txt\n",
            "25-02-15-14-23-08_jpg.rf.fbcb25564a7e35c0beb2daafd8b2e46e.txt\n",
            "25-02-15-14-33-22_jpg.rf.0ca4660905ee1dcf42877f742eb7ffcf.txt\n",
            "25-02-15-14-39-53_jpg.rf.f1d774bdc904ced054b8bfdb241b3958.txt\n",
            "25-02-15-14-42-26_jpg.rf.d3e332b694ca456fbcf7e21f6cb82d46.txt\n",
            "25-02-15-14-44-53_jpg.rf.d18528ef8d1d5c54cc450b06608a5020.txt\n",
            "25-02-15-14-47-15_jpg.rf.97220511947e0985230e0647d932c430.txt\n",
            "25-02-15-15-32-02_jpg.rf.80a8dcd0070947005838cda56532877d.txt\n",
            "25-02-15-15-56-19_jpg.rf.80c55cb12db20487dc98bd138c18abd1.txt\n",
            "\n",
            "/content/runs:\n",
            "detect\n",
            "\n",
            "/content/runs/detect:\n",
            "train  train2  train22\n",
            "\n",
            "/content/runs/detect/train:\n",
            "args.yaml  weights\n",
            "\n",
            "/content/runs/detect/train/weights:\n",
            "\n",
            "/content/runs/detect/train2:\n",
            "args.yaml\t\t\t\t\t    R_curve.png\t\t val_batch0_labels.jpg\n",
            "confusion_matrix_normalized.png\t\t\t    results.csv\t\t val_batch0_pred.jpg\n",
            "confusion_matrix.png\t\t\t\t    results.png\t\t val_batch1_labels.jpg\n",
            "events.out.tfevents.1739899779.2e12cc6cdb18.1732.0  train_batch0.jpg\t val_batch1_pred.jpg\n",
            "F1_curve.png\t\t\t\t\t    train_batch1.jpg\t val_batch2_labels.jpg\n",
            "labels_correlogram.jpg\t\t\t\t    train_batch2840.jpg  val_batch2_pred.jpg\n",
            "labels.jpg\t\t\t\t\t    train_batch2841.jpg  weights\n",
            "P_curve.png\t\t\t\t\t    train_batch2842.jpg\n",
            "PR_curve.png\t\t\t\t\t    train_batch2.jpg\n",
            "\n",
            "/content/runs/detect/train2/weights:\n",
            "best.pt  last.pt\n",
            "\n",
            "/content/runs/detect/train22:\n",
            "confusion_matrix_normalized.png  P_curve.png   val_batch0_labels.jpg  val_batch1_pred.jpg\n",
            "confusion_matrix.png\t\t PR_curve.png  val_batch0_pred.jpg    val_batch2_labels.jpg\n",
            "F1_curve.png\t\t\t R_curve.png   val_batch1_labels.jpg  val_batch2_pred.jpg\n",
            "\n",
            "/content/sample_data:\n",
            "anscombe.json\t\t     california_housing_train.csv  mnist_train_small.csv\n",
            "california_housing_test.csv  mnist_test.csv\t\t   README.md\n"
          ]
        }
      ]
    },
    {
      "cell_type": "code",
      "source": [
        "!ls -R //content/Cloud-detection-1.0-4\n"
      ],
      "metadata": {
        "colab": {
          "base_uri": "https://localhost:8080/"
        },
        "collapsed": true,
        "id": "I9G-sFrUDSs1",
        "outputId": "e7a8c3be-5488-4101-833a-a81b7af06ffd"
      },
      "execution_count": null,
      "outputs": [
        {
          "output_type": "stream",
          "name": "stdout",
          "text": [
            "//content/Cloud-detection-1.0-4:\n",
            "data.yaml  README.dataset.txt  README.roboflow.txt  test  train  valid\n",
            "\n",
            "//content/Cloud-detection-1.0-4/test:\n",
            "images\tlabels\n",
            "\n",
            "//content/Cloud-detection-1.0-4/test/images:\n",
            "25-02-15-11-06-40_jpg.rf.93c34396874b0dd5b71f8e287b690f9d.jpg\n",
            "25-02-15-11-08-42_jpg.rf.417df0209adb74b5d123c48b7fe100f7.jpg\n",
            "25-02-15-11-25-48_jpg.rf.04c267da1b839631dcb7a7b0fffc2b2c.jpg\n",
            "25-02-15-11-28-35_jpg.rf.785d0596734000b8dde3e66390ed766b.jpg\n",
            "25-02-15-11-31-38_jpg.rf.c4c2f8c800c4451cf87bb48c0eeed5a4.jpg\n",
            "25-02-15-12-26-13_jpg.rf.5c95a526729fdf74452095c0ff54ecd5.jpg\n",
            "25-02-15-12-49-15_jpg.rf.4b0ae08878cc22c78817c2cd110106a2.jpg\n",
            "25-02-15-12-59-10_jpg.rf.a2750a5dc6a6fe0978d54e70d6073a12.jpg\n",
            "25-02-15-13-07-42_jpg.rf.e40a15d467962f5ad9f9f5ed6d194218.jpg\n",
            "25-02-15-13-17-42_jpg.rf.78e539df8b6a0816a1305b3c536c0c47.jpg\n",
            "25-02-15-13-17-52_jpg.rf.9e9994132ee604493409618481e40638.jpg\n",
            "25-02-15-13-24-59_jpg.rf.7984d614d6bdaa42f657d35ac57220d4.jpg\n",
            "25-02-15-13-27-46_jpg.rf.ed3e01d5da0134d2288bf46cde5cd5a2.jpg\n",
            "25-02-15-13-30-29_jpg.rf.20c0efdfac81009661bd835d6b9d5852.jpg\n",
            "25-02-15-13-41-14_jpg.rf.64fc33cedf0e2f6c9e2cab4f8523670a.jpg\n",
            "25-02-15-14-00-06_jpg.rf.12d64040317900c77edea5d5757a683c.jpg\n",
            "25-02-15-14-02-29_jpg.rf.157ee64d11add5554b8045122e6ac7e1.jpg\n",
            "25-02-15-14-08-14_jpg.rf.202e2982169785e1ac089a1c8d170b07.jpg\n",
            "25-02-15-14-12-03_jpg.rf.dd2a626d7c70253306b6cb11dcb571fd.jpg\n",
            "25-02-15-14-15-36_jpg.rf.c8e096ddae52f7d5704d9241cd144e6d.jpg\n",
            "25-02-15-14-25-55_jpg.rf.2b0ccd196e366c3e96bf0ab3f31b0a2d.jpg\n",
            "25-02-15-14-36-30_jpg.rf.8a1fdf165392c2682a0a24725ea2eb87.jpg\n",
            "25-02-15-14-40-34_jpg.rf.e3589b5ac37189698924c588568f3b11.jpg\n",
            "25-02-15-14-47-05_jpg.rf.f621a9bf063140539a02393bd8d81f06.jpg\n",
            "\n",
            "//content/Cloud-detection-1.0-4/test/labels:\n",
            "25-02-15-11-06-40_jpg.rf.93c34396874b0dd5b71f8e287b690f9d.txt\n",
            "25-02-15-11-08-42_jpg.rf.417df0209adb74b5d123c48b7fe100f7.txt\n",
            "25-02-15-11-25-48_jpg.rf.04c267da1b839631dcb7a7b0fffc2b2c.txt\n",
            "25-02-15-11-28-35_jpg.rf.785d0596734000b8dde3e66390ed766b.txt\n",
            "25-02-15-11-31-38_jpg.rf.c4c2f8c800c4451cf87bb48c0eeed5a4.txt\n",
            "25-02-15-12-26-13_jpg.rf.5c95a526729fdf74452095c0ff54ecd5.txt\n",
            "25-02-15-12-49-15_jpg.rf.4b0ae08878cc22c78817c2cd110106a2.txt\n",
            "25-02-15-12-59-10_jpg.rf.a2750a5dc6a6fe0978d54e70d6073a12.txt\n",
            "25-02-15-13-07-42_jpg.rf.e40a15d467962f5ad9f9f5ed6d194218.txt\n",
            "25-02-15-13-17-42_jpg.rf.78e539df8b6a0816a1305b3c536c0c47.txt\n",
            "25-02-15-13-17-52_jpg.rf.9e9994132ee604493409618481e40638.txt\n",
            "25-02-15-13-24-59_jpg.rf.7984d614d6bdaa42f657d35ac57220d4.txt\n",
            "25-02-15-13-27-46_jpg.rf.ed3e01d5da0134d2288bf46cde5cd5a2.txt\n",
            "25-02-15-13-30-29_jpg.rf.20c0efdfac81009661bd835d6b9d5852.txt\n",
            "25-02-15-13-41-14_jpg.rf.64fc33cedf0e2f6c9e2cab4f8523670a.txt\n",
            "25-02-15-14-00-06_jpg.rf.12d64040317900c77edea5d5757a683c.txt\n",
            "25-02-15-14-02-29_jpg.rf.157ee64d11add5554b8045122e6ac7e1.txt\n",
            "25-02-15-14-08-14_jpg.rf.202e2982169785e1ac089a1c8d170b07.txt\n",
            "25-02-15-14-12-03_jpg.rf.dd2a626d7c70253306b6cb11dcb571fd.txt\n",
            "25-02-15-14-15-36_jpg.rf.c8e096ddae52f7d5704d9241cd144e6d.txt\n",
            "25-02-15-14-25-55_jpg.rf.2b0ccd196e366c3e96bf0ab3f31b0a2d.txt\n",
            "25-02-15-14-36-30_jpg.rf.8a1fdf165392c2682a0a24725ea2eb87.txt\n",
            "25-02-15-14-40-34_jpg.rf.e3589b5ac37189698924c588568f3b11.txt\n",
            "25-02-15-14-47-05_jpg.rf.f621a9bf063140539a02393bd8d81f06.txt\n",
            "\n",
            "//content/Cloud-detection-1.0-4/train:\n",
            "images\tlabels\tlabels.cache\n",
            "\n",
            "//content/Cloud-detection-1.0-4/train/images:\n",
            "25-02-15-11-02-25_jpg.rf.41452e9a72f58065948f1c6bad8f8e0e.jpg\n",
            "25-02-15-11-02-25_jpg.rf.679914b2e4e9eb6aa6446a16cbd9d4d7.jpg\n",
            "25-02-15-11-02-25_jpg.rf.eda10808df61fca1a2e626790df2d1bf.jpg\n",
            "25-02-15-11-02-36_jpg.rf.0a30cdc9f2e10b65286ca8723493a215.jpg\n",
            "25-02-15-11-02-36_jpg.rf.760396dc5cc36521d59e9f5669d88b48.jpg\n",
            "25-02-15-11-02-36_jpg.rf.9c60d0b977eb4e8c34cca3884396bf25.jpg\n",
            "25-02-15-11-05-28_jpg.rf.17c503485831ddb7ac42d9f793bd8c85.jpg\n",
            "25-02-15-11-05-28_jpg.rf.18509bbff82d050711d34d1d5433d75d.jpg\n",
            "25-02-15-11-05-28_jpg.rf.240df6d28e19f003a8fe97d8f955bdd4.jpg\n",
            "25-02-15-11-07-00_jpg.rf.66a8c1d610ba768cc97ee52a9f3bf98e.jpg\n",
            "25-02-15-11-07-00_jpg.rf.c55534668588f4174481c089a1439f24.jpg\n",
            "25-02-15-11-07-00_jpg.rf.f59072b0be81ef96a849ad40393de150.jpg\n",
            "25-02-15-11-09-07_jpg.rf.59dff832cd056cec1be98a4214919f71.jpg\n",
            "25-02-15-11-09-07_jpg.rf.7bde8f5c3092dc3a12f45e3d92947415.jpg\n",
            "25-02-15-11-09-07_jpg.rf.8f26a029679fbc526f4da7cca471a0e0.jpg\n",
            "25-02-15-11-09-17_jpg.rf.51c3df3e9e3323e93e373e189dba52d0.jpg\n",
            "25-02-15-11-09-17_jpg.rf.60a09d1b78fc282a2f3d5fa58020697b.jpg\n",
            "25-02-15-11-09-17_jpg.rf.9d3907749193ffd7abd5717467ce00aa.jpg\n",
            "25-02-15-11-10-08_jpg.rf.519cc1d144a3042cf895add4fa0eb1f4.jpg\n",
            "25-02-15-11-10-08_jpg.rf.cd33582302dba32971f931bb44d0e8a7.jpg\n",
            "25-02-15-11-10-08_jpg.rf.d27d9ea3ff936bd4848ce2991809f752.jpg\n",
            "25-02-15-11-10-18_jpg.rf.00c2c36baf7529283b5ba516549a17fd.jpg\n",
            "25-02-15-11-10-18_jpg.rf.150229f3ac52d7b07c89b11207e10c68.jpg\n",
            "25-02-15-11-10-18_jpg.rf.86bfef61c1c83f05e0f24ec7f52c0f28.jpg\n",
            "25-02-15-11-11-49_jpg.rf.7038032defef3e571fcc5f88d424ca6e.jpg\n",
            "25-02-15-11-11-49_jpg.rf.9e60d1ba41cb9fd4246554726e1dd251.jpg\n",
            "25-02-15-11-11-49_jpg.rf.eb0e2a7afaef0c87957bfba83f950109.jpg\n",
            "25-02-15-11-12-30_jpg.rf.2ea4218e53d6d7351ee820aa8f09f446.jpg\n",
            "25-02-15-11-12-30_jpg.rf.44579b11d571b69f0474b350e636ef23.jpg\n",
            "25-02-15-11-12-30_jpg.rf.7685371c205592593670fa2acebce705.jpg\n",
            "25-02-15-11-15-03_jpg.rf.6210da01787526ec8ede750e12304fff.jpg\n",
            "25-02-15-11-15-03_jpg.rf.a1611647b83274d4c3039eb2590e87a1.jpg\n",
            "25-02-15-11-15-03_jpg.rf.f42162b79c029c9dad4a3bd1b629e22e.jpg\n",
            "25-02-15-11-15-13_jpg.rf.0890c3d45e7cb26dd74b7da222cc8f6b.jpg\n",
            "25-02-15-11-15-13_jpg.rf.5f5d8a1b746cf3bc57fbdacb3eb65136.jpg\n",
            "25-02-15-11-15-13_jpg.rf.d26cc4308a21e505e3c17b7254364758.jpg\n",
            "25-02-15-11-16-44_jpg.rf.1097a2ed92b06b7f7283eb25bba2196e.jpg\n",
            "25-02-15-11-16-44_jpg.rf.1916c9c276c3371e257ddd6f5986d0af.jpg\n",
            "25-02-15-11-16-44_jpg.rf.a3f7e81b28d7c1ccb2c50e85f7a715fe.jpg\n",
            "25-02-15-11-17-04_jpg.rf.4ca837a4deff95c9ebe81a5b638b06ef.jpg\n",
            "25-02-15-11-17-04_jpg.rf.5c97b97f3eab84aafe8b3da7ebbc1c96.jpg\n",
            "25-02-15-11-17-04_jpg.rf.8f286f0d53ecc946eae6cc1fd7bd5410.jpg\n",
            "25-02-15-11-20-22_jpg.rf.175919e775250c11741b92d1b82dedcc.jpg\n",
            "25-02-15-11-20-22_jpg.rf.2f4df698ea10253c226a6db32217a8b4.jpg\n",
            "25-02-15-11-20-22_jpg.rf.d2db13728e2457074fb2500e52a0721b.jpg\n",
            "25-02-15-11-20-53_jpg.rf.035f73872d64b144d9534a71627c7b3b.jpg\n",
            "25-02-15-11-20-53_jpg.rf.5b0950475513b6525f338fec27015ce7.jpg\n",
            "25-02-15-11-20-53_jpg.rf.6771091b6570a96a9bc3981327270f2e.jpg\n",
            "25-02-15-11-21-03_jpg.rf.1c837c6926d3e4210a93cc46a5ec34b6.jpg\n",
            "25-02-15-11-21-03_jpg.rf.21e3dddec3075cb831572f72077b7dfb.jpg\n",
            "25-02-15-11-21-03_jpg.rf.f1f3827ce13fb77dc0229b40306b2f22.jpg\n",
            "25-02-15-11-21-13_jpg.rf.469fd361ee771754a2a259612b8bcc2c.jpg\n",
            "25-02-15-11-21-13_jpg.rf.75cdf4bd4ec465d48deb65a3b61b4a70.jpg\n",
            "25-02-15-11-21-13_jpg.rf.f2efc5d8e4153e6409b6e84ca78b554f.jpg\n",
            "25-02-15-11-23-05_jpg.rf.04f0e71b78ca64f9f02511b0616cab55.jpg\n",
            "25-02-15-11-23-05_jpg.rf.af6282b8ba27c5dea6d1908a3d4fe125.jpg\n",
            "25-02-15-11-23-05_jpg.rf.f62c319842a13260c06e6918d72913e8.jpg\n",
            "25-02-15-11-24-36_jpg.rf.1891e8429103d2cca244d72cd230e469.jpg\n",
            "25-02-15-11-24-36_jpg.rf.5a6c71cce732fc1f1d908482fdc6a8e1.jpg\n",
            "25-02-15-11-24-36_jpg.rf.94ce460cb1875a11dfd8d15ea5c8471d.jpg\n",
            "25-02-15-11-25-17_jpg.rf.1923043e8a86b299cb4cbc5a91fa4546.jpg\n",
            "25-02-15-11-25-17_jpg.rf.240d468c9d09c8eff01bafe63ba275bf.jpg\n",
            "25-02-15-11-25-17_jpg.rf.d9d0ad3983467f53734b35f2eb72f98c.jpg\n",
            "25-02-15-11-25-58_jpg.rf.1ef87505a382ef52ca273e5eb1039c05.jpg\n",
            "25-02-15-11-25-58_jpg.rf.2f1946129a634250cb73070c5302c57d.jpg\n",
            "25-02-15-11-25-58_jpg.rf.a3d7853cf9d8cf0eff6f33106d28a9e2.jpg\n",
            "25-02-15-11-29-06_jpg.rf.2e68ac07e743fb1954f9b78ea20bd70b.jpg\n",
            "25-02-15-11-29-06_jpg.rf.9dd1023016edcc63291b912009fa328f.jpg\n",
            "25-02-15-11-29-06_jpg.rf.b739b2cd424f8e75c46028e2802b08cf.jpg\n",
            "25-02-15-11-31-28_jpg.rf.45f9f581c48a3e58f9264485c37c0444.jpg\n",
            "25-02-15-11-31-28_jpg.rf.4ba0cc21289a94c4180987382583aff0.jpg\n",
            "25-02-15-11-31-28_jpg.rf.fefcd1e7b28869e4e123f49591226fb4.jpg\n",
            "25-02-15-11-33-10_jpg.rf.20218c70e76211bff9faeda9c8dd8a6e.jpg\n",
            "25-02-15-11-33-10_jpg.rf.7518b87ff08d713468d8a8a86dfe86bf.jpg\n",
            "25-02-15-11-33-10_jpg.rf.bef293a4d587cf3c8a06236acb4f63e2.jpg\n",
            "25-02-15-11-34-21_jpg.rf.1332981c8665d46f109f21d3c3fb45e3.jpg\n",
            "25-02-15-11-34-21_jpg.rf.187c0139b6c59d9d00dd2910dd27645a.jpg\n",
            "25-02-15-11-34-21_jpg.rf.c456b7cf8584cccfff0aee60fddfed2e.jpg\n",
            "25-02-15-11-34-31_jpg.rf.9b30b445d71042d52ab2d87d6a458c7b.jpg\n",
            "25-02-15-11-34-31_jpg.rf.a08de6e4c487a93aec5f5be4a1a69095.jpg\n",
            "25-02-15-11-34-31_jpg.rf.ec9ad415eaa36a0c5d3f5ff0e3881c43.jpg\n",
            "25-02-15-11-37-49_jpg.rf.3ed6dcd2c34a0a0755e26640b9f4c2a1.jpg\n",
            "25-02-15-11-37-49_jpg.rf.789edfe2e5f2df89d2764ce13926dff0.jpg\n",
            "25-02-15-11-37-49_jpg.rf.8b747a12a124ccf582b4639306768a54.jpg\n",
            "25-02-15-11-37-59_jpg.rf.4f2041f568a9f601b117e3638e8ff277.jpg\n",
            "25-02-15-11-37-59_jpg.rf.c12dce5ca861d71dfb30fe477adbf7cd.jpg\n",
            "25-02-15-11-41-43_jpg.rf.415c58b812fe43af836302957a1774a8.jpg\n",
            "25-02-15-11-41-43_jpg.rf.8dd9a3180bb40f35214401a184e9f6b9.jpg\n",
            "25-02-15-11-41-43_jpg.rf.b83a9b31d23144e2736c02b59eb0ee73.jpg\n",
            "25-02-15-11-42-03_jpg.rf.2a6ae6f5256344b0029a0fdfd09d7777.jpg\n",
            "25-02-15-11-42-03_jpg.rf.d39bab5d9e2748f31cf2e8cc59368298.jpg\n",
            "25-02-15-11-42-03_jpg.rf.f6a81fda32675b2775628d324481d8ff.jpg\n",
            "25-02-15-11-42-13_jpg.rf.66e1845f496e1ae40ffce7f4870b2a7a.jpg\n",
            "25-02-15-11-42-13_jpg.rf.c17c9a60ad36afa537b903346630bde4.jpg\n",
            "25-02-15-11-42-13_jpg.rf.c64cfb4cb4e1c584ba03d833b104582c.jpg\n",
            "25-02-15-11-45-21_jpg.rf.4f9ded184612dfe59daa57a3358656ce.jpg\n",
            "25-02-15-11-45-21_jpg.rf.b32d2e4d5de06a91d1178da540e6a4d8.jpg\n",
            "25-02-15-11-45-21_jpg.rf.c87268ba752557f0bc7017e26f8dc300.jpg\n",
            "25-02-15-11-50-05_jpg.rf.37978c1ea47a06a42ec64f2adcb2ff55.jpg\n",
            "25-02-15-11-50-05_jpg.rf.d4efdf6ab5d4eb2e88f65966935ed042.jpg\n",
            "25-02-15-11-51-51_jpg.rf.0b59a6d028d757db9ac45d804486211e.jpg\n",
            "25-02-15-11-51-51_jpg.rf.7b6b4ab8291fcb58a1f7437016f5babd.jpg\n",
            "25-02-15-11-51-51_jpg.rf.cd31a4cd011365bdd55e04bb282dd50c.jpg\n",
            "25-02-15-11-52-02_jpg.rf.2e79a62277173375cc0e80a45cbbf1d8.jpg\n",
            "25-02-15-11-52-02_jpg.rf.a6d106d13bc942f301b8d70b1b6d366d.jpg\n",
            "25-02-15-11-52-02_jpg.rf.fbace97cd3ffd45de540d9fd4e0fafe1.jpg\n",
            "25-02-15-11-52-12_jpg.rf.2f1183a56f698a1e1e711ac69447aeef.jpg\n",
            "25-02-15-11-52-12_jpg.rf.74234bd685d8c2bf14aae0a412fbe075.jpg\n",
            "25-02-15-11-52-12_jpg.rf.cac00cdea66e44919259eba19c767859.jpg\n",
            "25-02-15-11-53-54_jpg.rf.36e31f331bf6c36f7a5b2d6883a38641.jpg\n",
            "25-02-15-11-53-54_jpg.rf.81ace301aeae3e80bc35d88c3e25f070.jpg\n",
            "25-02-15-11-53-54_jpg.rf.cb771358e8c8d5b9d1bb759c598650d2.jpg\n",
            "25-02-15-11-55-25_jpg.rf.0966109d822bb189db7f13288327c778.jpg\n",
            "25-02-15-11-55-25_jpg.rf.8d7259d1b3efcd2d83abe21761a0f34a.jpg\n",
            "25-02-15-11-55-25_jpg.rf.da53618b860053aff1d28617e81babdd.jpg\n",
            "25-02-15-11-57-27_jpg.rf.1d97ff58912249617c375cdc4f2b881e.jpg\n",
            "25-02-15-11-57-27_jpg.rf.a9a0f8c93009c1523ba4b35d12a562e1.jpg\n",
            "25-02-15-11-57-27_jpg.rf.b2a25f4d0ce6aefc763ade9e1f81a89f.jpg\n",
            "25-02-15-11-57-37_jpg.rf.56119535d69184f0acbbfbb2d8ede1e1.jpg\n",
            "25-02-15-11-57-37_jpg.rf.e48e6c7a5d1d81f8e3513a6f845e4959.jpg\n",
            "25-02-15-11-57-37_jpg.rf.f7a3f94251128cab0fb2658906b76715.jpg\n",
            "25-02-15-11-57-57_jpg.rf.39e4374a378635edd59d7f7ee6de1e77.jpg\n",
            "25-02-15-11-57-57_jpg.rf.469bd5043cef3b7a85a0b97da23e0847.jpg\n",
            "25-02-15-11-57-57_jpg.rf.c735513386ad6d61ce4586f8591078e9.jpg\n",
            "25-02-15-11-59-49_jpg.rf.3e93ec0111b4c70fff99d5258d98baec.jpg\n",
            "25-02-15-11-59-49_jpg.rf.887dec0be4013cd10a56b8573a4be8ee.jpg\n",
            "25-02-15-11-59-49_jpg.rf.f9e9b3f4d73649f1a6a498820072ea17.jpg\n",
            "25-02-15-12-01-46_jpg.rf.853b4f3a127d01b531586ecd2cf9c25b.jpg\n",
            "25-02-15-12-01-46_jpg.rf.e5c396b7af8c167a55e2c5082f7b3e83.jpg\n",
            "25-02-15-12-01-46_jpg.rf.e71644f983cf854b4233ed9be1ceff22.jpg\n",
            "25-02-15-12-01-56_jpg.rf.5271aaf23af44d824a15ef2649a18e57.jpg\n",
            "25-02-15-12-01-56_jpg.rf.7cd4a08d349a60230f0a3a8fe63259fe.jpg\n",
            "25-02-15-12-01-56_jpg.rf.e0f92cf666702d635526e1ba8a43df08.jpg\n",
            "25-02-15-12-02-16_jpg.rf.1a573f50be7c64e2ed886f3983f371c4.jpg\n",
            "25-02-15-12-02-16_jpg.rf.2c539537ba2e1e51c553bf46c4365361.jpg\n",
            "25-02-15-12-02-16_jpg.rf.32782ec394650faf5cb5edc9ae006347.jpg\n",
            "25-02-15-12-05-09_jpg.rf.21a77e5bfcc05ac725641f7b1a18772c.jpg\n",
            "25-02-15-12-05-09_jpg.rf.32eed94e01c479db88b7e0d50a2337cb.jpg\n",
            "25-02-15-12-05-09_jpg.rf.5bc2f23a2551cfdf09205f3693f7db7d.jpg\n",
            "25-02-15-12-05-19_jpg.rf.0aee6d7d22283ea9de63762ce9aa8fe3.jpg\n",
            "25-02-15-12-05-19_jpg.rf.9879a72534d541f55c232f6557b33f1c.jpg\n",
            "25-02-15-12-05-19_jpg.rf.cb940fb32ca7da3904da5130a9dab3e1.jpg\n",
            "25-02-15-12-06-40_jpg.rf.25043c3a3274bfda2ea64feca9d61683.jpg\n",
            "25-02-15-12-06-40_jpg.rf.6ae7014ffe1dc3c81248498657171c20.jpg\n",
            "25-02-15-12-06-40_jpg.rf.d54790e5c174b13f45161a6e36d20203.jpg\n",
            "25-02-15-12-07-21_jpg.rf.2d1d6a2e004909fa2f54df6fa5429b0e.jpg\n",
            "25-02-15-12-07-21_jpg.rf.3afc1119e44d9bf844aa2852375b03b0.jpg\n",
            "25-02-15-12-07-21_jpg.rf.70ef5d9df5f78faadb25d8188af3228d.jpg\n",
            "25-02-15-12-09-18_jpg.rf.08fe3fc9b828d56562e905e7c95cf5c8.jpg\n",
            "25-02-15-12-09-18_jpg.rf.7ecc35ebf5afabd1aecc37a29890557c.jpg\n",
            "25-02-15-12-09-18_jpg.rf.811622dc7e2f0cce157da9fb0f786d33.jpg\n",
            "25-02-15-12-10-29_jpg.rf.4cc2d1fe563e1f523a8e98c41f9b6653.jpg\n",
            "25-02-15-12-10-29_jpg.rf.6eaf80d7627d3b2546b6482ae649ec3d.jpg\n",
            "25-02-15-12-10-29_jpg.rf.9dc932fcab4aae45684520ae91895d79.jpg\n",
            "25-02-15-12-10-39_jpg.rf.700c558171b396e1a9ad6eb4f945e82c.jpg\n",
            "25-02-15-12-10-39_jpg.rf.ab0c4a928125f743a41eee34176a32df.jpg\n",
            "25-02-15-12-10-39_jpg.rf.b8e6586462a678767500ff9fc7b42546.jpg\n",
            "25-02-15-12-11-40_jpg.rf.8cf595a9548df1eacea5ace45a4052ca.jpg\n",
            "25-02-15-12-11-40_jpg.rf.e714fa0136ceded26506fc47d701356a.jpg\n",
            "25-02-15-12-12-00_jpg.rf.1f339e374bc5e683b3cc9b350c6acd81.jpg\n",
            "25-02-15-12-12-00_jpg.rf.448310299869da8c9e790e75370c9a92.jpg\n",
            "25-02-15-12-12-00_jpg.rf.584a01cf954a429dfbeccdcc3b6a2eac.jpg\n",
            "25-02-15-12-12-10_jpg.rf.073e52815c3e85fa170df8eba45d97e2.jpg\n",
            "25-02-15-12-12-10_jpg.rf.0cf11afff927dad16bd4fabca55eb5c5.jpg\n",
            "25-02-15-12-12-10_jpg.rf.ef79ecdb9068e86591e2f32cce2c44ce.jpg\n",
            "25-02-15-12-12-31_jpg.rf.01b4d66a9a5f8eb38e7a7d8550382ada.jpg\n",
            "25-02-15-12-12-31_jpg.rf.03deecc57e8600b652e9121d671e7813.jpg\n",
            "25-02-15-12-12-31_jpg.rf.46a8df6a537c74550e955f5c17b54af7.jpg\n",
            "25-02-15-12-13-42_jpg.rf.142916da508e5b12ba175f5a8b7b413b.jpg\n",
            "25-02-15-12-13-42_jpg.rf.767761750bd0f8a0b3f884aab721d58f.jpg\n",
            "25-02-15-12-13-42_jpg.rf.f3d51176420836e2453b9b0aaf44222b.jpg\n",
            "25-02-15-12-14-12_jpg.rf.1e79108d2496e00406e04492375065c1.jpg\n",
            "25-02-15-12-14-12_jpg.rf.a7db831548b709166bd2421999c556c2.jpg\n",
            "25-02-15-12-14-12_jpg.rf.f956b32557f5b211000111f3181ea538.jpg\n",
            "25-02-15-12-15-34_jpg.rf.55258faa9164d0b18f12d6699322eb6f.jpg\n",
            "25-02-15-12-15-34_jpg.rf.c39f4b818bd598ddeb954d04d307f367.jpg\n",
            "25-02-15-12-15-34_jpg.rf.f7d8cf377c36fb8ca2baef0552d7e62c.jpg\n",
            "25-02-15-12-19-22_jpg.rf.4a252891bc0330b1f649f576d5e4c7a1.jpg\n",
            "25-02-15-12-19-22_jpg.rf.d8ae727d27eb72e944471103f21f6f50.jpg\n",
            "25-02-15-12-19-22_jpg.rf.fdb0e04afb91b28401bb7dac025ccb9a.jpg\n",
            "25-02-15-12-19-32_jpg.rf.20a5cdd4c2f6cb813177711e81f8dd74.jpg\n",
            "25-02-15-12-19-32_jpg.rf.85a5dcccb2a0e92f3be096327854bad8.jpg\n",
            "25-02-15-12-19-32_jpg.rf.8fb56129a6dfe789422c90c6f498e801.jpg\n",
            "25-02-15-12-21-34_jpg.rf.0f8bc9851a7611fd687d2eabbdae12a5.jpg\n",
            "25-02-15-12-21-34_jpg.rf.8fb9227ec05ae6f914258b52af98c1c4.jpg\n",
            "25-02-15-12-21-34_jpg.rf.c4ab520afe2404f9702af183b02eb180.jpg\n",
            "25-02-15-12-23-26_jpg.rf.10b67fd733d698a2a80061ccd2368754.jpg\n",
            "25-02-15-12-23-26_jpg.rf.4538a1b5b7ecd98ba373101acf3670d2.jpg\n",
            "25-02-15-12-23-26_jpg.rf.a8fd08c87fff5f9601c4280db2f1d8b3.jpg\n",
            "25-02-15-12-24-07_jpg.rf.16e33d237627598c14a12459ef186e42.jpg\n",
            "25-02-15-12-24-07_jpg.rf.2e3bfda14d1f99b91649e64202c037d3.jpg\n",
            "25-02-15-12-24-07_jpg.rf.d512e1e0101cd9a068c25cbb2d4b33c7.jpg\n",
            "25-02-15-12-24-17_jpg.rf.0bf227ebd296ae4f6fd28781991bb3e9.jpg\n",
            "25-02-15-12-24-17_jpg.rf.5b709aa4c1674798098157f3dc1824ea.jpg\n",
            "25-02-15-12-24-17_jpg.rf.67966d69cc0be85bfe866ab0e38001cd.jpg\n",
            "25-02-15-12-25-38_jpg.rf.05ecd32516175d8d8c4a66cac51b2f36.jpg\n",
            "25-02-15-12-25-38_jpg.rf.3e5944e1715f6283cf526aa3e8960301.jpg\n",
            "25-02-15-12-25-38_jpg.rf.bd304f86fea82e734842d945c65e7cc2.jpg\n",
            "25-02-15-12-28-15_jpg.rf.0a11febb216aa78df1f72c8ee5c084c2.jpg\n",
            "25-02-15-12-28-15_jpg.rf.935c1d64f82f394369991e190460f36c.jpg\n",
            "25-02-15-12-28-15_jpg.rf.d508129efdecf306d6c86fa1f1b0aa2b.jpg\n",
            "25-02-15-12-29-37_jpg.rf.870af2c72b3c9e0cdb13c6c7454910c1.jpg\n",
            "25-02-15-12-29-37_jpg.rf.880073779dad68eb9b800833167a4b2e.jpg\n",
            "25-02-15-12-29-37_jpg.rf.be077054b26e7392519835bf535efa2b.jpg\n",
            "25-02-15-12-29-47_jpg.rf.2c5080bd5c531e98cdc7bfdf211843f8.jpg\n",
            "25-02-15-12-29-47_jpg.rf.48470b032f0011975a93ca5181d09619.jpg\n",
            "25-02-15-12-29-47_jpg.rf.96cd4ab2499f50bdb70cbb2ad5caa6c5.jpg\n",
            "25-02-15-12-30-07_jpg.rf.3309d1f411581a940482e987438ab08c.jpg\n",
            "25-02-15-12-30-07_jpg.rf.64d527d817dde93e6ebd420af46fabf5.jpg\n",
            "25-02-15-12-30-07_jpg.rf.cc1f04bc3cf645bb539c1ebb52b8d00f.jpg\n",
            "25-02-15-12-31-08_jpg.rf.6b0b8da5ab49f0264ed24c30390d5525.jpg\n",
            "25-02-15-12-31-08_jpg.rf.c3e916cdec0c811ee2696e73bed0305e.jpg\n",
            "25-02-15-12-31-08_jpg.rf.fc0ebf27ad602337e705b222508d2b90.jpg\n",
            "25-02-15-12-31-18_jpg.rf.17ae912862ef4deea3d41075ab5a98e0.jpg\n",
            "25-02-15-12-31-18_jpg.rf.30aa0116a2d23ea3591f9a48a17c87bd.jpg\n",
            "25-02-15-12-31-18_jpg.rf.a692a8a1a3e4b90ffa446c9b1607f9e0.jpg\n",
            "25-02-15-12-33-20_jpg.rf.2d3f2ac4418ce5122b91fe3f55a6e4a8.jpg\n",
            "25-02-15-12-33-20_jpg.rf.876d9cebb2592797b50d9233d4bb75af.jpg\n",
            "25-02-15-12-33-20_jpg.rf.a5ca083c5b7ec9c0fb6019e2ad855b68.jpg\n",
            "25-02-15-12-33-30_jpg.rf.0c6a494c7fc2c5442290074fd4f2ec2f.jpg\n",
            "25-02-15-12-33-30_jpg.rf.ab4c9f67403a3d4c42821d25d0ead05a.jpg\n",
            "25-02-15-12-33-30_jpg.rf.c8513bd6f859284add326173dabf0cb2.jpg\n",
            "25-02-15-12-34-01_jpg.rf.67730fddb84c197bf6b1e3b4a1132ef5.jpg\n",
            "25-02-15-12-34-01_jpg.rf.94ab3da57b3c4aaf98e747f329c431d9.jpg\n",
            "25-02-15-12-34-01_jpg.rf.c0a55fcd98458b30dcebf4f3293fde1b.jpg\n",
            "25-02-15-12-34-11_jpg.rf.27dc0e7cd402ad3e4b406ea0e63d9725.jpg\n",
            "25-02-15-12-34-11_jpg.rf.cbb192fe528276927b3cd50f1c628f7a.jpg\n",
            "25-02-15-12-34-11_jpg.rf.ecc15b99f75371d0022238732cfa1361.jpg\n",
            "25-02-15-12-36-38_jpg.rf.2c852ab09fa090f2c8310c83a0db3644.jpg\n",
            "25-02-15-12-36-38_jpg.rf.6ffd61606d11314f97bb4ab8dbc0bf04.jpg\n",
            "25-02-15-12-36-38_jpg.rf.921ba84e2e84ef8db19d7b9e02957340.jpg\n",
            "25-02-15-12-38-00_jpg.rf.a096996082c7307c195a6b7c3a15c2b7.jpg\n",
            "25-02-15-12-38-00_jpg.rf.af003169a863e7830d68a209f893c154.jpg\n",
            "25-02-15-12-38-00_jpg.rf.f87bea43f1ca1b53231abd505da0f66a.jpg\n",
            "25-02-15-12-38-10_jpg.rf.17f9a32cdacd9fa14c45c900bd77d764.jpg\n",
            "25-02-15-12-38-10_jpg.rf.8fd94b7ebc025fb7ff1f3f0621afa7e5.jpg\n",
            "25-02-15-12-38-10_jpg.rf.c8fcea4be6d30523c1b201580356871b.jpg\n",
            "25-02-15-12-39-51_jpg.rf.03cb4d7442c1da7ad271225e5a03170d.jpg\n",
            "25-02-15-12-39-51_jpg.rf.4cc82b4b5474c0a86d6db424a343a3cb.jpg\n",
            "25-02-15-12-39-51_jpg.rf.a49b651fd65ceb8e220167ce2ef83647.jpg\n",
            "25-02-15-12-40-22_jpg.rf.5d22b71dbb04bc6b3b2d1e5a82dc32a6.jpg\n",
            "25-02-15-12-40-22_jpg.rf.e34e67aa10e6ee3b86608949f81e1d5e.jpg\n",
            "25-02-15-12-42-34_jpg.rf.02e2ffffe9edb4ad1c0886faed9d6d58.jpg\n",
            "25-02-15-12-42-34_jpg.rf.85421d32b675cce3a5414af320b61bf4.jpg\n",
            "25-02-15-12-42-34_jpg.rf.bcd61dc476283c752a03509011c61327.jpg\n",
            "25-02-15-12-44-51_jpg.rf.004b4a263108e34c6fe38405962edfe0.jpg\n",
            "25-02-15-12-44-51_jpg.rf.77c3a2c695862d99485246f0bf65612f.jpg\n",
            "25-02-15-12-44-51_jpg.rf.8f866a26a7a0951f2ddc23534a983793.jpg\n",
            "25-02-15-12-45-01_jpg.rf.412780dbf3f9bc22916ce6debe53dcb3.jpg\n",
            "25-02-15-12-45-01_jpg.rf.d9147d22501f18970bcf340fa33e34e1.jpg\n",
            "25-02-15-12-45-01_jpg.rf.fbba1689e5c6cc117faa784c2b84e600.jpg\n",
            "25-02-15-12-47-03_jpg.rf.9026d80d81397844001364edbaf97efd.jpg\n",
            "25-02-15-12-47-03_jpg.rf.b4c989a91428a6e6feacb29dee5befa3.jpg\n",
            "25-02-15-12-47-03_jpg.rf.d1961d455fe3a86245c02a0a2e14c578.jpg\n",
            "25-02-15-12-47-13_jpg.rf.6019aba11f507ad984f122bec36c09e1.jpg\n",
            "25-02-15-12-47-13_jpg.rf.9ab7fc4aa89cba48bac3c0e99366885e.jpg\n",
            "25-02-15-12-47-13_jpg.rf.c021ba0b8272ea57d9732437cbd53d0f.jpg\n",
            "25-02-15-12-48-55_jpg.rf.4c042178b2bee72c3a0eab50b859739b.jpg\n",
            "25-02-15-12-48-55_jpg.rf.55a99412f79ebd9bd3966bbb45ada653.jpg\n",
            "25-02-15-12-48-55_jpg.rf.a193239a071cd4366cb76bcfb07854ca.jpg\n",
            "25-02-15-12-49-05_jpg.rf.218eb5b07ac3e4bb4507f816464eae8a.jpg\n",
            "25-02-15-12-49-05_jpg.rf.554eb72da4e79b940ed7340c8afecba1.jpg\n",
            "25-02-15-12-49-05_jpg.rf.8504c92f80ac54170fdd5fb0899831c9.jpg\n",
            "25-02-15-12-50-47_jpg.rf.21575d06121c4f55972062b758cf6063.jpg\n",
            "25-02-15-12-50-47_jpg.rf.88c99dccdbdb44ebc4fa7d2c061bdf18.jpg\n",
            "25-02-15-12-52-23_jpg.rf.848f64753d3ca402be288a9f5655b6aa.jpg\n",
            "25-02-15-12-52-23_jpg.rf.b39e7655a790ccffb3853fd5a126d253.jpg\n",
            "25-02-15-12-52-23_jpg.rf.eb47ff3c3d8321df70b9526284aaf89f.jpg\n",
            "25-02-15-12-54-56_jpg.rf.025db4e15d271a8f4e23d4419b8a2fbd.jpg\n",
            "25-02-15-12-54-56_jpg.rf.a321cead5104bc77b1ac2ecba2d13cec.jpg\n",
            "25-02-15-12-54-56_jpg.rf.a3c90b7296a57aee46dbef369c87bbd4.jpg\n",
            "25-02-15-12-55-16_jpg.rf.4b2e62f7a2673e902af82ae0cb789445.jpg\n",
            "25-02-15-12-55-16_jpg.rf.844796aff873d7edbd53d7aaad4fd68d.jpg\n",
            "25-02-15-12-55-16_jpg.rf.9ddabbe7d410896bc21ccf8e2a6a0dbd.jpg\n",
            "25-02-15-12-56-37_jpg.rf.409327319049f177e8fd01196b57eb48.jpg\n",
            "25-02-15-12-56-37_jpg.rf.a044349fb834cfe9f1c90f0730bfad99.jpg\n",
            "25-02-15-12-57-28_jpg.rf.319f81ded9df760d52b22422323ea112.jpg\n",
            "25-02-15-12-57-28_jpg.rf.760f38592740dc750f4822181bd6e45a.jpg\n",
            "25-02-15-12-57-28_jpg.rf.9d5a5f86d966931fb5d61159aebe30b1.jpg\n",
            "25-02-15-12-57-38_jpg.rf.2182dcad70a1299c503a613ed6b2869e.jpg\n",
            "25-02-15-12-57-38_jpg.rf.34601f057ec17743840433aea60efafe.jpg\n",
            "25-02-15-12-57-38_jpg.rf.f68104cc3ae2cc4611110900ac8c978b.jpg\n",
            "25-02-15-12-59-00_jpg.rf.12f414ed8c576aa14424c258fbfad01b.jpg\n",
            "25-02-15-12-59-00_jpg.rf.42e65de9bdde528ea45b0da92e4faf63.jpg\n",
            "25-02-15-12-59-00_jpg.rf.dc53fc0b49663b1a6d9698f70e572c45.jpg\n",
            "25-02-15-12-59-30_jpg.rf.6a147ab9e8617f001e0a20eb35b21af8.jpg\n",
            "25-02-15-12-59-30_jpg.rf.a2ba058fde61be2e6539c40ccc3eddc5.jpg\n",
            "25-02-15-12-59-30_jpg.rf.ffef24d7174e57ce72b0992866065f8e.jpg\n",
            "25-02-15-13-02-48_jpg.rf.58c209fe2caf38f07eca595bac4f6089.jpg\n",
            "25-02-15-13-02-48_jpg.rf.bf0c2127360a2683e2ada6b672cd7f26.jpg\n",
            "25-02-15-13-02-48_jpg.rf.f6283843a48a0e066c745fadc3d181ff.jpg\n",
            "25-02-15-13-03-08_jpg.rf.12c170fb5d41b3a5e50b9add34869fb0.jpg\n",
            "25-02-15-13-03-08_jpg.rf.19934e9448036238c63da864aeb248fb.jpg\n",
            "25-02-15-13-03-08_jpg.rf.e6f1ca53ef18f082bbe515f626ad09b8.jpg\n",
            "25-02-15-13-03-18_jpg.rf.b0a5ed1038b9f6bfb514582bf80f0bb2.jpg\n",
            "25-02-15-13-03-18_jpg.rf.bd229e5b4725b99bee2920c81804cd2d.jpg\n",
            "25-02-15-13-03-18_jpg.rf.ea02478a450587a9dccc1840f5d0c74c.jpg\n",
            "25-02-15-13-05-41_jpg.rf.1a37b5ec1ac5acf3b53ea5a415d80459.jpg\n",
            "25-02-15-13-05-41_jpg.rf.3b17580c96cbc2f07a5c7ea32438b916.jpg\n",
            "25-02-15-13-05-41_jpg.rf.54dcbb94c386d1f6ceb930451b972a94.jpg\n",
            "25-02-15-13-06-01_jpg.rf.92d260dfb6898568bbe61abc0e3d18d3.jpg\n",
            "25-02-15-13-06-01_jpg.rf.b1d465444407db9be33af6696743134f.jpg\n",
            "25-02-15-13-06-01_jpg.rf.b7254d8936574a9d0c9a3a09b5f1c629.jpg\n",
            "25-02-15-13-07-53_jpg.rf.021fd7fb244871b9d42a8e9a2d9c1331.jpg\n",
            "25-02-15-13-07-53_jpg.rf.0a58785d7fcbabc7ea85197306801108.jpg\n",
            "25-02-15-13-07-53_jpg.rf.5bb32cfbd4395d7e06440d4876ddd437.jpg\n",
            "25-02-15-13-08-03_jpg.rf.135a7b313495f69d2c776f43b72fafe0.jpg\n",
            "25-02-15-13-08-03_jpg.rf.53e94506057fc4e22dad1a90bd5fa5ef.jpg\n",
            "25-02-15-13-08-03_jpg.rf.c53546c183a26097a8da7b37dbe1c9c4.jpg\n",
            "25-02-15-13-08-13_jpg.rf.b1512975eded09ff4367a6f95af00bf2.jpg\n",
            "25-02-15-13-08-13_jpg.rf.d2fdaf428a283bbbd20d48920be078d6.jpg\n",
            "25-02-15-13-08-13_jpg.rf.e91450b30128466e3e2c9b449075d079.jpg\n",
            "25-02-15-13-08-33_jpg.rf.885ab007d5094a270c51c08bc62e591b.jpg\n",
            "25-02-15-13-08-33_jpg.rf.c01a595a48060359fb9801ba542fb9fa.jpg\n",
            "25-02-15-13-08-33_jpg.rf.d45532943c4481009763c7e2557e4ae1.jpg\n",
            "25-02-15-13-09-50_jpg.rf.05cabb10d15c425a73e391c6320a5c26.jpg\n",
            "25-02-15-13-09-50_jpg.rf.85b8b2c9efc70fcd0efd1c6e5b597d7a.jpg\n",
            "25-02-15-13-09-50_jpg.rf.9b506ad210f7739d81fdaed29dcac11a.jpg\n",
            "25-02-15-13-10-20_jpg.rf.04b1477f355438fc37779da4b167b031.jpg\n",
            "25-02-15-13-10-20_jpg.rf.b5201961f3295fca92da0d83361ec60b.jpg\n",
            "25-02-15-13-10-20_jpg.rf.eb858ce801991b55c39e42cca56a3428.jpg\n",
            "25-02-15-13-13-23_jpg.rf.649a60002b333615423d0b950fafef17.jpg\n",
            "25-02-15-13-13-23_jpg.rf.b3aedddac8dadb59a9e7d77db2417870.jpg\n",
            "25-02-15-13-13-23_jpg.rf.e82daf5ca3ef9174de1238c7b55aeeda.jpg\n",
            "25-02-15-13-14-04_jpg.rf.624980ca8eef12f6746c5149ff0c33df.jpg\n",
            "25-02-15-13-14-04_jpg.rf.946b0eb6f2e974cc99193037b71d013e.jpg\n",
            "25-02-15-13-14-04_jpg.rf.dab44745c0ed79546ba90f7d4e24fc3d.jpg\n",
            "25-02-15-13-15-25_jpg.rf.02a3d32d65fdb351948c66563b68b4a7.jpg\n",
            "25-02-15-13-15-25_jpg.rf.5c2a65b211c43bd4a0f9f5b3de3068d9.jpg\n",
            "25-02-15-13-15-25_jpg.rf.fd8a47b1a419553162f3080362edd56a.jpg\n",
            "25-02-15-13-15-45_jpg.rf.4c186743f2b4559b39bc3d1a51dc1976.jpg\n",
            "25-02-15-13-15-45_jpg.rf.6fd1f585806f8aa19f627b9e042e48b1.jpg\n",
            "25-02-15-13-15-45_jpg.rf.aead8ea23a501d1d0aedce159de57e3c.jpg\n",
            "25-02-15-13-15-55_jpg.rf.090baa894d0713f7a8ded620d7b18c6d.jpg\n",
            "25-02-15-13-15-55_jpg.rf.77c9a9bba0b215f54a60f509e81ad86f.jpg\n",
            "25-02-15-13-15-55_jpg.rf.f7f711143541d98907a26da6081cc54c.jpg\n",
            "25-02-15-13-17-06_jpg.rf.2263ff0c2540d21811a696c049b4541a.jpg\n",
            "25-02-15-13-17-06_jpg.rf.22ccfb010f7368be854041fff994b2bd.jpg\n",
            "25-02-15-13-17-06_jpg.rf.91ab325eebc7521de535848ca177b383.jpg\n",
            "25-02-15-13-19-54_jpg.rf.96882acf827e4527c2f8e9cd66c94602.jpg\n",
            "25-02-15-13-19-54_jpg.rf.ae36d8a815beb375562b8e77f973d6d6.jpg\n",
            "25-02-15-13-19-54_jpg.rf.af74c2f07bcb6edc81461cd40f58fb61.jpg\n",
            "25-02-15-13-21-46_jpg.rf.195e0ca50c952ac5b5397ab350e9900c.jpg\n",
            "25-02-15-13-21-46_jpg.rf.7d696f580f92a9560f012be91a2c77b7.jpg\n",
            "25-02-15-13-21-46_jpg.rf.f920e3a7882dfc2f6c6686deb3e63082.jpg\n",
            "25-02-15-13-25-19_jpg.rf.16d30379c4d367cc3b26d9b5cf402e80.jpg\n",
            "25-02-15-13-25-19_jpg.rf.d54fda5e393d3405fb8b98a984c40c4d.jpg\n",
            "25-02-15-13-25-19_jpg.rf.da977ac40835b848c7a902b7694560e2.jpg\n",
            "25-02-15-13-27-36_jpg.rf.28230f8dafaee65821e96867ac33dcc6.jpg\n",
            "25-02-15-13-27-36_jpg.rf.a8c4114ea346c713ac4f4549688c649a.jpg\n",
            "25-02-15-13-27-36_jpg.rf.e25eb491b4d045548b0e4b5d16e5e48e.jpg\n",
            "25-02-15-13-29-18_jpg.rf.22a34528f6651d887ba8bbe36e63819d.jpg\n",
            "25-02-15-13-29-18_jpg.rf.6ce1adf86b363a08a7e18733407ea820.jpg\n",
            "25-02-15-13-29-18_jpg.rf.f3d09f6a815d3dd5b6ed89afe95d2023.jpg\n",
            "25-02-15-13-29-48_jpg.rf.24cd206c3a2535780d3411607016fa89.jpg\n",
            "25-02-15-13-29-48_jpg.rf.5ebe306fb248eb522f3659b4a4c8011f.jpg\n",
            "25-02-15-13-29-48_jpg.rf.f60eaeee135d0bc8fefd7514fe7ea77a.jpg\n",
            "25-02-15-13-30-39_jpg.rf.84278b307b9e015d337244b4ea00b5b3.jpg\n",
            "25-02-15-13-30-39_jpg.rf.abaf90ce2415ca5314f17a22c9387847.jpg\n",
            "25-02-15-13-30-39_jpg.rf.c799b1301bdbb1cb39fad20821c44dd3.jpg\n",
            "25-02-15-13-31-50_jpg.rf.0b2c10e40e324f6da8a6ac98c14b5cfc.jpg\n",
            "25-02-15-13-31-50_jpg.rf.c2d785e6118525e581a6413a81922c1c.jpg\n",
            "25-02-15-13-31-50_jpg.rf.ff96bd47ab68597a2b5d20cd997df166.jpg\n",
            "25-02-15-13-32-00_jpg.rf.16980ef6c4f93069b6fd2f5a78b2593f.jpg\n",
            "25-02-15-13-32-00_jpg.rf.871fec1b3b485bf004c15990a194a5af.jpg\n",
            "25-02-15-13-32-00_jpg.rf.b7099c22b0b52a3e494456bcea6bf73d.jpg\n",
            "25-02-15-13-32-41_jpg.rf.335b34397e1485e22a5d471ba306c878.jpg\n",
            "25-02-15-13-32-41_jpg.rf.498279e10a39eca73c6e1ad2e5e1cfba.jpg\n",
            "25-02-15-13-32-41_jpg.rf.a2c7a44e5bccf8d6773a10caa6658ea9.jpg\n",
            "25-02-15-13-33-42_jpg.rf.6536818cc4328988016960a9d8354a3c.jpg\n",
            "25-02-15-13-33-42_jpg.rf.c38ba14ea2b7ac9753054c4bd275f633.jpg\n",
            "25-02-15-13-33-42_jpg.rf.e2fa4bcfc7b264ac25347a94ac9e36e1.jpg\n",
            "25-02-15-13-33-52_jpg.rf.2f8ce40ddfdf07907805bacacf1e6190.jpg\n",
            "25-02-15-13-33-52_jpg.rf.3091b30ee80a208eea8e2478919cd5d4.jpg\n",
            "25-02-15-13-33-52_jpg.rf.3ff08550d3d434e9c72354af42885525.jpg\n",
            "25-02-15-13-34-48_jpg.rf.0184b100038687befc168a998495e2e2.jpg\n",
            "25-02-15-13-34-48_jpg.rf.8762a186527b9d2b9cf6ed5491fa9dc0.jpg\n",
            "25-02-15-13-34-48_jpg.rf.d290110697598a3ca127397cb838eb8e.jpg\n",
            "25-02-15-13-34-58_jpg.rf.790b74fbff371d28a229846879fa5240.jpg\n",
            "25-02-15-13-34-58_jpg.rf.aba5acdecbbad7f4e57f3d4322a2bfe4.jpg\n",
            "25-02-15-13-34-58_jpg.rf.dcb56383003a07780b4808d3870dd4b4.jpg\n",
            "25-02-15-13-35-18_jpg.rf.1d346924b3419073c30696db207cfdfe.jpg\n",
            "25-02-15-13-35-18_jpg.rf.1f0cfeca2051c3fbbb6b9e9c0ebe55c1.jpg\n",
            "25-02-15-13-35-18_jpg.rf.658366e991a3a9c3024f1deed4790976.jpg\n",
            "25-02-15-13-36-09_jpg.rf.318208fe5b3b85e1d93a42f0439913eb.jpg\n",
            "25-02-15-13-36-09_jpg.rf.9b3a7f44194924890e4138c2a04f3632.jpg\n",
            "25-02-15-13-36-09_jpg.rf.db11388dda4b81f96e3b2d17f5946c32.jpg\n",
            "25-02-15-13-40-54_jpg.rf.6ca7334ab5555ec30c1caa94796aec50.jpg\n",
            "25-02-15-13-40-54_jpg.rf.7c1980de55bac01d0dd524b40257fb6e.jpg\n",
            "25-02-15-13-40-54_jpg.rf.b38867902428c9bfe47cc7b01623a861.jpg\n",
            "25-02-15-13-42-35_jpg.rf.278f514fe7d2d051444915e27252d631.jpg\n",
            "25-02-15-13-42-35_jpg.rf.36354a43edc8a1dc986fff683642d104.jpg\n",
            "25-02-15-13-42-35_jpg.rf.a5eadf7a4f8c54dfa1517f0b9115b4a0.jpg\n",
            "25-02-15-13-43-00_jpg.rf.095448f5b966270632cb5112560f4446.jpg\n",
            "25-02-15-13-43-00_jpg.rf.79655b7acd4bd7ba3e0b07b9bd489657.jpg\n",
            "25-02-15-13-43-00_jpg.rf.c10e5063cf3e947b91a5302e1b8eb34f.jpg\n",
            "25-02-15-13-44-22_jpg.rf.0897be8e77dd37d727562b32ccba444c.jpg\n",
            "25-02-15-13-44-22_jpg.rf.9ebe513bc02773165af7fc2926ae4973.jpg\n",
            "25-02-15-13-44-22_jpg.rf.cb486af5b3f55ba797c8890fd9a328ac.jpg\n",
            "25-02-15-13-44-32_jpg.rf.695d6e54d30b2719ec533a810dfb2d64.jpg\n",
            "25-02-15-13-44-32_jpg.rf.d3645391d2061d0ab2fb275522dca751.jpg\n",
            "25-02-15-13-44-32_jpg.rf.f684ed78bee631bd428f63ce93143286.jpg\n",
            "25-02-15-13-46-24_jpg.rf.2acf1b60abd359bfb4fb522c0e929494.jpg\n",
            "25-02-15-13-46-24_jpg.rf.40be34494b77ba928468b9b67bf5e506.jpg\n",
            "25-02-15-13-46-24_jpg.rf.ba8be6f2f21894c6752b69d54632ea14.jpg\n",
            "25-02-15-13-46-34_jpg.rf.a0b9a3a9b19b74d0375bbb4964f3e9d3.jpg\n",
            "25-02-15-13-46-34_jpg.rf.ee7448425791d4fd5b345c3e9145eebf.jpg\n",
            "25-02-15-13-48-36_jpg.rf.1713b43d595886cf2059dbfbb022b091.jpg\n",
            "25-02-15-13-48-36_jpg.rf.59d134fbf85265dbe2be7d8fbb81f8cd.jpg\n",
            "25-02-15-13-48-36_jpg.rf.f7e6011d54ba2987d5e5bb4dc22bc500.jpg\n",
            "25-02-15-13-52-14_jpg.rf.55559caede9948d767ce496de533127e.jpg\n",
            "25-02-15-13-52-14_jpg.rf.747a8aefd51203498b33d32290dc7ff2.jpg\n",
            "25-02-15-13-52-45_jpg.rf.1855346337dadedf45131025b27bce5a.jpg\n",
            "25-02-15-13-52-45_jpg.rf.40d5a2dc8188ba99c2c44b722218b110.jpg\n",
            "25-02-15-13-52-45_jpg.rf.a87548d4037b6cf87402894ba1c46e8a.jpg\n",
            "25-02-15-13-52-55_jpg.rf.83a8b0d7b5e9a2aa1f2d0a0ab2a4fe1b.jpg\n",
            "25-02-15-13-52-55_jpg.rf.df5343864a3888f459f9d258c76559f0.jpg\n",
            "25-02-15-13-52-55_jpg.rf.f3729424a45cb94f123ac150d528bd58.jpg\n",
            "25-02-15-13-54-26_jpg.rf.4e9bf196df75e1bccb957a05099d8e7e.jpg\n",
            "25-02-15-13-54-26_jpg.rf.ee0448b4e356810595c3682e71991049.jpg\n",
            "25-02-15-13-54-26_jpg.rf.f0bf0937e7be31deff2a9c786a1a83f0.jpg\n",
            "25-02-15-13-56-08_jpg.rf.522d8d8c7704a5a747d5a25026d080c2.jpg\n",
            "25-02-15-13-56-08_jpg.rf.670711905c13628ea89b210a687b2635.jpg\n",
            "25-02-15-13-56-08_jpg.rf.95f245e81a03dbe08b045da2d6d353af.jpg\n",
            "25-02-15-14-00-17_jpg.rf.4f95778db58ce5792a1b78a31a421a90.jpg\n",
            "25-02-15-14-00-17_jpg.rf.f64b2592ba0878b56c841da3aea31a9c.jpg\n",
            "25-02-15-14-00-17_jpg.rf.fa891f858ed4723f620bdd151bd02a0e.jpg\n",
            "25-02-15-14-02-39_jpg.rf.1c19bfca9dbc2e964fd0eb3e7740ae1a.jpg\n",
            "25-02-15-14-02-39_jpg.rf.768986cc3b0615b4991707bd714a8bf6.jpg\n",
            "25-02-15-14-02-39_jpg.rf.e3fe5c53b626f092187d2660be169fa4.jpg\n",
            "25-02-15-14-03-50_jpg.rf.53bc836c3b59d9ed77daeb0ee23b1ae5.jpg\n",
            "25-02-15-14-03-50_jpg.rf.c8c8d21c2b4a63dc838f3a6fc75a4fef.jpg\n",
            "25-02-15-14-03-50_jpg.rf.fd6a6de3183066efccfcdb53325382d7.jpg\n",
            "25-02-15-14-05-31_jpg.rf.56347ac15513e4b460470be9accc6261.jpg\n",
            "25-02-15-14-05-31_jpg.rf.ea5911ec131efefe4b05a02fd8675994.jpg\n",
            "25-02-15-14-05-31_jpg.rf.ea9103852a1b568945fcacac9eca4432.jpg\n",
            "25-02-15-14-07-33_jpg.rf.418f4390c436dc499bd6fb360fb70d82.jpg\n",
            "25-02-15-14-07-33_jpg.rf.9662b6004ea45f4814fab09082c15a62.jpg\n",
            "25-02-15-14-07-33_jpg.rf.a86366041dbb52f42ff92d25d1bb0270.jpg\n",
            "25-02-15-14-08-04_jpg.rf.19919303b1760155925e2bed156b9d42.jpg\n",
            "25-02-15-14-08-04_jpg.rf.75bca3d00d6208d988980468f368c17b.jpg\n",
            "25-02-15-14-08-04_jpg.rf.e76ffb6b46baf4b396308065e9f16f92.jpg\n",
            "25-02-15-14-09-20_jpg.rf.35798a3faecb2747d09d9e8cdeef2e62.jpg\n",
            "25-02-15-14-09-20_jpg.rf.38049a0590bdcedd6732e23ca1404d03.jpg\n",
            "25-02-15-14-09-20_jpg.rf.8dad324377fd4e2b140ed19890a3e497.jpg\n",
            "25-02-15-14-09-30_jpg.rf.008d086a72da3421f488d36777ad3457.jpg\n",
            "25-02-15-14-09-30_jpg.rf.111d42e2ff5f45aeff1107cb03b091d4.jpg\n",
            "25-02-15-14-09-30_jpg.rf.dc49520b29381ff75ea5acbfd5d9d3c0.jpg\n",
            "25-02-15-14-11-52_jpg.rf.5d0c101ce0fa22bc2a15e4346fc418e8.jpg\n",
            "25-02-15-14-11-52_jpg.rf.5e00b7d56071dcb734a69a8ebb344296.jpg\n",
            "25-02-15-14-11-52_jpg.rf.d0aa044d190dbd13d24295c0809d57c4.jpg\n",
            "25-02-15-14-12-13_jpg.rf.d5b0a05806e57721801902222b53cccb.jpg\n",
            "25-02-15-14-12-13_jpg.rf.e5749334ed2b09592c4ad75165c399bb.jpg\n",
            "25-02-15-14-12-13_jpg.rf.ee7c353361c0e0d4def15bc7b00a669f.jpg\n",
            "25-02-15-14-13-34_jpg.rf.bd56311609280c469d6c89a6adf2272d.jpg\n",
            "25-02-15-14-13-34_jpg.rf.cbcdcdc00872127fee35210c6302129f.jpg\n",
            "25-02-15-14-13-34_jpg.rf.d555999985c127dd2476ef5041af5c28.jpg\n",
            "25-02-15-14-13-44_jpg.rf.976899a09c0ea53446059777887598dc.jpg\n",
            "25-02-15-14-13-44_jpg.rf.a7c307ad3868bd4c1ca3f8e4e86c20b5.jpg\n",
            "25-02-15-14-13-44_jpg.rf.ca68e598688b29669b4884c7585bc138.jpg\n",
            "25-02-15-14-13-54_jpg.rf.07ac4d12d071e64828a0fc003c5fac52.jpg\n",
            "25-02-15-14-13-54_jpg.rf.2e834b44a91decde69cb541c809641b7.jpg\n",
            "25-02-15-14-13-54_jpg.rf.c17c8962449b43a74d211971e7a12989.jpg\n",
            "25-02-15-14-15-26_jpg.rf.5f69b0bc572f7ed9f6e4c2aee25633dc.jpg\n",
            "25-02-15-14-15-26_jpg.rf.707edafbf8108bc168650c0d6c114d1b.jpg\n",
            "25-02-15-14-15-26_jpg.rf.dc8c30e44300264f778c8e179ce0ccb1.jpg\n",
            "25-02-15-14-17-33_jpg.rf.243d5723c7b2e60599b0c3b132940b01.jpg\n",
            "25-02-15-14-17-33_jpg.rf.63b89a97aeac6eac6a76f59f1ae4bbf1.jpg\n",
            "25-02-15-14-17-33_jpg.rf.cfb3de2991d52d2cc109f7a20f5f1bc6.jpg\n",
            "25-02-15-14-19-35_jpg.rf.c3bc7a91917d36c0ed6eb03ad10e94ce.jpg\n",
            "25-02-15-14-19-35_jpg.rf.c776cdc3e43436b19b21ce034f7b9a9e.jpg\n",
            "25-02-15-14-19-35_jpg.rf.e014bdbb05cf751994a7ce664db50f60.jpg\n",
            "25-02-15-14-19-55_jpg.rf.02fd01ef057cc861739bfefe29ec0ad5.jpg\n",
            "25-02-15-14-19-55_jpg.rf.d6ca8472f347294dcb7b8a073512e952.jpg\n",
            "25-02-15-14-19-55_jpg.rf.fa25112eecf5b13226c82c11be00ecdf.jpg\n",
            "25-02-15-14-20-05_jpg.rf.22d224fe42ca81ededb0f74fcbb6c9e8.jpg\n",
            "25-02-15-14-20-05_jpg.rf.4b16888220c6f6726739eb4e54e53443.jpg\n",
            "25-02-15-14-20-05_jpg.rf.e6e1eb0aa3e2d8b2d923bd4385982d6b.jpg\n",
            "25-02-15-14-21-36_jpg.rf.39ddded168615d0e59049ae4eac5b50a.jpg\n",
            "25-02-15-14-21-36_jpg.rf.6d836084a419770c9ebeb2fece48a9d3.jpg\n",
            "25-02-15-14-23-18_jpg.rf.30a6af5424d385498427c13277c296bf.jpg\n",
            "25-02-15-14-23-18_jpg.rf.cb3b4a80a3712472f514c008bbf3d071.jpg\n",
            "25-02-15-14-23-18_jpg.rf.e29442e04402ee5f6281a852b1d9b716.jpg\n",
            "25-02-15-14-25-45_jpg.rf.30d98d2cb3831830fca848a6f9287b00.jpg\n",
            "25-02-15-14-25-45_jpg.rf.972af073651e6dcabe1f5dfe1a6e48c8.jpg\n",
            "25-02-15-14-25-45_jpg.rf.d8f9c0b4fa280af12f669e634451855b.jpg\n",
            "25-02-15-14-26-05_jpg.rf.20051666eed02134a830e9a965af9fb3.jpg\n",
            "25-02-15-14-26-05_jpg.rf.59c100851e65182550909229e4236834.jpg\n",
            "25-02-15-14-26-05_jpg.rf.5eda0ec172c67cfdb37413e43b99435c.jpg\n",
            "25-02-15-14-27-47_jpg.rf.bdace4e219cd8ac1365114bae93c5239.jpg\n",
            "25-02-15-14-27-47_jpg.rf.e8decca19806db76bfb73d98f5e23c10.jpg\n",
            "25-02-15-14-27-47_jpg.rf.ef8c1cff7a49f76b7c6ea17d1b8b6d63.jpg\n",
            "25-02-15-14-27-57_jpg.rf.251cddf2ca8f576f0cda48e58246005b.jpg\n",
            "25-02-15-14-27-57_jpg.rf.64ce863b427fff1502388ce7c61439af.jpg\n",
            "25-02-15-14-27-57_jpg.rf.6649617d9000791136d952b5e3a68147.jpg\n",
            "25-02-15-14-28-07_jpg.rf.620aba4157e81071d0385a61398a2ac7.jpg\n",
            "25-02-15-14-28-07_jpg.rf.9cb59413f68c59c7de909e1aef7d735d.jpg\n",
            "25-02-15-14-28-07_jpg.rf.bddd611cb6c52dfbec393d8fad571cd0.jpg\n",
            "25-02-15-14-28-38_jpg.rf.d048ae9f7e71db323c2d2cf00f9c23f9.jpg\n",
            "25-02-15-14-28-38_jpg.rf.db4ef6b20b0982345ad51d974202ddc5.jpg\n",
            "25-02-15-14-28-38_jpg.rf.f9171aec7dd4a8bbe63735aa2815088b.jpg\n",
            "25-02-15-14-29-08_jpg.rf.0d3ac11efa659410bf0f0bf3e60e8722.jpg\n",
            "25-02-15-14-29-08_jpg.rf.1228b27ca5eb9bc0b2fd03fe74c9ade2.jpg\n",
            "25-02-15-14-29-08_jpg.rf.28cd45834db50ec57239f879bb9b43c8.jpg\n",
            "25-02-15-14-31-20_jpg.rf.b8a76e8c80aa6550c25543b681998894.jpg\n",
            "25-02-15-14-31-20_jpg.rf.c132c4609f7539a3e39845e4df1c4d04.jpg\n",
            "25-02-15-14-31-20_jpg.rf.e134629d8515ed0ccbc760ec1d07ff38.jpg\n",
            "25-02-15-14-31-31_jpg.rf.762945af454a42c93f8dd5f23ea52fca.jpg\n",
            "25-02-15-14-31-31_jpg.rf.ba7cd4876b423c2d7e8a4db236ff2911.jpg\n",
            "25-02-15-14-31-31_jpg.rf.f6ea9533184561c6f20faed7f8bb6ef8.jpg\n",
            "25-02-15-14-33-32_jpg.rf.0d9c1fdff6049726a708fa09f25b06d3.jpg\n",
            "25-02-15-14-33-32_jpg.rf.773b1733d5c03b6954459dcf0868d275.jpg\n",
            "25-02-15-14-33-32_jpg.rf.cbfda5503d39207efd772246439edafa.jpg\n",
            "25-02-15-14-34-03_jpg.rf.330a00ba3ba21f297b633790a0060e36.jpg\n",
            "25-02-15-14-34-03_jpg.rf.61f7bdb890b4cb410e1d0b13b2d39247.jpg\n",
            "25-02-15-14-34-03_jpg.rf.80a98067168203c5386c8c162a18313d.jpg\n",
            "25-02-15-14-34-28_jpg.rf.43766bcc2a3e02539ee285a68ad57ce2.jpg\n",
            "25-02-15-14-34-28_jpg.rf.e4d2ee67cad6b90d060925023c13b097.jpg\n",
            "25-02-15-14-34-28_jpg.rf.f15b1a32764fb6daf9283f82061df2d4.jpg\n",
            "25-02-15-14-34-38_jpg.rf.26d63e73fb3b0e05a981eb887e727856.jpg\n",
            "25-02-15-14-34-38_jpg.rf.c70faa80f6b6ac106ba4f26191dc3a26.jpg\n",
            "25-02-15-14-37-41_jpg.rf.7c888ff8bede91ec08801138816f0492.jpg\n",
            "25-02-15-14-37-41_jpg.rf.8b33f24e69c21f5c67883f7f6e5b9157.jpg\n",
            "25-02-15-14-37-41_jpg.rf.f69d340bed36fbd256ca9229a6817126.jpg\n",
            "25-02-15-14-38-01_jpg.rf.21cf0276b67f552e26c7046e462f0f80.jpg\n",
            "25-02-15-14-38-01_jpg.rf.261f4fa14e7b94a28fd2e32023fc07cf.jpg\n",
            "25-02-15-14-38-01_jpg.rf.629c18e6aefc26dab064664999bb760c.jpg\n",
            "25-02-15-14-39-23_jpg.rf.3cd428ce86fae04c9d4151f056d65986.jpg\n",
            "25-02-15-14-39-23_jpg.rf.597ef576dac1e594b9e87056228b3d98.jpg\n",
            "25-02-15-14-39-23_jpg.rf.7a14b0536285563ca8cc005c832bfef2.jpg\n",
            "25-02-15-14-40-24_jpg.rf.4e52158614d28eebd02ba31f6a56c331.jpg\n",
            "25-02-15-14-40-24_jpg.rf.c33b8984e396c826924e8808dbca6405.jpg\n",
            "25-02-15-14-40-24_jpg.rf.f2b9fa6dbb6e097505f79b35bdfe78a7.jpg\n",
            "25-02-15-14-40-44_jpg.rf.4464e3b908c489ceaada1d01a8730fbe.jpg\n",
            "25-02-15-14-40-44_jpg.rf.d36d986b3ed19c4b5f007d56f343335a.jpg\n",
            "25-02-15-14-40-44_jpg.rf.f872730d26bdda93b6f0d76f9035de91.jpg\n",
            "25-02-15-14-41-14_jpg.rf.9c0d2c5ce246a09e1ffe417a92f4d437.jpg\n",
            "25-02-15-14-41-14_jpg.rf.d833c7aa419f681940a4091c20ede02c.jpg\n",
            "25-02-15-14-41-14_jpg.rf.dcf060d3869c9409db5ea6f9aab22928.jpg\n",
            "25-02-15-14-42-36_jpg.rf.5ab0a54a8e2d4adda79506279666fe9b.jpg\n",
            "25-02-15-14-42-36_jpg.rf.5f6d46ade5123e04a61358bbce1dbe78.jpg\n",
            "25-02-15-14-42-36_jpg.rf.86c57f44bbf35ad67d0a77a5b7e3ea30.jpg\n",
            "25-02-15-14-46-55_jpg.rf.37c62b5b122507b0a99538e16cc78aff.jpg\n",
            "25-02-15-14-46-55_jpg.rf.9eb849a647aa81dc1fe64cb6ce05f347.jpg\n",
            "25-02-15-14-46-55_jpg.rf.f6226d17546dcd944a87e30580cad507.jpg\n",
            "25-02-15-14-49-07_jpg.rf.63e4fdae5c9a41df3cc013235fefd8e6.jpg\n",
            "25-02-15-14-49-07_jpg.rf.fc47cfcf630f52bb02fc93745f3d22b3.jpg\n",
            "25-02-15-14-49-07_jpg.rf.fe3416a578d80d8fe578ea84a2b3492d.jpg\n",
            "25-02-15-14-49-17_jpg.rf.12075052e8a6d3afb016472840de4fc7.jpg\n",
            "25-02-15-14-49-17_jpg.rf.6766768adbe267e447013f3b555545a6.jpg\n",
            "25-02-15-14-49-17_jpg.rf.84ed389fdc3d124defb9756f35e3079d.jpg\n",
            "25-02-15-14-50-18_jpg.rf.4fab74a004d442dfe741661f35db50eb.jpg\n",
            "25-02-15-14-50-18_jpg.rf.98dc028b840b70aea3f48fca3724ee43.jpg\n",
            "25-02-15-14-50-18_jpg.rf.dc9595073222f064af16c2a22f23650f.jpg\n",
            "25-02-15-15-07-54_jpg.rf.679584bdb97d7a999e4d77db3087cd2a.jpg\n",
            "25-02-15-15-07-54_jpg.rf.cdf004a6a50d076bb4bc946eb9e835f9.jpg\n",
            "25-02-15-15-07-54_jpg.rf.e6a47c10240c0b20fe6d6922c23252b9.jpg\n",
            "25-02-15-15-19-55_jpg.rf.07527320eea79b86badad2bf33fbd835.jpg\n",
            "25-02-15-15-19-55_jpg.rf.23f3127eb3e9dd34233b19985af59f4d.jpg\n",
            "25-02-15-15-19-55_jpg.rf.9d25be15ea0bd6e0e0517f07ea0b18c5.jpg\n",
            "25-02-15-15-34-59_jpg.rf.3a70862af648484261404c1c43e12df1.jpg\n",
            "25-02-15-15-34-59_jpg.rf.3ca37bf138ea0c3e8a923ffb807e0a53.jpg\n",
            "25-02-15-15-34-59_jpg.rf.bda99f256fd45d213f1226df2ce7bb73.jpg\n",
            "25-02-15-15-41-15_jpg.rf.c6721c2569f6dbd09ccf41a35b4bca71.jpg\n",
            "25-02-15-15-41-15_jpg.rf.dbfe4f5531c97f2759a0b456982b7450.jpg\n",
            "25-02-15-15-41-15_jpg.rf.f3cf458562d9cd21500f090de163699b.jpg\n",
            "\n",
            "//content/Cloud-detection-1.0-4/train/labels:\n",
            "25-02-15-11-02-25_jpg.rf.41452e9a72f58065948f1c6bad8f8e0e.txt\n",
            "25-02-15-11-02-25_jpg.rf.679914b2e4e9eb6aa6446a16cbd9d4d7.txt\n",
            "25-02-15-11-02-25_jpg.rf.eda10808df61fca1a2e626790df2d1bf.txt\n",
            "25-02-15-11-02-36_jpg.rf.0a30cdc9f2e10b65286ca8723493a215.txt\n",
            "25-02-15-11-02-36_jpg.rf.760396dc5cc36521d59e9f5669d88b48.txt\n",
            "25-02-15-11-02-36_jpg.rf.9c60d0b977eb4e8c34cca3884396bf25.txt\n",
            "25-02-15-11-05-28_jpg.rf.17c503485831ddb7ac42d9f793bd8c85.txt\n",
            "25-02-15-11-05-28_jpg.rf.18509bbff82d050711d34d1d5433d75d.txt\n",
            "25-02-15-11-05-28_jpg.rf.240df6d28e19f003a8fe97d8f955bdd4.txt\n",
            "25-02-15-11-07-00_jpg.rf.66a8c1d610ba768cc97ee52a9f3bf98e.txt\n",
            "25-02-15-11-07-00_jpg.rf.c55534668588f4174481c089a1439f24.txt\n",
            "25-02-15-11-07-00_jpg.rf.f59072b0be81ef96a849ad40393de150.txt\n",
            "25-02-15-11-09-07_jpg.rf.59dff832cd056cec1be98a4214919f71.txt\n",
            "25-02-15-11-09-07_jpg.rf.7bde8f5c3092dc3a12f45e3d92947415.txt\n",
            "25-02-15-11-09-07_jpg.rf.8f26a029679fbc526f4da7cca471a0e0.txt\n",
            "25-02-15-11-09-17_jpg.rf.51c3df3e9e3323e93e373e189dba52d0.txt\n",
            "25-02-15-11-09-17_jpg.rf.60a09d1b78fc282a2f3d5fa58020697b.txt\n",
            "25-02-15-11-09-17_jpg.rf.9d3907749193ffd7abd5717467ce00aa.txt\n",
            "25-02-15-11-10-08_jpg.rf.519cc1d144a3042cf895add4fa0eb1f4.txt\n",
            "25-02-15-11-10-08_jpg.rf.cd33582302dba32971f931bb44d0e8a7.txt\n",
            "25-02-15-11-10-08_jpg.rf.d27d9ea3ff936bd4848ce2991809f752.txt\n",
            "25-02-15-11-10-18_jpg.rf.00c2c36baf7529283b5ba516549a17fd.txt\n",
            "25-02-15-11-10-18_jpg.rf.150229f3ac52d7b07c89b11207e10c68.txt\n",
            "25-02-15-11-10-18_jpg.rf.86bfef61c1c83f05e0f24ec7f52c0f28.txt\n",
            "25-02-15-11-11-49_jpg.rf.7038032defef3e571fcc5f88d424ca6e.txt\n",
            "25-02-15-11-11-49_jpg.rf.9e60d1ba41cb9fd4246554726e1dd251.txt\n",
            "25-02-15-11-11-49_jpg.rf.eb0e2a7afaef0c87957bfba83f950109.txt\n",
            "25-02-15-11-12-30_jpg.rf.2ea4218e53d6d7351ee820aa8f09f446.txt\n",
            "25-02-15-11-12-30_jpg.rf.44579b11d571b69f0474b350e636ef23.txt\n",
            "25-02-15-11-12-30_jpg.rf.7685371c205592593670fa2acebce705.txt\n",
            "25-02-15-11-15-03_jpg.rf.6210da01787526ec8ede750e12304fff.txt\n",
            "25-02-15-11-15-03_jpg.rf.a1611647b83274d4c3039eb2590e87a1.txt\n",
            "25-02-15-11-15-03_jpg.rf.f42162b79c029c9dad4a3bd1b629e22e.txt\n",
            "25-02-15-11-15-13_jpg.rf.0890c3d45e7cb26dd74b7da222cc8f6b.txt\n",
            "25-02-15-11-15-13_jpg.rf.5f5d8a1b746cf3bc57fbdacb3eb65136.txt\n",
            "25-02-15-11-15-13_jpg.rf.d26cc4308a21e505e3c17b7254364758.txt\n",
            "25-02-15-11-16-44_jpg.rf.1097a2ed92b06b7f7283eb25bba2196e.txt\n",
            "25-02-15-11-16-44_jpg.rf.1916c9c276c3371e257ddd6f5986d0af.txt\n",
            "25-02-15-11-16-44_jpg.rf.a3f7e81b28d7c1ccb2c50e85f7a715fe.txt\n",
            "25-02-15-11-17-04_jpg.rf.4ca837a4deff95c9ebe81a5b638b06ef.txt\n",
            "25-02-15-11-17-04_jpg.rf.5c97b97f3eab84aafe8b3da7ebbc1c96.txt\n",
            "25-02-15-11-17-04_jpg.rf.8f286f0d53ecc946eae6cc1fd7bd5410.txt\n",
            "25-02-15-11-20-22_jpg.rf.175919e775250c11741b92d1b82dedcc.txt\n",
            "25-02-15-11-20-22_jpg.rf.2f4df698ea10253c226a6db32217a8b4.txt\n",
            "25-02-15-11-20-22_jpg.rf.d2db13728e2457074fb2500e52a0721b.txt\n",
            "25-02-15-11-20-53_jpg.rf.035f73872d64b144d9534a71627c7b3b.txt\n",
            "25-02-15-11-20-53_jpg.rf.5b0950475513b6525f338fec27015ce7.txt\n",
            "25-02-15-11-20-53_jpg.rf.6771091b6570a96a9bc3981327270f2e.txt\n",
            "25-02-15-11-21-03_jpg.rf.1c837c6926d3e4210a93cc46a5ec34b6.txt\n",
            "25-02-15-11-21-03_jpg.rf.21e3dddec3075cb831572f72077b7dfb.txt\n",
            "25-02-15-11-21-03_jpg.rf.f1f3827ce13fb77dc0229b40306b2f22.txt\n",
            "25-02-15-11-21-13_jpg.rf.469fd361ee771754a2a259612b8bcc2c.txt\n",
            "25-02-15-11-21-13_jpg.rf.75cdf4bd4ec465d48deb65a3b61b4a70.txt\n",
            "25-02-15-11-21-13_jpg.rf.f2efc5d8e4153e6409b6e84ca78b554f.txt\n",
            "25-02-15-11-23-05_jpg.rf.04f0e71b78ca64f9f02511b0616cab55.txt\n",
            "25-02-15-11-23-05_jpg.rf.af6282b8ba27c5dea6d1908a3d4fe125.txt\n",
            "25-02-15-11-23-05_jpg.rf.f62c319842a13260c06e6918d72913e8.txt\n",
            "25-02-15-11-24-36_jpg.rf.1891e8429103d2cca244d72cd230e469.txt\n",
            "25-02-15-11-24-36_jpg.rf.5a6c71cce732fc1f1d908482fdc6a8e1.txt\n",
            "25-02-15-11-24-36_jpg.rf.94ce460cb1875a11dfd8d15ea5c8471d.txt\n",
            "25-02-15-11-25-17_jpg.rf.1923043e8a86b299cb4cbc5a91fa4546.txt\n",
            "25-02-15-11-25-17_jpg.rf.240d468c9d09c8eff01bafe63ba275bf.txt\n",
            "25-02-15-11-25-17_jpg.rf.d9d0ad3983467f53734b35f2eb72f98c.txt\n",
            "25-02-15-11-25-58_jpg.rf.1ef87505a382ef52ca273e5eb1039c05.txt\n",
            "25-02-15-11-25-58_jpg.rf.2f1946129a634250cb73070c5302c57d.txt\n",
            "25-02-15-11-25-58_jpg.rf.a3d7853cf9d8cf0eff6f33106d28a9e2.txt\n",
            "25-02-15-11-29-06_jpg.rf.2e68ac07e743fb1954f9b78ea20bd70b.txt\n",
            "25-02-15-11-29-06_jpg.rf.9dd1023016edcc63291b912009fa328f.txt\n",
            "25-02-15-11-29-06_jpg.rf.b739b2cd424f8e75c46028e2802b08cf.txt\n",
            "25-02-15-11-31-28_jpg.rf.45f9f581c48a3e58f9264485c37c0444.txt\n",
            "25-02-15-11-31-28_jpg.rf.4ba0cc21289a94c4180987382583aff0.txt\n",
            "25-02-15-11-31-28_jpg.rf.fefcd1e7b28869e4e123f49591226fb4.txt\n",
            "25-02-15-11-33-10_jpg.rf.20218c70e76211bff9faeda9c8dd8a6e.txt\n",
            "25-02-15-11-33-10_jpg.rf.7518b87ff08d713468d8a8a86dfe86bf.txt\n",
            "25-02-15-11-33-10_jpg.rf.bef293a4d587cf3c8a06236acb4f63e2.txt\n",
            "25-02-15-11-34-21_jpg.rf.1332981c8665d46f109f21d3c3fb45e3.txt\n",
            "25-02-15-11-34-21_jpg.rf.187c0139b6c59d9d00dd2910dd27645a.txt\n",
            "25-02-15-11-34-21_jpg.rf.c456b7cf8584cccfff0aee60fddfed2e.txt\n",
            "25-02-15-11-34-31_jpg.rf.9b30b445d71042d52ab2d87d6a458c7b.txt\n",
            "25-02-15-11-34-31_jpg.rf.a08de6e4c487a93aec5f5be4a1a69095.txt\n",
            "25-02-15-11-34-31_jpg.rf.ec9ad415eaa36a0c5d3f5ff0e3881c43.txt\n",
            "25-02-15-11-37-49_jpg.rf.3ed6dcd2c34a0a0755e26640b9f4c2a1.txt\n",
            "25-02-15-11-37-49_jpg.rf.789edfe2e5f2df89d2764ce13926dff0.txt\n",
            "25-02-15-11-37-49_jpg.rf.8b747a12a124ccf582b4639306768a54.txt\n",
            "25-02-15-11-37-59_jpg.rf.4f2041f568a9f601b117e3638e8ff277.txt\n",
            "25-02-15-11-37-59_jpg.rf.c12dce5ca861d71dfb30fe477adbf7cd.txt\n",
            "25-02-15-11-41-43_jpg.rf.415c58b812fe43af836302957a1774a8.txt\n",
            "25-02-15-11-41-43_jpg.rf.8dd9a3180bb40f35214401a184e9f6b9.txt\n",
            "25-02-15-11-41-43_jpg.rf.b83a9b31d23144e2736c02b59eb0ee73.txt\n",
            "25-02-15-11-42-03_jpg.rf.2a6ae6f5256344b0029a0fdfd09d7777.txt\n",
            "25-02-15-11-42-03_jpg.rf.d39bab5d9e2748f31cf2e8cc59368298.txt\n",
            "25-02-15-11-42-03_jpg.rf.f6a81fda32675b2775628d324481d8ff.txt\n",
            "25-02-15-11-42-13_jpg.rf.66e1845f496e1ae40ffce7f4870b2a7a.txt\n",
            "25-02-15-11-42-13_jpg.rf.c17c9a60ad36afa537b903346630bde4.txt\n",
            "25-02-15-11-42-13_jpg.rf.c64cfb4cb4e1c584ba03d833b104582c.txt\n",
            "25-02-15-11-45-21_jpg.rf.4f9ded184612dfe59daa57a3358656ce.txt\n",
            "25-02-15-11-45-21_jpg.rf.b32d2e4d5de06a91d1178da540e6a4d8.txt\n",
            "25-02-15-11-45-21_jpg.rf.c87268ba752557f0bc7017e26f8dc300.txt\n",
            "25-02-15-11-50-05_jpg.rf.37978c1ea47a06a42ec64f2adcb2ff55.txt\n",
            "25-02-15-11-50-05_jpg.rf.d4efdf6ab5d4eb2e88f65966935ed042.txt\n",
            "25-02-15-11-51-51_jpg.rf.0b59a6d028d757db9ac45d804486211e.txt\n",
            "25-02-15-11-51-51_jpg.rf.7b6b4ab8291fcb58a1f7437016f5babd.txt\n",
            "25-02-15-11-51-51_jpg.rf.cd31a4cd011365bdd55e04bb282dd50c.txt\n",
            "25-02-15-11-52-02_jpg.rf.2e79a62277173375cc0e80a45cbbf1d8.txt\n",
            "25-02-15-11-52-02_jpg.rf.a6d106d13bc942f301b8d70b1b6d366d.txt\n",
            "25-02-15-11-52-02_jpg.rf.fbace97cd3ffd45de540d9fd4e0fafe1.txt\n",
            "25-02-15-11-52-12_jpg.rf.2f1183a56f698a1e1e711ac69447aeef.txt\n",
            "25-02-15-11-52-12_jpg.rf.74234bd685d8c2bf14aae0a412fbe075.txt\n",
            "25-02-15-11-52-12_jpg.rf.cac00cdea66e44919259eba19c767859.txt\n",
            "25-02-15-11-53-54_jpg.rf.36e31f331bf6c36f7a5b2d6883a38641.txt\n",
            "25-02-15-11-53-54_jpg.rf.81ace301aeae3e80bc35d88c3e25f070.txt\n",
            "25-02-15-11-53-54_jpg.rf.cb771358e8c8d5b9d1bb759c598650d2.txt\n",
            "25-02-15-11-55-25_jpg.rf.0966109d822bb189db7f13288327c778.txt\n",
            "25-02-15-11-55-25_jpg.rf.8d7259d1b3efcd2d83abe21761a0f34a.txt\n",
            "25-02-15-11-55-25_jpg.rf.da53618b860053aff1d28617e81babdd.txt\n",
            "25-02-15-11-57-27_jpg.rf.1d97ff58912249617c375cdc4f2b881e.txt\n",
            "25-02-15-11-57-27_jpg.rf.a9a0f8c93009c1523ba4b35d12a562e1.txt\n",
            "25-02-15-11-57-27_jpg.rf.b2a25f4d0ce6aefc763ade9e1f81a89f.txt\n",
            "25-02-15-11-57-37_jpg.rf.56119535d69184f0acbbfbb2d8ede1e1.txt\n",
            "25-02-15-11-57-37_jpg.rf.e48e6c7a5d1d81f8e3513a6f845e4959.txt\n",
            "25-02-15-11-57-37_jpg.rf.f7a3f94251128cab0fb2658906b76715.txt\n",
            "25-02-15-11-57-57_jpg.rf.39e4374a378635edd59d7f7ee6de1e77.txt\n",
            "25-02-15-11-57-57_jpg.rf.469bd5043cef3b7a85a0b97da23e0847.txt\n",
            "25-02-15-11-57-57_jpg.rf.c735513386ad6d61ce4586f8591078e9.txt\n",
            "25-02-15-11-59-49_jpg.rf.3e93ec0111b4c70fff99d5258d98baec.txt\n",
            "25-02-15-11-59-49_jpg.rf.887dec0be4013cd10a56b8573a4be8ee.txt\n",
            "25-02-15-11-59-49_jpg.rf.f9e9b3f4d73649f1a6a498820072ea17.txt\n",
            "25-02-15-12-01-46_jpg.rf.853b4f3a127d01b531586ecd2cf9c25b.txt\n",
            "25-02-15-12-01-46_jpg.rf.e5c396b7af8c167a55e2c5082f7b3e83.txt\n",
            "25-02-15-12-01-46_jpg.rf.e71644f983cf854b4233ed9be1ceff22.txt\n",
            "25-02-15-12-01-56_jpg.rf.5271aaf23af44d824a15ef2649a18e57.txt\n",
            "25-02-15-12-01-56_jpg.rf.7cd4a08d349a60230f0a3a8fe63259fe.txt\n",
            "25-02-15-12-01-56_jpg.rf.e0f92cf666702d635526e1ba8a43df08.txt\n",
            "25-02-15-12-02-16_jpg.rf.1a573f50be7c64e2ed886f3983f371c4.txt\n",
            "25-02-15-12-02-16_jpg.rf.2c539537ba2e1e51c553bf46c4365361.txt\n",
            "25-02-15-12-02-16_jpg.rf.32782ec394650faf5cb5edc9ae006347.txt\n",
            "25-02-15-12-05-09_jpg.rf.21a77e5bfcc05ac725641f7b1a18772c.txt\n",
            "25-02-15-12-05-09_jpg.rf.32eed94e01c479db88b7e0d50a2337cb.txt\n",
            "25-02-15-12-05-09_jpg.rf.5bc2f23a2551cfdf09205f3693f7db7d.txt\n",
            "25-02-15-12-05-19_jpg.rf.0aee6d7d22283ea9de63762ce9aa8fe3.txt\n",
            "25-02-15-12-05-19_jpg.rf.9879a72534d541f55c232f6557b33f1c.txt\n",
            "25-02-15-12-05-19_jpg.rf.cb940fb32ca7da3904da5130a9dab3e1.txt\n",
            "25-02-15-12-06-40_jpg.rf.25043c3a3274bfda2ea64feca9d61683.txt\n",
            "25-02-15-12-06-40_jpg.rf.6ae7014ffe1dc3c81248498657171c20.txt\n",
            "25-02-15-12-06-40_jpg.rf.d54790e5c174b13f45161a6e36d20203.txt\n",
            "25-02-15-12-07-21_jpg.rf.2d1d6a2e004909fa2f54df6fa5429b0e.txt\n",
            "25-02-15-12-07-21_jpg.rf.3afc1119e44d9bf844aa2852375b03b0.txt\n",
            "25-02-15-12-07-21_jpg.rf.70ef5d9df5f78faadb25d8188af3228d.txt\n",
            "25-02-15-12-09-18_jpg.rf.08fe3fc9b828d56562e905e7c95cf5c8.txt\n",
            "25-02-15-12-09-18_jpg.rf.7ecc35ebf5afabd1aecc37a29890557c.txt\n",
            "25-02-15-12-09-18_jpg.rf.811622dc7e2f0cce157da9fb0f786d33.txt\n",
            "25-02-15-12-10-29_jpg.rf.4cc2d1fe563e1f523a8e98c41f9b6653.txt\n",
            "25-02-15-12-10-29_jpg.rf.6eaf80d7627d3b2546b6482ae649ec3d.txt\n",
            "25-02-15-12-10-29_jpg.rf.9dc932fcab4aae45684520ae91895d79.txt\n",
            "25-02-15-12-10-39_jpg.rf.700c558171b396e1a9ad6eb4f945e82c.txt\n",
            "25-02-15-12-10-39_jpg.rf.ab0c4a928125f743a41eee34176a32df.txt\n",
            "25-02-15-12-10-39_jpg.rf.b8e6586462a678767500ff9fc7b42546.txt\n",
            "25-02-15-12-11-40_jpg.rf.8cf595a9548df1eacea5ace45a4052ca.txt\n",
            "25-02-15-12-11-40_jpg.rf.e714fa0136ceded26506fc47d701356a.txt\n",
            "25-02-15-12-12-00_jpg.rf.1f339e374bc5e683b3cc9b350c6acd81.txt\n",
            "25-02-15-12-12-00_jpg.rf.448310299869da8c9e790e75370c9a92.txt\n",
            "25-02-15-12-12-00_jpg.rf.584a01cf954a429dfbeccdcc3b6a2eac.txt\n",
            "25-02-15-12-12-10_jpg.rf.073e52815c3e85fa170df8eba45d97e2.txt\n",
            "25-02-15-12-12-10_jpg.rf.0cf11afff927dad16bd4fabca55eb5c5.txt\n",
            "25-02-15-12-12-10_jpg.rf.ef79ecdb9068e86591e2f32cce2c44ce.txt\n",
            "25-02-15-12-12-31_jpg.rf.01b4d66a9a5f8eb38e7a7d8550382ada.txt\n",
            "25-02-15-12-12-31_jpg.rf.03deecc57e8600b652e9121d671e7813.txt\n",
            "25-02-15-12-12-31_jpg.rf.46a8df6a537c74550e955f5c17b54af7.txt\n",
            "25-02-15-12-13-42_jpg.rf.142916da508e5b12ba175f5a8b7b413b.txt\n",
            "25-02-15-12-13-42_jpg.rf.767761750bd0f8a0b3f884aab721d58f.txt\n",
            "25-02-15-12-13-42_jpg.rf.f3d51176420836e2453b9b0aaf44222b.txt\n",
            "25-02-15-12-14-12_jpg.rf.1e79108d2496e00406e04492375065c1.txt\n",
            "25-02-15-12-14-12_jpg.rf.a7db831548b709166bd2421999c556c2.txt\n",
            "25-02-15-12-14-12_jpg.rf.f956b32557f5b211000111f3181ea538.txt\n",
            "25-02-15-12-15-34_jpg.rf.55258faa9164d0b18f12d6699322eb6f.txt\n",
            "25-02-15-12-15-34_jpg.rf.c39f4b818bd598ddeb954d04d307f367.txt\n",
            "25-02-15-12-15-34_jpg.rf.f7d8cf377c36fb8ca2baef0552d7e62c.txt\n",
            "25-02-15-12-19-22_jpg.rf.4a252891bc0330b1f649f576d5e4c7a1.txt\n",
            "25-02-15-12-19-22_jpg.rf.d8ae727d27eb72e944471103f21f6f50.txt\n",
            "25-02-15-12-19-22_jpg.rf.fdb0e04afb91b28401bb7dac025ccb9a.txt\n",
            "25-02-15-12-19-32_jpg.rf.20a5cdd4c2f6cb813177711e81f8dd74.txt\n",
            "25-02-15-12-19-32_jpg.rf.85a5dcccb2a0e92f3be096327854bad8.txt\n",
            "25-02-15-12-19-32_jpg.rf.8fb56129a6dfe789422c90c6f498e801.txt\n",
            "25-02-15-12-21-34_jpg.rf.0f8bc9851a7611fd687d2eabbdae12a5.txt\n",
            "25-02-15-12-21-34_jpg.rf.8fb9227ec05ae6f914258b52af98c1c4.txt\n",
            "25-02-15-12-21-34_jpg.rf.c4ab520afe2404f9702af183b02eb180.txt\n",
            "25-02-15-12-23-26_jpg.rf.10b67fd733d698a2a80061ccd2368754.txt\n",
            "25-02-15-12-23-26_jpg.rf.4538a1b5b7ecd98ba373101acf3670d2.txt\n",
            "25-02-15-12-23-26_jpg.rf.a8fd08c87fff5f9601c4280db2f1d8b3.txt\n",
            "25-02-15-12-24-07_jpg.rf.16e33d237627598c14a12459ef186e42.txt\n",
            "25-02-15-12-24-07_jpg.rf.2e3bfda14d1f99b91649e64202c037d3.txt\n",
            "25-02-15-12-24-07_jpg.rf.d512e1e0101cd9a068c25cbb2d4b33c7.txt\n",
            "25-02-15-12-24-17_jpg.rf.0bf227ebd296ae4f6fd28781991bb3e9.txt\n",
            "25-02-15-12-24-17_jpg.rf.5b709aa4c1674798098157f3dc1824ea.txt\n",
            "25-02-15-12-24-17_jpg.rf.67966d69cc0be85bfe866ab0e38001cd.txt\n",
            "25-02-15-12-25-38_jpg.rf.05ecd32516175d8d8c4a66cac51b2f36.txt\n",
            "25-02-15-12-25-38_jpg.rf.3e5944e1715f6283cf526aa3e8960301.txt\n",
            "25-02-15-12-25-38_jpg.rf.bd304f86fea82e734842d945c65e7cc2.txt\n",
            "25-02-15-12-28-15_jpg.rf.0a11febb216aa78df1f72c8ee5c084c2.txt\n",
            "25-02-15-12-28-15_jpg.rf.935c1d64f82f394369991e190460f36c.txt\n",
            "25-02-15-12-28-15_jpg.rf.d508129efdecf306d6c86fa1f1b0aa2b.txt\n",
            "25-02-15-12-29-37_jpg.rf.870af2c72b3c9e0cdb13c6c7454910c1.txt\n",
            "25-02-15-12-29-37_jpg.rf.880073779dad68eb9b800833167a4b2e.txt\n",
            "25-02-15-12-29-37_jpg.rf.be077054b26e7392519835bf535efa2b.txt\n",
            "25-02-15-12-29-47_jpg.rf.2c5080bd5c531e98cdc7bfdf211843f8.txt\n",
            "25-02-15-12-29-47_jpg.rf.48470b032f0011975a93ca5181d09619.txt\n",
            "25-02-15-12-29-47_jpg.rf.96cd4ab2499f50bdb70cbb2ad5caa6c5.txt\n",
            "25-02-15-12-30-07_jpg.rf.3309d1f411581a940482e987438ab08c.txt\n",
            "25-02-15-12-30-07_jpg.rf.64d527d817dde93e6ebd420af46fabf5.txt\n",
            "25-02-15-12-30-07_jpg.rf.cc1f04bc3cf645bb539c1ebb52b8d00f.txt\n",
            "25-02-15-12-31-08_jpg.rf.6b0b8da5ab49f0264ed24c30390d5525.txt\n",
            "25-02-15-12-31-08_jpg.rf.c3e916cdec0c811ee2696e73bed0305e.txt\n",
            "25-02-15-12-31-08_jpg.rf.fc0ebf27ad602337e705b222508d2b90.txt\n",
            "25-02-15-12-31-18_jpg.rf.17ae912862ef4deea3d41075ab5a98e0.txt\n",
            "25-02-15-12-31-18_jpg.rf.30aa0116a2d23ea3591f9a48a17c87bd.txt\n",
            "25-02-15-12-31-18_jpg.rf.a692a8a1a3e4b90ffa446c9b1607f9e0.txt\n",
            "25-02-15-12-33-20_jpg.rf.2d3f2ac4418ce5122b91fe3f55a6e4a8.txt\n",
            "25-02-15-12-33-20_jpg.rf.876d9cebb2592797b50d9233d4bb75af.txt\n",
            "25-02-15-12-33-20_jpg.rf.a5ca083c5b7ec9c0fb6019e2ad855b68.txt\n",
            "25-02-15-12-33-30_jpg.rf.0c6a494c7fc2c5442290074fd4f2ec2f.txt\n",
            "25-02-15-12-33-30_jpg.rf.ab4c9f67403a3d4c42821d25d0ead05a.txt\n",
            "25-02-15-12-33-30_jpg.rf.c8513bd6f859284add326173dabf0cb2.txt\n",
            "25-02-15-12-34-01_jpg.rf.67730fddb84c197bf6b1e3b4a1132ef5.txt\n",
            "25-02-15-12-34-01_jpg.rf.94ab3da57b3c4aaf98e747f329c431d9.txt\n",
            "25-02-15-12-34-01_jpg.rf.c0a55fcd98458b30dcebf4f3293fde1b.txt\n",
            "25-02-15-12-34-11_jpg.rf.27dc0e7cd402ad3e4b406ea0e63d9725.txt\n",
            "25-02-15-12-34-11_jpg.rf.cbb192fe528276927b3cd50f1c628f7a.txt\n",
            "25-02-15-12-34-11_jpg.rf.ecc15b99f75371d0022238732cfa1361.txt\n",
            "25-02-15-12-36-38_jpg.rf.2c852ab09fa090f2c8310c83a0db3644.txt\n",
            "25-02-15-12-36-38_jpg.rf.6ffd61606d11314f97bb4ab8dbc0bf04.txt\n",
            "25-02-15-12-36-38_jpg.rf.921ba84e2e84ef8db19d7b9e02957340.txt\n",
            "25-02-15-12-38-00_jpg.rf.a096996082c7307c195a6b7c3a15c2b7.txt\n",
            "25-02-15-12-38-00_jpg.rf.af003169a863e7830d68a209f893c154.txt\n",
            "25-02-15-12-38-00_jpg.rf.f87bea43f1ca1b53231abd505da0f66a.txt\n",
            "25-02-15-12-38-10_jpg.rf.17f9a32cdacd9fa14c45c900bd77d764.txt\n",
            "25-02-15-12-38-10_jpg.rf.8fd94b7ebc025fb7ff1f3f0621afa7e5.txt\n",
            "25-02-15-12-38-10_jpg.rf.c8fcea4be6d30523c1b201580356871b.txt\n",
            "25-02-15-12-39-51_jpg.rf.03cb4d7442c1da7ad271225e5a03170d.txt\n",
            "25-02-15-12-39-51_jpg.rf.4cc82b4b5474c0a86d6db424a343a3cb.txt\n",
            "25-02-15-12-39-51_jpg.rf.a49b651fd65ceb8e220167ce2ef83647.txt\n",
            "25-02-15-12-40-22_jpg.rf.5d22b71dbb04bc6b3b2d1e5a82dc32a6.txt\n",
            "25-02-15-12-40-22_jpg.rf.e34e67aa10e6ee3b86608949f81e1d5e.txt\n",
            "25-02-15-12-42-34_jpg.rf.02e2ffffe9edb4ad1c0886faed9d6d58.txt\n",
            "25-02-15-12-42-34_jpg.rf.85421d32b675cce3a5414af320b61bf4.txt\n",
            "25-02-15-12-42-34_jpg.rf.bcd61dc476283c752a03509011c61327.txt\n",
            "25-02-15-12-44-51_jpg.rf.004b4a263108e34c6fe38405962edfe0.txt\n",
            "25-02-15-12-44-51_jpg.rf.77c3a2c695862d99485246f0bf65612f.txt\n",
            "25-02-15-12-44-51_jpg.rf.8f866a26a7a0951f2ddc23534a983793.txt\n",
            "25-02-15-12-45-01_jpg.rf.412780dbf3f9bc22916ce6debe53dcb3.txt\n",
            "25-02-15-12-45-01_jpg.rf.d9147d22501f18970bcf340fa33e34e1.txt\n",
            "25-02-15-12-45-01_jpg.rf.fbba1689e5c6cc117faa784c2b84e600.txt\n",
            "25-02-15-12-47-03_jpg.rf.9026d80d81397844001364edbaf97efd.txt\n",
            "25-02-15-12-47-03_jpg.rf.b4c989a91428a6e6feacb29dee5befa3.txt\n",
            "25-02-15-12-47-03_jpg.rf.d1961d455fe3a86245c02a0a2e14c578.txt\n",
            "25-02-15-12-47-13_jpg.rf.6019aba11f507ad984f122bec36c09e1.txt\n",
            "25-02-15-12-47-13_jpg.rf.9ab7fc4aa89cba48bac3c0e99366885e.txt\n",
            "25-02-15-12-47-13_jpg.rf.c021ba0b8272ea57d9732437cbd53d0f.txt\n",
            "25-02-15-12-48-55_jpg.rf.4c042178b2bee72c3a0eab50b859739b.txt\n",
            "25-02-15-12-48-55_jpg.rf.55a99412f79ebd9bd3966bbb45ada653.txt\n",
            "25-02-15-12-48-55_jpg.rf.a193239a071cd4366cb76bcfb07854ca.txt\n",
            "25-02-15-12-49-05_jpg.rf.218eb5b07ac3e4bb4507f816464eae8a.txt\n",
            "25-02-15-12-49-05_jpg.rf.554eb72da4e79b940ed7340c8afecba1.txt\n",
            "25-02-15-12-49-05_jpg.rf.8504c92f80ac54170fdd5fb0899831c9.txt\n",
            "25-02-15-12-50-47_jpg.rf.21575d06121c4f55972062b758cf6063.txt\n",
            "25-02-15-12-50-47_jpg.rf.88c99dccdbdb44ebc4fa7d2c061bdf18.txt\n",
            "25-02-15-12-52-23_jpg.rf.848f64753d3ca402be288a9f5655b6aa.txt\n",
            "25-02-15-12-52-23_jpg.rf.b39e7655a790ccffb3853fd5a126d253.txt\n",
            "25-02-15-12-52-23_jpg.rf.eb47ff3c3d8321df70b9526284aaf89f.txt\n",
            "25-02-15-12-54-56_jpg.rf.025db4e15d271a8f4e23d4419b8a2fbd.txt\n",
            "25-02-15-12-54-56_jpg.rf.a321cead5104bc77b1ac2ecba2d13cec.txt\n",
            "25-02-15-12-54-56_jpg.rf.a3c90b7296a57aee46dbef369c87bbd4.txt\n",
            "25-02-15-12-55-16_jpg.rf.4b2e62f7a2673e902af82ae0cb789445.txt\n",
            "25-02-15-12-55-16_jpg.rf.844796aff873d7edbd53d7aaad4fd68d.txt\n",
            "25-02-15-12-55-16_jpg.rf.9ddabbe7d410896bc21ccf8e2a6a0dbd.txt\n",
            "25-02-15-12-56-37_jpg.rf.409327319049f177e8fd01196b57eb48.txt\n",
            "25-02-15-12-56-37_jpg.rf.a044349fb834cfe9f1c90f0730bfad99.txt\n",
            "25-02-15-12-57-28_jpg.rf.319f81ded9df760d52b22422323ea112.txt\n",
            "25-02-15-12-57-28_jpg.rf.760f38592740dc750f4822181bd6e45a.txt\n",
            "25-02-15-12-57-28_jpg.rf.9d5a5f86d966931fb5d61159aebe30b1.txt\n",
            "25-02-15-12-57-38_jpg.rf.2182dcad70a1299c503a613ed6b2869e.txt\n",
            "25-02-15-12-57-38_jpg.rf.34601f057ec17743840433aea60efafe.txt\n",
            "25-02-15-12-57-38_jpg.rf.f68104cc3ae2cc4611110900ac8c978b.txt\n",
            "25-02-15-12-59-00_jpg.rf.12f414ed8c576aa14424c258fbfad01b.txt\n",
            "25-02-15-12-59-00_jpg.rf.42e65de9bdde528ea45b0da92e4faf63.txt\n",
            "25-02-15-12-59-00_jpg.rf.dc53fc0b49663b1a6d9698f70e572c45.txt\n",
            "25-02-15-12-59-30_jpg.rf.6a147ab9e8617f001e0a20eb35b21af8.txt\n",
            "25-02-15-12-59-30_jpg.rf.a2ba058fde61be2e6539c40ccc3eddc5.txt\n",
            "25-02-15-12-59-30_jpg.rf.ffef24d7174e57ce72b0992866065f8e.txt\n",
            "25-02-15-13-02-48_jpg.rf.58c209fe2caf38f07eca595bac4f6089.txt\n",
            "25-02-15-13-02-48_jpg.rf.bf0c2127360a2683e2ada6b672cd7f26.txt\n",
            "25-02-15-13-02-48_jpg.rf.f6283843a48a0e066c745fadc3d181ff.txt\n",
            "25-02-15-13-03-08_jpg.rf.12c170fb5d41b3a5e50b9add34869fb0.txt\n",
            "25-02-15-13-03-08_jpg.rf.19934e9448036238c63da864aeb248fb.txt\n",
            "25-02-15-13-03-08_jpg.rf.e6f1ca53ef18f082bbe515f626ad09b8.txt\n",
            "25-02-15-13-03-18_jpg.rf.b0a5ed1038b9f6bfb514582bf80f0bb2.txt\n",
            "25-02-15-13-03-18_jpg.rf.bd229e5b4725b99bee2920c81804cd2d.txt\n",
            "25-02-15-13-03-18_jpg.rf.ea02478a450587a9dccc1840f5d0c74c.txt\n",
            "25-02-15-13-05-41_jpg.rf.1a37b5ec1ac5acf3b53ea5a415d80459.txt\n",
            "25-02-15-13-05-41_jpg.rf.3b17580c96cbc2f07a5c7ea32438b916.txt\n",
            "25-02-15-13-05-41_jpg.rf.54dcbb94c386d1f6ceb930451b972a94.txt\n",
            "25-02-15-13-06-01_jpg.rf.92d260dfb6898568bbe61abc0e3d18d3.txt\n",
            "25-02-15-13-06-01_jpg.rf.b1d465444407db9be33af6696743134f.txt\n",
            "25-02-15-13-06-01_jpg.rf.b7254d8936574a9d0c9a3a09b5f1c629.txt\n",
            "25-02-15-13-07-53_jpg.rf.021fd7fb244871b9d42a8e9a2d9c1331.txt\n",
            "25-02-15-13-07-53_jpg.rf.0a58785d7fcbabc7ea85197306801108.txt\n",
            "25-02-15-13-07-53_jpg.rf.5bb32cfbd4395d7e06440d4876ddd437.txt\n",
            "25-02-15-13-08-03_jpg.rf.135a7b313495f69d2c776f43b72fafe0.txt\n",
            "25-02-15-13-08-03_jpg.rf.53e94506057fc4e22dad1a90bd5fa5ef.txt\n",
            "25-02-15-13-08-03_jpg.rf.c53546c183a26097a8da7b37dbe1c9c4.txt\n",
            "25-02-15-13-08-13_jpg.rf.b1512975eded09ff4367a6f95af00bf2.txt\n",
            "25-02-15-13-08-13_jpg.rf.d2fdaf428a283bbbd20d48920be078d6.txt\n",
            "25-02-15-13-08-13_jpg.rf.e91450b30128466e3e2c9b449075d079.txt\n",
            "25-02-15-13-08-33_jpg.rf.885ab007d5094a270c51c08bc62e591b.txt\n",
            "25-02-15-13-08-33_jpg.rf.c01a595a48060359fb9801ba542fb9fa.txt\n",
            "25-02-15-13-08-33_jpg.rf.d45532943c4481009763c7e2557e4ae1.txt\n",
            "25-02-15-13-09-50_jpg.rf.05cabb10d15c425a73e391c6320a5c26.txt\n",
            "25-02-15-13-09-50_jpg.rf.85b8b2c9efc70fcd0efd1c6e5b597d7a.txt\n",
            "25-02-15-13-09-50_jpg.rf.9b506ad210f7739d81fdaed29dcac11a.txt\n",
            "25-02-15-13-10-20_jpg.rf.04b1477f355438fc37779da4b167b031.txt\n",
            "25-02-15-13-10-20_jpg.rf.b5201961f3295fca92da0d83361ec60b.txt\n",
            "25-02-15-13-10-20_jpg.rf.eb858ce801991b55c39e42cca56a3428.txt\n",
            "25-02-15-13-13-23_jpg.rf.649a60002b333615423d0b950fafef17.txt\n",
            "25-02-15-13-13-23_jpg.rf.b3aedddac8dadb59a9e7d77db2417870.txt\n",
            "25-02-15-13-13-23_jpg.rf.e82daf5ca3ef9174de1238c7b55aeeda.txt\n",
            "25-02-15-13-14-04_jpg.rf.624980ca8eef12f6746c5149ff0c33df.txt\n",
            "25-02-15-13-14-04_jpg.rf.946b0eb6f2e974cc99193037b71d013e.txt\n",
            "25-02-15-13-14-04_jpg.rf.dab44745c0ed79546ba90f7d4e24fc3d.txt\n",
            "25-02-15-13-15-25_jpg.rf.02a3d32d65fdb351948c66563b68b4a7.txt\n",
            "25-02-15-13-15-25_jpg.rf.5c2a65b211c43bd4a0f9f5b3de3068d9.txt\n",
            "25-02-15-13-15-25_jpg.rf.fd8a47b1a419553162f3080362edd56a.txt\n",
            "25-02-15-13-15-45_jpg.rf.4c186743f2b4559b39bc3d1a51dc1976.txt\n",
            "25-02-15-13-15-45_jpg.rf.6fd1f585806f8aa19f627b9e042e48b1.txt\n",
            "25-02-15-13-15-45_jpg.rf.aead8ea23a501d1d0aedce159de57e3c.txt\n",
            "25-02-15-13-15-55_jpg.rf.090baa894d0713f7a8ded620d7b18c6d.txt\n",
            "25-02-15-13-15-55_jpg.rf.77c9a9bba0b215f54a60f509e81ad86f.txt\n",
            "25-02-15-13-15-55_jpg.rf.f7f711143541d98907a26da6081cc54c.txt\n",
            "25-02-15-13-17-06_jpg.rf.2263ff0c2540d21811a696c049b4541a.txt\n",
            "25-02-15-13-17-06_jpg.rf.22ccfb010f7368be854041fff994b2bd.txt\n",
            "25-02-15-13-17-06_jpg.rf.91ab325eebc7521de535848ca177b383.txt\n",
            "25-02-15-13-19-54_jpg.rf.96882acf827e4527c2f8e9cd66c94602.txt\n",
            "25-02-15-13-19-54_jpg.rf.ae36d8a815beb375562b8e77f973d6d6.txt\n",
            "25-02-15-13-19-54_jpg.rf.af74c2f07bcb6edc81461cd40f58fb61.txt\n",
            "25-02-15-13-21-46_jpg.rf.195e0ca50c952ac5b5397ab350e9900c.txt\n",
            "25-02-15-13-21-46_jpg.rf.7d696f580f92a9560f012be91a2c77b7.txt\n",
            "25-02-15-13-21-46_jpg.rf.f920e3a7882dfc2f6c6686deb3e63082.txt\n",
            "25-02-15-13-25-19_jpg.rf.16d30379c4d367cc3b26d9b5cf402e80.txt\n",
            "25-02-15-13-25-19_jpg.rf.d54fda5e393d3405fb8b98a984c40c4d.txt\n",
            "25-02-15-13-25-19_jpg.rf.da977ac40835b848c7a902b7694560e2.txt\n",
            "25-02-15-13-27-36_jpg.rf.28230f8dafaee65821e96867ac33dcc6.txt\n",
            "25-02-15-13-27-36_jpg.rf.a8c4114ea346c713ac4f4549688c649a.txt\n",
            "25-02-15-13-27-36_jpg.rf.e25eb491b4d045548b0e4b5d16e5e48e.txt\n",
            "25-02-15-13-29-18_jpg.rf.22a34528f6651d887ba8bbe36e63819d.txt\n",
            "25-02-15-13-29-18_jpg.rf.6ce1adf86b363a08a7e18733407ea820.txt\n",
            "25-02-15-13-29-18_jpg.rf.f3d09f6a815d3dd5b6ed89afe95d2023.txt\n",
            "25-02-15-13-29-48_jpg.rf.24cd206c3a2535780d3411607016fa89.txt\n",
            "25-02-15-13-29-48_jpg.rf.5ebe306fb248eb522f3659b4a4c8011f.txt\n",
            "25-02-15-13-29-48_jpg.rf.f60eaeee135d0bc8fefd7514fe7ea77a.txt\n",
            "25-02-15-13-30-39_jpg.rf.84278b307b9e015d337244b4ea00b5b3.txt\n",
            "25-02-15-13-30-39_jpg.rf.abaf90ce2415ca5314f17a22c9387847.txt\n",
            "25-02-15-13-30-39_jpg.rf.c799b1301bdbb1cb39fad20821c44dd3.txt\n",
            "25-02-15-13-31-50_jpg.rf.0b2c10e40e324f6da8a6ac98c14b5cfc.txt\n",
            "25-02-15-13-31-50_jpg.rf.c2d785e6118525e581a6413a81922c1c.txt\n",
            "25-02-15-13-31-50_jpg.rf.ff96bd47ab68597a2b5d20cd997df166.txt\n",
            "25-02-15-13-32-00_jpg.rf.16980ef6c4f93069b6fd2f5a78b2593f.txt\n",
            "25-02-15-13-32-00_jpg.rf.871fec1b3b485bf004c15990a194a5af.txt\n",
            "25-02-15-13-32-00_jpg.rf.b7099c22b0b52a3e494456bcea6bf73d.txt\n",
            "25-02-15-13-32-41_jpg.rf.335b34397e1485e22a5d471ba306c878.txt\n",
            "25-02-15-13-32-41_jpg.rf.498279e10a39eca73c6e1ad2e5e1cfba.txt\n",
            "25-02-15-13-32-41_jpg.rf.a2c7a44e5bccf8d6773a10caa6658ea9.txt\n",
            "25-02-15-13-33-42_jpg.rf.6536818cc4328988016960a9d8354a3c.txt\n",
            "25-02-15-13-33-42_jpg.rf.c38ba14ea2b7ac9753054c4bd275f633.txt\n",
            "25-02-15-13-33-42_jpg.rf.e2fa4bcfc7b264ac25347a94ac9e36e1.txt\n",
            "25-02-15-13-33-52_jpg.rf.2f8ce40ddfdf07907805bacacf1e6190.txt\n",
            "25-02-15-13-33-52_jpg.rf.3091b30ee80a208eea8e2478919cd5d4.txt\n",
            "25-02-15-13-33-52_jpg.rf.3ff08550d3d434e9c72354af42885525.txt\n",
            "25-02-15-13-34-48_jpg.rf.0184b100038687befc168a998495e2e2.txt\n",
            "25-02-15-13-34-48_jpg.rf.8762a186527b9d2b9cf6ed5491fa9dc0.txt\n",
            "25-02-15-13-34-48_jpg.rf.d290110697598a3ca127397cb838eb8e.txt\n",
            "25-02-15-13-34-58_jpg.rf.790b74fbff371d28a229846879fa5240.txt\n",
            "25-02-15-13-34-58_jpg.rf.aba5acdecbbad7f4e57f3d4322a2bfe4.txt\n",
            "25-02-15-13-34-58_jpg.rf.dcb56383003a07780b4808d3870dd4b4.txt\n",
            "25-02-15-13-35-18_jpg.rf.1d346924b3419073c30696db207cfdfe.txt\n",
            "25-02-15-13-35-18_jpg.rf.1f0cfeca2051c3fbbb6b9e9c0ebe55c1.txt\n",
            "25-02-15-13-35-18_jpg.rf.658366e991a3a9c3024f1deed4790976.txt\n",
            "25-02-15-13-36-09_jpg.rf.318208fe5b3b85e1d93a42f0439913eb.txt\n",
            "25-02-15-13-36-09_jpg.rf.9b3a7f44194924890e4138c2a04f3632.txt\n",
            "25-02-15-13-36-09_jpg.rf.db11388dda4b81f96e3b2d17f5946c32.txt\n",
            "25-02-15-13-40-54_jpg.rf.6ca7334ab5555ec30c1caa94796aec50.txt\n",
            "25-02-15-13-40-54_jpg.rf.7c1980de55bac01d0dd524b40257fb6e.txt\n",
            "25-02-15-13-40-54_jpg.rf.b38867902428c9bfe47cc7b01623a861.txt\n",
            "25-02-15-13-42-35_jpg.rf.278f514fe7d2d051444915e27252d631.txt\n",
            "25-02-15-13-42-35_jpg.rf.36354a43edc8a1dc986fff683642d104.txt\n",
            "25-02-15-13-42-35_jpg.rf.a5eadf7a4f8c54dfa1517f0b9115b4a0.txt\n",
            "25-02-15-13-43-00_jpg.rf.095448f5b966270632cb5112560f4446.txt\n",
            "25-02-15-13-43-00_jpg.rf.79655b7acd4bd7ba3e0b07b9bd489657.txt\n",
            "25-02-15-13-43-00_jpg.rf.c10e5063cf3e947b91a5302e1b8eb34f.txt\n",
            "25-02-15-13-44-22_jpg.rf.0897be8e77dd37d727562b32ccba444c.txt\n",
            "25-02-15-13-44-22_jpg.rf.9ebe513bc02773165af7fc2926ae4973.txt\n",
            "25-02-15-13-44-22_jpg.rf.cb486af5b3f55ba797c8890fd9a328ac.txt\n",
            "25-02-15-13-44-32_jpg.rf.695d6e54d30b2719ec533a810dfb2d64.txt\n",
            "25-02-15-13-44-32_jpg.rf.d3645391d2061d0ab2fb275522dca751.txt\n",
            "25-02-15-13-44-32_jpg.rf.f684ed78bee631bd428f63ce93143286.txt\n",
            "25-02-15-13-46-24_jpg.rf.2acf1b60abd359bfb4fb522c0e929494.txt\n",
            "25-02-15-13-46-24_jpg.rf.40be34494b77ba928468b9b67bf5e506.txt\n",
            "25-02-15-13-46-24_jpg.rf.ba8be6f2f21894c6752b69d54632ea14.txt\n",
            "25-02-15-13-46-34_jpg.rf.a0b9a3a9b19b74d0375bbb4964f3e9d3.txt\n",
            "25-02-15-13-46-34_jpg.rf.ee7448425791d4fd5b345c3e9145eebf.txt\n",
            "25-02-15-13-48-36_jpg.rf.1713b43d595886cf2059dbfbb022b091.txt\n",
            "25-02-15-13-48-36_jpg.rf.59d134fbf85265dbe2be7d8fbb81f8cd.txt\n",
            "25-02-15-13-48-36_jpg.rf.f7e6011d54ba2987d5e5bb4dc22bc500.txt\n",
            "25-02-15-13-52-14_jpg.rf.55559caede9948d767ce496de533127e.txt\n",
            "25-02-15-13-52-14_jpg.rf.747a8aefd51203498b33d32290dc7ff2.txt\n",
            "25-02-15-13-52-45_jpg.rf.1855346337dadedf45131025b27bce5a.txt\n",
            "25-02-15-13-52-45_jpg.rf.40d5a2dc8188ba99c2c44b722218b110.txt\n",
            "25-02-15-13-52-45_jpg.rf.a87548d4037b6cf87402894ba1c46e8a.txt\n",
            "25-02-15-13-52-55_jpg.rf.83a8b0d7b5e9a2aa1f2d0a0ab2a4fe1b.txt\n",
            "25-02-15-13-52-55_jpg.rf.df5343864a3888f459f9d258c76559f0.txt\n",
            "25-02-15-13-52-55_jpg.rf.f3729424a45cb94f123ac150d528bd58.txt\n",
            "25-02-15-13-54-26_jpg.rf.4e9bf196df75e1bccb957a05099d8e7e.txt\n",
            "25-02-15-13-54-26_jpg.rf.ee0448b4e356810595c3682e71991049.txt\n",
            "25-02-15-13-54-26_jpg.rf.f0bf0937e7be31deff2a9c786a1a83f0.txt\n",
            "25-02-15-13-56-08_jpg.rf.522d8d8c7704a5a747d5a25026d080c2.txt\n",
            "25-02-15-13-56-08_jpg.rf.670711905c13628ea89b210a687b2635.txt\n",
            "25-02-15-13-56-08_jpg.rf.95f245e81a03dbe08b045da2d6d353af.txt\n",
            "25-02-15-14-00-17_jpg.rf.4f95778db58ce5792a1b78a31a421a90.txt\n",
            "25-02-15-14-00-17_jpg.rf.f64b2592ba0878b56c841da3aea31a9c.txt\n",
            "25-02-15-14-00-17_jpg.rf.fa891f858ed4723f620bdd151bd02a0e.txt\n",
            "25-02-15-14-02-39_jpg.rf.1c19bfca9dbc2e964fd0eb3e7740ae1a.txt\n",
            "25-02-15-14-02-39_jpg.rf.768986cc3b0615b4991707bd714a8bf6.txt\n",
            "25-02-15-14-02-39_jpg.rf.e3fe5c53b626f092187d2660be169fa4.txt\n",
            "25-02-15-14-03-50_jpg.rf.53bc836c3b59d9ed77daeb0ee23b1ae5.txt\n",
            "25-02-15-14-03-50_jpg.rf.c8c8d21c2b4a63dc838f3a6fc75a4fef.txt\n",
            "25-02-15-14-03-50_jpg.rf.fd6a6de3183066efccfcdb53325382d7.txt\n",
            "25-02-15-14-05-31_jpg.rf.56347ac15513e4b460470be9accc6261.txt\n",
            "25-02-15-14-05-31_jpg.rf.ea5911ec131efefe4b05a02fd8675994.txt\n",
            "25-02-15-14-05-31_jpg.rf.ea9103852a1b568945fcacac9eca4432.txt\n",
            "25-02-15-14-07-33_jpg.rf.418f4390c436dc499bd6fb360fb70d82.txt\n",
            "25-02-15-14-07-33_jpg.rf.9662b6004ea45f4814fab09082c15a62.txt\n",
            "25-02-15-14-07-33_jpg.rf.a86366041dbb52f42ff92d25d1bb0270.txt\n",
            "25-02-15-14-08-04_jpg.rf.19919303b1760155925e2bed156b9d42.txt\n",
            "25-02-15-14-08-04_jpg.rf.75bca3d00d6208d988980468f368c17b.txt\n",
            "25-02-15-14-08-04_jpg.rf.e76ffb6b46baf4b396308065e9f16f92.txt\n",
            "25-02-15-14-09-20_jpg.rf.35798a3faecb2747d09d9e8cdeef2e62.txt\n",
            "25-02-15-14-09-20_jpg.rf.38049a0590bdcedd6732e23ca1404d03.txt\n",
            "25-02-15-14-09-20_jpg.rf.8dad324377fd4e2b140ed19890a3e497.txt\n",
            "25-02-15-14-09-30_jpg.rf.008d086a72da3421f488d36777ad3457.txt\n",
            "25-02-15-14-09-30_jpg.rf.111d42e2ff5f45aeff1107cb03b091d4.txt\n",
            "25-02-15-14-09-30_jpg.rf.dc49520b29381ff75ea5acbfd5d9d3c0.txt\n",
            "25-02-15-14-11-52_jpg.rf.5d0c101ce0fa22bc2a15e4346fc418e8.txt\n",
            "25-02-15-14-11-52_jpg.rf.5e00b7d56071dcb734a69a8ebb344296.txt\n",
            "25-02-15-14-11-52_jpg.rf.d0aa044d190dbd13d24295c0809d57c4.txt\n",
            "25-02-15-14-12-13_jpg.rf.d5b0a05806e57721801902222b53cccb.txt\n",
            "25-02-15-14-12-13_jpg.rf.e5749334ed2b09592c4ad75165c399bb.txt\n",
            "25-02-15-14-12-13_jpg.rf.ee7c353361c0e0d4def15bc7b00a669f.txt\n",
            "25-02-15-14-13-34_jpg.rf.bd56311609280c469d6c89a6adf2272d.txt\n",
            "25-02-15-14-13-34_jpg.rf.cbcdcdc00872127fee35210c6302129f.txt\n",
            "25-02-15-14-13-34_jpg.rf.d555999985c127dd2476ef5041af5c28.txt\n",
            "25-02-15-14-13-44_jpg.rf.976899a09c0ea53446059777887598dc.txt\n",
            "25-02-15-14-13-44_jpg.rf.a7c307ad3868bd4c1ca3f8e4e86c20b5.txt\n",
            "25-02-15-14-13-44_jpg.rf.ca68e598688b29669b4884c7585bc138.txt\n",
            "25-02-15-14-13-54_jpg.rf.07ac4d12d071e64828a0fc003c5fac52.txt\n",
            "25-02-15-14-13-54_jpg.rf.2e834b44a91decde69cb541c809641b7.txt\n",
            "25-02-15-14-13-54_jpg.rf.c17c8962449b43a74d211971e7a12989.txt\n",
            "25-02-15-14-15-26_jpg.rf.5f69b0bc572f7ed9f6e4c2aee25633dc.txt\n",
            "25-02-15-14-15-26_jpg.rf.707edafbf8108bc168650c0d6c114d1b.txt\n",
            "25-02-15-14-15-26_jpg.rf.dc8c30e44300264f778c8e179ce0ccb1.txt\n",
            "25-02-15-14-17-33_jpg.rf.243d5723c7b2e60599b0c3b132940b01.txt\n",
            "25-02-15-14-17-33_jpg.rf.63b89a97aeac6eac6a76f59f1ae4bbf1.txt\n",
            "25-02-15-14-17-33_jpg.rf.cfb3de2991d52d2cc109f7a20f5f1bc6.txt\n",
            "25-02-15-14-19-35_jpg.rf.c3bc7a91917d36c0ed6eb03ad10e94ce.txt\n",
            "25-02-15-14-19-35_jpg.rf.c776cdc3e43436b19b21ce034f7b9a9e.txt\n",
            "25-02-15-14-19-35_jpg.rf.e014bdbb05cf751994a7ce664db50f60.txt\n",
            "25-02-15-14-19-55_jpg.rf.02fd01ef057cc861739bfefe29ec0ad5.txt\n",
            "25-02-15-14-19-55_jpg.rf.d6ca8472f347294dcb7b8a073512e952.txt\n",
            "25-02-15-14-19-55_jpg.rf.fa25112eecf5b13226c82c11be00ecdf.txt\n",
            "25-02-15-14-20-05_jpg.rf.22d224fe42ca81ededb0f74fcbb6c9e8.txt\n",
            "25-02-15-14-20-05_jpg.rf.4b16888220c6f6726739eb4e54e53443.txt\n",
            "25-02-15-14-20-05_jpg.rf.e6e1eb0aa3e2d8b2d923bd4385982d6b.txt\n",
            "25-02-15-14-21-36_jpg.rf.39ddded168615d0e59049ae4eac5b50a.txt\n",
            "25-02-15-14-21-36_jpg.rf.6d836084a419770c9ebeb2fece48a9d3.txt\n",
            "25-02-15-14-23-18_jpg.rf.30a6af5424d385498427c13277c296bf.txt\n",
            "25-02-15-14-23-18_jpg.rf.cb3b4a80a3712472f514c008bbf3d071.txt\n",
            "25-02-15-14-23-18_jpg.rf.e29442e04402ee5f6281a852b1d9b716.txt\n",
            "25-02-15-14-25-45_jpg.rf.30d98d2cb3831830fca848a6f9287b00.txt\n",
            "25-02-15-14-25-45_jpg.rf.972af073651e6dcabe1f5dfe1a6e48c8.txt\n",
            "25-02-15-14-25-45_jpg.rf.d8f9c0b4fa280af12f669e634451855b.txt\n",
            "25-02-15-14-26-05_jpg.rf.20051666eed02134a830e9a965af9fb3.txt\n",
            "25-02-15-14-26-05_jpg.rf.59c100851e65182550909229e4236834.txt\n",
            "25-02-15-14-26-05_jpg.rf.5eda0ec172c67cfdb37413e43b99435c.txt\n",
            "25-02-15-14-27-47_jpg.rf.bdace4e219cd8ac1365114bae93c5239.txt\n",
            "25-02-15-14-27-47_jpg.rf.e8decca19806db76bfb73d98f5e23c10.txt\n",
            "25-02-15-14-27-47_jpg.rf.ef8c1cff7a49f76b7c6ea17d1b8b6d63.txt\n",
            "25-02-15-14-27-57_jpg.rf.251cddf2ca8f576f0cda48e58246005b.txt\n",
            "25-02-15-14-27-57_jpg.rf.64ce863b427fff1502388ce7c61439af.txt\n",
            "25-02-15-14-27-57_jpg.rf.6649617d9000791136d952b5e3a68147.txt\n",
            "25-02-15-14-28-07_jpg.rf.620aba4157e81071d0385a61398a2ac7.txt\n",
            "25-02-15-14-28-07_jpg.rf.9cb59413f68c59c7de909e1aef7d735d.txt\n",
            "25-02-15-14-28-07_jpg.rf.bddd611cb6c52dfbec393d8fad571cd0.txt\n",
            "25-02-15-14-28-38_jpg.rf.d048ae9f7e71db323c2d2cf00f9c23f9.txt\n",
            "25-02-15-14-28-38_jpg.rf.db4ef6b20b0982345ad51d974202ddc5.txt\n",
            "25-02-15-14-28-38_jpg.rf.f9171aec7dd4a8bbe63735aa2815088b.txt\n",
            "25-02-15-14-29-08_jpg.rf.0d3ac11efa659410bf0f0bf3e60e8722.txt\n",
            "25-02-15-14-29-08_jpg.rf.1228b27ca5eb9bc0b2fd03fe74c9ade2.txt\n",
            "25-02-15-14-29-08_jpg.rf.28cd45834db50ec57239f879bb9b43c8.txt\n",
            "25-02-15-14-31-20_jpg.rf.b8a76e8c80aa6550c25543b681998894.txt\n",
            "25-02-15-14-31-20_jpg.rf.c132c4609f7539a3e39845e4df1c4d04.txt\n",
            "25-02-15-14-31-20_jpg.rf.e134629d8515ed0ccbc760ec1d07ff38.txt\n",
            "25-02-15-14-31-31_jpg.rf.762945af454a42c93f8dd5f23ea52fca.txt\n",
            "25-02-15-14-31-31_jpg.rf.ba7cd4876b423c2d7e8a4db236ff2911.txt\n",
            "25-02-15-14-31-31_jpg.rf.f6ea9533184561c6f20faed7f8bb6ef8.txt\n",
            "25-02-15-14-33-32_jpg.rf.0d9c1fdff6049726a708fa09f25b06d3.txt\n",
            "25-02-15-14-33-32_jpg.rf.773b1733d5c03b6954459dcf0868d275.txt\n",
            "25-02-15-14-33-32_jpg.rf.cbfda5503d39207efd772246439edafa.txt\n",
            "25-02-15-14-34-03_jpg.rf.330a00ba3ba21f297b633790a0060e36.txt\n",
            "25-02-15-14-34-03_jpg.rf.61f7bdb890b4cb410e1d0b13b2d39247.txt\n",
            "25-02-15-14-34-03_jpg.rf.80a98067168203c5386c8c162a18313d.txt\n",
            "25-02-15-14-34-28_jpg.rf.43766bcc2a3e02539ee285a68ad57ce2.txt\n",
            "25-02-15-14-34-28_jpg.rf.e4d2ee67cad6b90d060925023c13b097.txt\n",
            "25-02-15-14-34-28_jpg.rf.f15b1a32764fb6daf9283f82061df2d4.txt\n",
            "25-02-15-14-34-38_jpg.rf.26d63e73fb3b0e05a981eb887e727856.txt\n",
            "25-02-15-14-34-38_jpg.rf.c70faa80f6b6ac106ba4f26191dc3a26.txt\n",
            "25-02-15-14-37-41_jpg.rf.7c888ff8bede91ec08801138816f0492.txt\n",
            "25-02-15-14-37-41_jpg.rf.8b33f24e69c21f5c67883f7f6e5b9157.txt\n",
            "25-02-15-14-37-41_jpg.rf.f69d340bed36fbd256ca9229a6817126.txt\n",
            "25-02-15-14-38-01_jpg.rf.21cf0276b67f552e26c7046e462f0f80.txt\n",
            "25-02-15-14-38-01_jpg.rf.261f4fa14e7b94a28fd2e32023fc07cf.txt\n",
            "25-02-15-14-38-01_jpg.rf.629c18e6aefc26dab064664999bb760c.txt\n",
            "25-02-15-14-39-23_jpg.rf.3cd428ce86fae04c9d4151f056d65986.txt\n",
            "25-02-15-14-39-23_jpg.rf.597ef576dac1e594b9e87056228b3d98.txt\n",
            "25-02-15-14-39-23_jpg.rf.7a14b0536285563ca8cc005c832bfef2.txt\n",
            "25-02-15-14-40-24_jpg.rf.4e52158614d28eebd02ba31f6a56c331.txt\n",
            "25-02-15-14-40-24_jpg.rf.c33b8984e396c826924e8808dbca6405.txt\n",
            "25-02-15-14-40-24_jpg.rf.f2b9fa6dbb6e097505f79b35bdfe78a7.txt\n",
            "25-02-15-14-40-44_jpg.rf.4464e3b908c489ceaada1d01a8730fbe.txt\n",
            "25-02-15-14-40-44_jpg.rf.d36d986b3ed19c4b5f007d56f343335a.txt\n",
            "25-02-15-14-40-44_jpg.rf.f872730d26bdda93b6f0d76f9035de91.txt\n",
            "25-02-15-14-41-14_jpg.rf.9c0d2c5ce246a09e1ffe417a92f4d437.txt\n",
            "25-02-15-14-41-14_jpg.rf.d833c7aa419f681940a4091c20ede02c.txt\n",
            "25-02-15-14-41-14_jpg.rf.dcf060d3869c9409db5ea6f9aab22928.txt\n",
            "25-02-15-14-42-36_jpg.rf.5ab0a54a8e2d4adda79506279666fe9b.txt\n",
            "25-02-15-14-42-36_jpg.rf.5f6d46ade5123e04a61358bbce1dbe78.txt\n",
            "25-02-15-14-42-36_jpg.rf.86c57f44bbf35ad67d0a77a5b7e3ea30.txt\n",
            "25-02-15-14-46-55_jpg.rf.37c62b5b122507b0a99538e16cc78aff.txt\n",
            "25-02-15-14-46-55_jpg.rf.9eb849a647aa81dc1fe64cb6ce05f347.txt\n",
            "25-02-15-14-46-55_jpg.rf.f6226d17546dcd944a87e30580cad507.txt\n",
            "25-02-15-14-49-07_jpg.rf.63e4fdae5c9a41df3cc013235fefd8e6.txt\n",
            "25-02-15-14-49-07_jpg.rf.fc47cfcf630f52bb02fc93745f3d22b3.txt\n",
            "25-02-15-14-49-07_jpg.rf.fe3416a578d80d8fe578ea84a2b3492d.txt\n",
            "25-02-15-14-49-17_jpg.rf.12075052e8a6d3afb016472840de4fc7.txt\n",
            "25-02-15-14-49-17_jpg.rf.6766768adbe267e447013f3b555545a6.txt\n",
            "25-02-15-14-49-17_jpg.rf.84ed389fdc3d124defb9756f35e3079d.txt\n",
            "25-02-15-14-50-18_jpg.rf.4fab74a004d442dfe741661f35db50eb.txt\n",
            "25-02-15-14-50-18_jpg.rf.98dc028b840b70aea3f48fca3724ee43.txt\n",
            "25-02-15-14-50-18_jpg.rf.dc9595073222f064af16c2a22f23650f.txt\n",
            "25-02-15-15-07-54_jpg.rf.679584bdb97d7a999e4d77db3087cd2a.txt\n",
            "25-02-15-15-07-54_jpg.rf.cdf004a6a50d076bb4bc946eb9e835f9.txt\n",
            "25-02-15-15-07-54_jpg.rf.e6a47c10240c0b20fe6d6922c23252b9.txt\n",
            "25-02-15-15-19-55_jpg.rf.07527320eea79b86badad2bf33fbd835.txt\n",
            "25-02-15-15-19-55_jpg.rf.23f3127eb3e9dd34233b19985af59f4d.txt\n",
            "25-02-15-15-19-55_jpg.rf.9d25be15ea0bd6e0e0517f07ea0b18c5.txt\n",
            "25-02-15-15-34-59_jpg.rf.3a70862af648484261404c1c43e12df1.txt\n",
            "25-02-15-15-34-59_jpg.rf.3ca37bf138ea0c3e8a923ffb807e0a53.txt\n",
            "25-02-15-15-34-59_jpg.rf.bda99f256fd45d213f1226df2ce7bb73.txt\n",
            "25-02-15-15-41-15_jpg.rf.c6721c2569f6dbd09ccf41a35b4bca71.txt\n",
            "25-02-15-15-41-15_jpg.rf.dbfe4f5531c97f2759a0b456982b7450.txt\n",
            "25-02-15-15-41-15_jpg.rf.f3cf458562d9cd21500f090de163699b.txt\n",
            "\n",
            "//content/Cloud-detection-1.0-4/valid:\n",
            "images\tlabels\tlabels.cache\n",
            "\n",
            "//content/Cloud-detection-1.0-4/valid/images:\n",
            "25-02-15-11-13-01_jpg.rf.45aebca3601cb8b9e8c62f2b3d7895e2.jpg\n",
            "25-02-15-11-19-01_jpg.rf.69d56f4a6b18fbc5ce5a9e290d64a5b4.jpg\n",
            "25-02-15-11-22-45_jpg.rf.d9b20e65394842b635b30bb1f919b2c8.jpg\n",
            "25-02-15-11-23-15_jpg.rf.a97f0a8fe0a216fdfaba2ddf9a575edb.jpg\n",
            "25-02-15-11-28-25_jpg.rf.f02cfa8a514e81e3305822941febcb87.jpg\n",
            "25-02-15-11-36-17_jpg.rf.984462371d4db59b1e7af51a0a83bd40.jpg\n",
            "25-02-15-11-38-19_jpg.rf.6fd36b686b715d5261d3e2e7b2f8e3e7.jpg\n",
            "25-02-15-11-40-11_jpg.rf.4ed6ab39ab12b01c73a3d82a65e23b37.jpg\n",
            "25-02-15-11-47-43_jpg.rf.219894ab2acf745623ee21967a358515.jpg\n",
            "25-02-15-11-49-25_jpg.rf.82b0ff4eb4fc5d9adacbd3e5711edd35.jpg\n",
            "25-02-15-11-49-35_jpg.rf.4cffe2a493c703f78a01c13bb834079b.jpg\n",
            "25-02-15-11-59-19_jpg.rf.bd10314bed653a633d9196c80e4c7b8b.jpg\n",
            "25-02-15-12-26-03_jpg.rf.f98e027c3c21059c182afb0e5daccf11.jpg\n",
            "25-02-15-12-35-58_jpg.rf.f87652673bf92676213e69af86bf7b7a.jpg\n",
            "25-02-15-12-36-28_jpg.rf.2091d8ece8d3ae1404d29e1702be5bbe.jpg\n",
            "25-02-15-12-42-24_jpg.rf.ba7e350a41fbc835ceb4e1c67abc9dbe.jpg\n",
            "25-02-15-12-44-41_jpg.rf.ad03b6254cef637d72ea717456f75a74.jpg\n",
            "25-02-15-12-46-43_jpg.rf.2cc14e02a066e6da29dd54e9715fc473.jpg\n",
            "25-02-15-12-48-45_jpg.rf.1ce5767d681479c8cadef1982f55b8fd.jpg\n",
            "25-02-15-12-52-34_jpg.rf.dc01a92258c1dd52972953ef89829b22.jpg\n",
            "25-02-15-12-56-47_jpg.rf.c2829f0d3a0ee222d004447137a3ff27.jpg\n",
            "25-02-15-13-02-58_jpg.rf.70b0a349bcf59ffbe05f854243e7ba51.jpg\n",
            "25-02-15-13-17-32_jpg.rf.130a7dd28360c812d14906089a3e9766.jpg\n",
            "25-02-15-13-20-04_jpg.rf.3b8cbd14684006e9fdd14c392469c4f4.jpg\n",
            "25-02-15-13-22-16_jpg.rf.e535a5b92dec9fa0b2319531c875e6f8.jpg\n",
            "25-02-15-13-25-09_jpg.rf.1f9aa66350b00e715846a03d87d604c8.jpg\n",
            "25-02-15-13-31-40_jpg.rf.0c83f50fd92ab4f9eec1cb87f9afc775.jpg\n",
            "25-02-15-13-35-08_jpg.rf.47d81dfa4fbefa18fd5b035dd44f6eee.jpg\n",
            "25-02-15-13-37-20_jpg.rf.fdfdadb8d9d63093192349fb2df19b4d.jpg\n",
            "25-02-15-13-37-30_jpg.rf.db8097ab4dee1f089462a5147dfd1173.jpg\n",
            "25-02-15-13-42-45_jpg.rf.914eb996e7ca8d2f18dbca0e1dadc814.jpg\n",
            "25-02-15-13-43-11_jpg.rf.d90612217cc09f938eac629a91e98e34.jpg\n",
            "25-02-15-13-52-24_jpg.rf.90dcea3656d6316b374c4a1b471303ff.jpg\n",
            "25-02-15-13-53-05_jpg.rf.d2e774674d08860c97330a309d147bdb.jpg\n",
            "25-02-15-13-55-58_jpg.rf.ff83a734ea28765663d64466e673cf0a.jpg\n",
            "25-02-15-13-56-38_jpg.rf.6618a4c7900685f6b011f93f45f80d2a.jpg\n",
            "25-02-15-13-57-49_jpg.rf.4ce7ef3ef5f61c0ebf5a3d83cdb08dc0.jpg\n",
            "25-02-15-14-03-40_jpg.rf.819fc6a1d712affda74bbdf3ee25bc96.jpg\n",
            "25-02-15-14-11-42_jpg.rf.a17825ac3fc4bbfaedc6161ba4c13e09.jpg\n",
            "25-02-15-14-20-15_jpg.rf.5cb569999db1dc9c450b4f6b5cc03247.jpg\n",
            "25-02-15-14-21-26_jpg.rf.23cb9954c347f4a786bf196fe00a3e3b.jpg\n",
            "25-02-15-14-23-08_jpg.rf.fbcb25564a7e35c0beb2daafd8b2e46e.jpg\n",
            "25-02-15-14-33-22_jpg.rf.0ca4660905ee1dcf42877f742eb7ffcf.jpg\n",
            "25-02-15-14-39-53_jpg.rf.f1d774bdc904ced054b8bfdb241b3958.jpg\n",
            "25-02-15-14-42-26_jpg.rf.d3e332b694ca456fbcf7e21f6cb82d46.jpg\n",
            "25-02-15-14-44-53_jpg.rf.d18528ef8d1d5c54cc450b06608a5020.jpg\n",
            "25-02-15-14-47-15_jpg.rf.97220511947e0985230e0647d932c430.jpg\n",
            "25-02-15-15-32-02_jpg.rf.80a8dcd0070947005838cda56532877d.jpg\n",
            "25-02-15-15-56-19_jpg.rf.80c55cb12db20487dc98bd138c18abd1.jpg\n",
            "\n",
            "//content/Cloud-detection-1.0-4/valid/labels:\n",
            "25-02-15-11-13-01_jpg.rf.45aebca3601cb8b9e8c62f2b3d7895e2.txt\n",
            "25-02-15-11-19-01_jpg.rf.69d56f4a6b18fbc5ce5a9e290d64a5b4.txt\n",
            "25-02-15-11-22-45_jpg.rf.d9b20e65394842b635b30bb1f919b2c8.txt\n",
            "25-02-15-11-23-15_jpg.rf.a97f0a8fe0a216fdfaba2ddf9a575edb.txt\n",
            "25-02-15-11-28-25_jpg.rf.f02cfa8a514e81e3305822941febcb87.txt\n",
            "25-02-15-11-36-17_jpg.rf.984462371d4db59b1e7af51a0a83bd40.txt\n",
            "25-02-15-11-38-19_jpg.rf.6fd36b686b715d5261d3e2e7b2f8e3e7.txt\n",
            "25-02-15-11-40-11_jpg.rf.4ed6ab39ab12b01c73a3d82a65e23b37.txt\n",
            "25-02-15-11-47-43_jpg.rf.219894ab2acf745623ee21967a358515.txt\n",
            "25-02-15-11-49-25_jpg.rf.82b0ff4eb4fc5d9adacbd3e5711edd35.txt\n",
            "25-02-15-11-49-35_jpg.rf.4cffe2a493c703f78a01c13bb834079b.txt\n",
            "25-02-15-11-59-19_jpg.rf.bd10314bed653a633d9196c80e4c7b8b.txt\n",
            "25-02-15-12-26-03_jpg.rf.f98e027c3c21059c182afb0e5daccf11.txt\n",
            "25-02-15-12-35-58_jpg.rf.f87652673bf92676213e69af86bf7b7a.txt\n",
            "25-02-15-12-36-28_jpg.rf.2091d8ece8d3ae1404d29e1702be5bbe.txt\n",
            "25-02-15-12-42-24_jpg.rf.ba7e350a41fbc835ceb4e1c67abc9dbe.txt\n",
            "25-02-15-12-44-41_jpg.rf.ad03b6254cef637d72ea717456f75a74.txt\n",
            "25-02-15-12-46-43_jpg.rf.2cc14e02a066e6da29dd54e9715fc473.txt\n",
            "25-02-15-12-48-45_jpg.rf.1ce5767d681479c8cadef1982f55b8fd.txt\n",
            "25-02-15-12-52-34_jpg.rf.dc01a92258c1dd52972953ef89829b22.txt\n",
            "25-02-15-12-56-47_jpg.rf.c2829f0d3a0ee222d004447137a3ff27.txt\n",
            "25-02-15-13-02-58_jpg.rf.70b0a349bcf59ffbe05f854243e7ba51.txt\n",
            "25-02-15-13-17-32_jpg.rf.130a7dd28360c812d14906089a3e9766.txt\n",
            "25-02-15-13-20-04_jpg.rf.3b8cbd14684006e9fdd14c392469c4f4.txt\n",
            "25-02-15-13-22-16_jpg.rf.e535a5b92dec9fa0b2319531c875e6f8.txt\n",
            "25-02-15-13-25-09_jpg.rf.1f9aa66350b00e715846a03d87d604c8.txt\n",
            "25-02-15-13-31-40_jpg.rf.0c83f50fd92ab4f9eec1cb87f9afc775.txt\n",
            "25-02-15-13-35-08_jpg.rf.47d81dfa4fbefa18fd5b035dd44f6eee.txt\n",
            "25-02-15-13-37-20_jpg.rf.fdfdadb8d9d63093192349fb2df19b4d.txt\n",
            "25-02-15-13-37-30_jpg.rf.db8097ab4dee1f089462a5147dfd1173.txt\n",
            "25-02-15-13-42-45_jpg.rf.914eb996e7ca8d2f18dbca0e1dadc814.txt\n",
            "25-02-15-13-43-11_jpg.rf.d90612217cc09f938eac629a91e98e34.txt\n",
            "25-02-15-13-52-24_jpg.rf.90dcea3656d6316b374c4a1b471303ff.txt\n",
            "25-02-15-13-53-05_jpg.rf.d2e774674d08860c97330a309d147bdb.txt\n",
            "25-02-15-13-55-58_jpg.rf.ff83a734ea28765663d64466e673cf0a.txt\n",
            "25-02-15-13-56-38_jpg.rf.6618a4c7900685f6b011f93f45f80d2a.txt\n",
            "25-02-15-13-57-49_jpg.rf.4ce7ef3ef5f61c0ebf5a3d83cdb08dc0.txt\n",
            "25-02-15-14-03-40_jpg.rf.819fc6a1d712affda74bbdf3ee25bc96.txt\n",
            "25-02-15-14-11-42_jpg.rf.a17825ac3fc4bbfaedc6161ba4c13e09.txt\n",
            "25-02-15-14-20-15_jpg.rf.5cb569999db1dc9c450b4f6b5cc03247.txt\n",
            "25-02-15-14-21-26_jpg.rf.23cb9954c347f4a786bf196fe00a3e3b.txt\n",
            "25-02-15-14-23-08_jpg.rf.fbcb25564a7e35c0beb2daafd8b2e46e.txt\n",
            "25-02-15-14-33-22_jpg.rf.0ca4660905ee1dcf42877f742eb7ffcf.txt\n",
            "25-02-15-14-39-53_jpg.rf.f1d774bdc904ced054b8bfdb241b3958.txt\n",
            "25-02-15-14-42-26_jpg.rf.d3e332b694ca456fbcf7e21f6cb82d46.txt\n",
            "25-02-15-14-44-53_jpg.rf.d18528ef8d1d5c54cc450b06608a5020.txt\n",
            "25-02-15-14-47-15_jpg.rf.97220511947e0985230e0647d932c430.txt\n",
            "25-02-15-15-32-02_jpg.rf.80a8dcd0070947005838cda56532877d.txt\n",
            "25-02-15-15-56-19_jpg.rf.80c55cb12db20487dc98bd138c18abd1.txt\n"
          ]
        }
      ]
    },
    {
      "cell_type": "code",
      "source": [
        "import os\n",
        "\n",
        "# Search for any folder with \"cloud\" in its name\n",
        "!find /content -type d -iname \"*cloud*\"\n"
      ],
      "metadata": {
        "colab": {
          "base_uri": "https://localhost:8080/"
        },
        "id": "BifaerIhEAuB",
        "outputId": "e5e39dbe-4f76-43f0-d4d5-caa4704cc998"
      },
      "execution_count": null,
      "outputs": [
        {
          "output_type": "stream",
          "name": "stdout",
          "text": [
            "/content/Cloud-detection-1.0-4\n"
          ]
        }
      ]
    },
    {
      "cell_type": "code",
      "source": [
        "!cat /content/Cloud-detection-1.0-4/data.yaml\n"
      ],
      "metadata": {
        "colab": {
          "base_uri": "https://localhost:8080/"
        },
        "id": "KZCN7KxEEcpr",
        "outputId": "e27172c3-24f6-4d9c-8b2a-bb02c9f77485"
      },
      "execution_count": null,
      "outputs": [
        {
          "output_type": "stream",
          "name": "stdout",
          "text": [
            "names:\n",
            "- cloud\n",
            "- sun\n",
            "nc: 2\n",
            "roboflow:\n",
            "  license: CC BY 4.0\n",
            "  project: cloud-detection-1.0\n",
            "  url: https://universe.roboflow.com/cloud-detection-cvmay/cloud-detection-1.0/dataset/4\n",
            "  version: 4\n",
            "  workspace: cloud-detection-cvmay\n",
            "test: ../test/images\n",
            "train: ../train/images\n",
            "val: ../valid/images\n"
          ]
        }
      ]
    },
    {
      "cell_type": "code",
      "source": [
        "!cat /content/Cloud-detection-1.0-4/train/labels/25-02-15-11-02-25_jpg.rf.41452e9a72f58065948f1c6bad8f8e0e.txt\n"
      ],
      "metadata": {
        "colab": {
          "base_uri": "https://localhost:8080/"
        },
        "id": "N3XtilKmEoHT",
        "outputId": "edc51ccf-3891-4425-e1d1-26e71fd6bbd3"
      },
      "execution_count": null,
      "outputs": [
        {
          "output_type": "stream",
          "name": "stdout",
          "text": [
            "1 0.24375 0.45394736842105265 0.0546875 0.11513157894736842\n",
            "0 0.0109375 0.21710526315789475 0.0203125 0.16776315789473684\n",
            "0 0.0265625 0.506578947368421 0.053125 0.3256578947368421\n",
            "0 0.05 0.9473684210526315 0.046875 0.10526315789473684\n",
            "0 0.4625 0.8980263157894737 0.0921875 0.14802631578947367\n",
            "0 0.596875 0.9210526315789473 0.140625 0.15789473684210525\n",
            "0 0.934375 0.9342105263157895 0.05625 0.13157894736842105\n",
            "0 0.765625 0.13815789473684212 0.0546875 0.2730263157894737\n",
            "0 0.6078125 0.1118421052631579 0.2578125 0.22039473684210525"
          ]
        }
      ]
    },
    {
      "cell_type": "code",
      "source": [
        "!pip install ultralytics"
      ],
      "metadata": {
        "colab": {
          "base_uri": "https://localhost:8080/"
        },
        "collapsed": true,
        "id": "mw1DsRAWF6ih",
        "outputId": "ed2ddd29-6333-495b-e1ad-ee1e3f09101a"
      },
      "execution_count": null,
      "outputs": [
        {
          "output_type": "stream",
          "name": "stdout",
          "text": [
            "Requirement already satisfied: ultralytics in /usr/local/lib/python3.11/dist-packages (8.3.76)\n",
            "Requirement already satisfied: numpy<=2.1.1,>=1.23.0 in /usr/local/lib/python3.11/dist-packages (from ultralytics) (1.26.4)\n",
            "Requirement already satisfied: matplotlib>=3.3.0 in /usr/local/lib/python3.11/dist-packages (from ultralytics) (3.10.0)\n",
            "Requirement already satisfied: opencv-python>=4.6.0 in /usr/local/lib/python3.11/dist-packages (from ultralytics) (4.11.0.86)\n",
            "Requirement already satisfied: pillow>=7.1.2 in /usr/local/lib/python3.11/dist-packages (from ultralytics) (11.1.0)\n",
            "Requirement already satisfied: pyyaml>=5.3.1 in /usr/local/lib/python3.11/dist-packages (from ultralytics) (6.0.2)\n",
            "Requirement already satisfied: requests>=2.23.0 in /usr/local/lib/python3.11/dist-packages (from ultralytics) (2.32.3)\n",
            "Requirement already satisfied: scipy>=1.4.1 in /usr/local/lib/python3.11/dist-packages (from ultralytics) (1.13.1)\n",
            "Requirement already satisfied: torch>=1.8.0 in /usr/local/lib/python3.11/dist-packages (from ultralytics) (2.5.1+cu124)\n",
            "Requirement already satisfied: torchvision>=0.9.0 in /usr/local/lib/python3.11/dist-packages (from ultralytics) (0.20.1+cu124)\n",
            "Requirement already satisfied: tqdm>=4.64.0 in /usr/local/lib/python3.11/dist-packages (from ultralytics) (4.67.1)\n",
            "Requirement already satisfied: psutil in /usr/local/lib/python3.11/dist-packages (from ultralytics) (5.9.5)\n",
            "Requirement already satisfied: py-cpuinfo in /usr/local/lib/python3.11/dist-packages (from ultralytics) (9.0.0)\n",
            "Requirement already satisfied: pandas>=1.1.4 in /usr/local/lib/python3.11/dist-packages (from ultralytics) (2.2.2)\n",
            "Requirement already satisfied: seaborn>=0.11.0 in /usr/local/lib/python3.11/dist-packages (from ultralytics) (0.13.2)\n",
            "Requirement already satisfied: ultralytics-thop>=2.0.0 in /usr/local/lib/python3.11/dist-packages (from ultralytics) (2.0.14)\n",
            "Requirement already satisfied: contourpy>=1.0.1 in /usr/local/lib/python3.11/dist-packages (from matplotlib>=3.3.0->ultralytics) (1.3.1)\n",
            "Requirement already satisfied: cycler>=0.10 in /usr/local/lib/python3.11/dist-packages (from matplotlib>=3.3.0->ultralytics) (0.12.1)\n",
            "Requirement already satisfied: fonttools>=4.22.0 in /usr/local/lib/python3.11/dist-packages (from matplotlib>=3.3.0->ultralytics) (4.56.0)\n",
            "Requirement already satisfied: kiwisolver>=1.3.1 in /usr/local/lib/python3.11/dist-packages (from matplotlib>=3.3.0->ultralytics) (1.4.8)\n",
            "Requirement already satisfied: packaging>=20.0 in /usr/local/lib/python3.11/dist-packages (from matplotlib>=3.3.0->ultralytics) (24.2)\n",
            "Requirement already satisfied: pyparsing>=2.3.1 in /usr/local/lib/python3.11/dist-packages (from matplotlib>=3.3.0->ultralytics) (3.2.1)\n",
            "Requirement already satisfied: python-dateutil>=2.7 in /usr/local/lib/python3.11/dist-packages (from matplotlib>=3.3.0->ultralytics) (2.8.2)\n",
            "Requirement already satisfied: pytz>=2020.1 in /usr/local/lib/python3.11/dist-packages (from pandas>=1.1.4->ultralytics) (2025.1)\n",
            "Requirement already satisfied: tzdata>=2022.7 in /usr/local/lib/python3.11/dist-packages (from pandas>=1.1.4->ultralytics) (2025.1)\n",
            "Requirement already satisfied: charset-normalizer<4,>=2 in /usr/local/lib/python3.11/dist-packages (from requests>=2.23.0->ultralytics) (3.4.1)\n",
            "Requirement already satisfied: idna<4,>=2.5 in /usr/local/lib/python3.11/dist-packages (from requests>=2.23.0->ultralytics) (3.7)\n",
            "Requirement already satisfied: urllib3<3,>=1.21.1 in /usr/local/lib/python3.11/dist-packages (from requests>=2.23.0->ultralytics) (2.3.0)\n",
            "Requirement already satisfied: certifi>=2017.4.17 in /usr/local/lib/python3.11/dist-packages (from requests>=2.23.0->ultralytics) (2025.1.31)\n",
            "Requirement already satisfied: filelock in /usr/local/lib/python3.11/dist-packages (from torch>=1.8.0->ultralytics) (3.17.0)\n",
            "Requirement already satisfied: typing-extensions>=4.8.0 in /usr/local/lib/python3.11/dist-packages (from torch>=1.8.0->ultralytics) (4.12.2)\n",
            "Requirement already satisfied: networkx in /usr/local/lib/python3.11/dist-packages (from torch>=1.8.0->ultralytics) (3.4.2)\n",
            "Requirement already satisfied: jinja2 in /usr/local/lib/python3.11/dist-packages (from torch>=1.8.0->ultralytics) (3.1.5)\n",
            "Requirement already satisfied: fsspec in /usr/local/lib/python3.11/dist-packages (from torch>=1.8.0->ultralytics) (2024.10.0)\n",
            "Requirement already satisfied: nvidia-cuda-nvrtc-cu12==12.4.127 in /usr/local/lib/python3.11/dist-packages (from torch>=1.8.0->ultralytics) (12.4.127)\n",
            "Requirement already satisfied: nvidia-cuda-runtime-cu12==12.4.127 in /usr/local/lib/python3.11/dist-packages (from torch>=1.8.0->ultralytics) (12.4.127)\n",
            "Requirement already satisfied: nvidia-cuda-cupti-cu12==12.4.127 in /usr/local/lib/python3.11/dist-packages (from torch>=1.8.0->ultralytics) (12.4.127)\n",
            "Requirement already satisfied: nvidia-cudnn-cu12==9.1.0.70 in /usr/local/lib/python3.11/dist-packages (from torch>=1.8.0->ultralytics) (9.1.0.70)\n",
            "Requirement already satisfied: nvidia-cublas-cu12==12.4.5.8 in /usr/local/lib/python3.11/dist-packages (from torch>=1.8.0->ultralytics) (12.4.5.8)\n",
            "Requirement already satisfied: nvidia-cufft-cu12==11.2.1.3 in /usr/local/lib/python3.11/dist-packages (from torch>=1.8.0->ultralytics) (11.2.1.3)\n",
            "Requirement already satisfied: nvidia-curand-cu12==10.3.5.147 in /usr/local/lib/python3.11/dist-packages (from torch>=1.8.0->ultralytics) (10.3.5.147)\n",
            "Requirement already satisfied: nvidia-cusolver-cu12==11.6.1.9 in /usr/local/lib/python3.11/dist-packages (from torch>=1.8.0->ultralytics) (11.6.1.9)\n",
            "Requirement already satisfied: nvidia-cusparse-cu12==12.3.1.170 in /usr/local/lib/python3.11/dist-packages (from torch>=1.8.0->ultralytics) (12.3.1.170)\n",
            "Requirement already satisfied: nvidia-nccl-cu12==2.21.5 in /usr/local/lib/python3.11/dist-packages (from torch>=1.8.0->ultralytics) (2.21.5)\n",
            "Requirement already satisfied: nvidia-nvtx-cu12==12.4.127 in /usr/local/lib/python3.11/dist-packages (from torch>=1.8.0->ultralytics) (12.4.127)\n",
            "Requirement already satisfied: nvidia-nvjitlink-cu12==12.4.127 in /usr/local/lib/python3.11/dist-packages (from torch>=1.8.0->ultralytics) (12.4.127)\n",
            "Requirement already satisfied: triton==3.1.0 in /usr/local/lib/python3.11/dist-packages (from torch>=1.8.0->ultralytics) (3.1.0)\n",
            "Requirement already satisfied: sympy==1.13.1 in /usr/local/lib/python3.11/dist-packages (from torch>=1.8.0->ultralytics) (1.13.1)\n",
            "Requirement already satisfied: mpmath<1.4,>=1.1.0 in /usr/local/lib/python3.11/dist-packages (from sympy==1.13.1->torch>=1.8.0->ultralytics) (1.3.0)\n",
            "Requirement already satisfied: six>=1.5 in /usr/local/lib/python3.11/dist-packages (from python-dateutil>=2.7->matplotlib>=3.3.0->ultralytics) (1.17.0)\n",
            "Requirement already satisfied: MarkupSafe>=2.0 in /usr/local/lib/python3.11/dist-packages (from jinja2->torch>=1.8.0->ultralytics) (3.0.2)\n"
          ]
        }
      ]
    },
    {
      "cell_type": "code",
      "source": [
        "import torch\n",
        "from ultralytics import YOLO\n",
        "\n",
        "\n",
        "# Load YOLOv8 model (use a pre-trained model for transfer learning)\n",
        "model = YOLO(\"yolov8n.pt\")  # \"yolov8n.pt\" is the smallest model, you can use \"yolov8s.pt\" or \"yolov8m.pt\"\n",
        "\n",
        "# Train the model on your dataset\n",
        "results = model.train(data=\"/content/Cloud-detection-1.0-4/data.yaml\",  # Path to data.yaml\n",
        "                      epochs=50,   # Number of training epochs (adjust as needed)\n",
        "                      imgsz=640,   # Image size for training\n",
        "                      batch=8,     # Batch size (adjust based on GPU memory)\n",
        "                      workers=2,   # Number of data-loading workers\n",
        "                      device=\"cuda\" if torch.cuda.is_available() else \"cpu\")  # Use GPU if available\n"
      ],
      "metadata": {
        "colab": {
          "base_uri": "https://localhost:8080/"
        },
        "id": "6DB05UoaF8xX",
        "outputId": "0323e48c-7044-4465-e461-5de60708030e"
      },
      "execution_count": null,
      "outputs": [
        {
          "output_type": "stream",
          "name": "stdout",
          "text": [
            "Ultralytics 8.3.76 🚀 Python-3.11.11 torch-2.5.1+cu124 CUDA:0 (Tesla T4, 15095MiB)\n",
            "\u001b[34m\u001b[1mengine/trainer: \u001b[0mtask=detect, mode=train, model=yolov8n.pt, data=/content/Cloud-detection-1.0-4/data.yaml, epochs=50, time=None, patience=100, batch=8, imgsz=640, save=True, save_period=-1, cache=False, device=cuda, workers=2, project=None, name=train3, exist_ok=False, pretrained=True, optimizer=auto, verbose=True, seed=0, deterministic=True, single_cls=False, rect=False, cos_lr=False, close_mosaic=10, resume=False, amp=True, fraction=1.0, profile=False, freeze=None, multi_scale=False, overlap_mask=True, mask_ratio=4, dropout=0.0, val=True, split=val, save_json=False, save_hybrid=False, conf=None, iou=0.7, max_det=300, half=False, dnn=False, plots=True, source=None, vid_stride=1, stream_buffer=False, visualize=False, augment=False, agnostic_nms=False, classes=None, retina_masks=False, embed=None, show=False, save_frames=False, save_txt=False, save_conf=False, save_crop=False, show_labels=True, show_conf=True, show_boxes=True, line_width=None, format=torchscript, keras=False, optimize=False, int8=False, dynamic=False, simplify=True, opset=None, workspace=None, nms=False, lr0=0.01, lrf=0.01, momentum=0.937, weight_decay=0.0005, warmup_epochs=3.0, warmup_momentum=0.8, warmup_bias_lr=0.1, box=7.5, cls=0.5, dfl=1.5, pose=12.0, kobj=1.0, nbs=64, hsv_h=0.015, hsv_s=0.7, hsv_v=0.4, degrees=0.0, translate=0.1, scale=0.5, shear=0.0, perspective=0.0, flipud=0.0, fliplr=0.5, bgr=0.0, mosaic=1.0, mixup=0.0, copy_paste=0.0, copy_paste_mode=flip, auto_augment=randaugment, erasing=0.4, crop_fraction=1.0, cfg=None, tracker=botsort.yaml, save_dir=runs/detect/train3\n",
            "Overriding model.yaml nc=80 with nc=2\n",
            "\n",
            "                   from  n    params  module                                       arguments                     \n",
            "  0                  -1  1       464  ultralytics.nn.modules.conv.Conv             [3, 16, 3, 2]                 \n",
            "  1                  -1  1      4672  ultralytics.nn.modules.conv.Conv             [16, 32, 3, 2]                \n",
            "  2                  -1  1      7360  ultralytics.nn.modules.block.C2f             [32, 32, 1, True]             \n",
            "  3                  -1  1     18560  ultralytics.nn.modules.conv.Conv             [32, 64, 3, 2]                \n",
            "  4                  -1  2     49664  ultralytics.nn.modules.block.C2f             [64, 64, 2, True]             \n",
            "  5                  -1  1     73984  ultralytics.nn.modules.conv.Conv             [64, 128, 3, 2]               \n",
            "  6                  -1  2    197632  ultralytics.nn.modules.block.C2f             [128, 128, 2, True]           \n",
            "  7                  -1  1    295424  ultralytics.nn.modules.conv.Conv             [128, 256, 3, 2]              \n",
            "  8                  -1  1    460288  ultralytics.nn.modules.block.C2f             [256, 256, 1, True]           \n",
            "  9                  -1  1    164608  ultralytics.nn.modules.block.SPPF            [256, 256, 5]                 \n",
            " 10                  -1  1         0  torch.nn.modules.upsampling.Upsample         [None, 2, 'nearest']          \n",
            " 11             [-1, 6]  1         0  ultralytics.nn.modules.conv.Concat           [1]                           \n",
            " 12                  -1  1    148224  ultralytics.nn.modules.block.C2f             [384, 128, 1]                 \n",
            " 13                  -1  1         0  torch.nn.modules.upsampling.Upsample         [None, 2, 'nearest']          \n",
            " 14             [-1, 4]  1         0  ultralytics.nn.modules.conv.Concat           [1]                           \n",
            " 15                  -1  1     37248  ultralytics.nn.modules.block.C2f             [192, 64, 1]                  \n",
            " 16                  -1  1     36992  ultralytics.nn.modules.conv.Conv             [64, 64, 3, 2]                \n",
            " 17            [-1, 12]  1         0  ultralytics.nn.modules.conv.Concat           [1]                           \n",
            " 18                  -1  1    123648  ultralytics.nn.modules.block.C2f             [192, 128, 1]                 \n",
            " 19                  -1  1    147712  ultralytics.nn.modules.conv.Conv             [128, 128, 3, 2]              \n",
            " 20             [-1, 9]  1         0  ultralytics.nn.modules.conv.Concat           [1]                           \n",
            " 21                  -1  1    493056  ultralytics.nn.modules.block.C2f             [384, 256, 1]                 \n",
            " 22        [15, 18, 21]  1    751702  ultralytics.nn.modules.head.Detect           [2, [64, 128, 256]]           \n",
            "Model summary: 129 layers, 3,011,238 parameters, 3,011,222 gradients, 8.2 GFLOPs\n",
            "\n",
            "Transferred 319/355 items from pretrained weights\n",
            "\u001b[34m\u001b[1mTensorBoard: \u001b[0mStart with 'tensorboard --logdir runs/detect/train3', view at http://localhost:6006/\n",
            "Freezing layer 'model.22.dfl.conv.weight'\n",
            "\u001b[34m\u001b[1mAMP: \u001b[0mrunning Automatic Mixed Precision (AMP) checks...\n",
            "\u001b[34m\u001b[1mAMP: \u001b[0mchecks passed ✅\n"
          ]
        },
        {
          "output_type": "stream",
          "name": "stderr",
          "text": [
            "\u001b[34m\u001b[1mtrain: \u001b[0mScanning /content/Cloud-detection-1.0-4/train/labels.cache... 566 images, 12 backgrounds, 0 corrupt: 100%|██████████| 566/566 [00:00<?, ?it/s]\n"
          ]
        },
        {
          "output_type": "stream",
          "name": "stdout",
          "text": [
            "\u001b[34m\u001b[1malbumentations: \u001b[0mBlur(p=0.01, blur_limit=(3, 7)), MedianBlur(p=0.01, blur_limit=(3, 7)), ToGray(p=0.01, num_output_channels=3, method='weighted_average'), CLAHE(p=0.01, clip_limit=(1.0, 4.0), tile_grid_size=(8, 8))\n"
          ]
        },
        {
          "output_type": "stream",
          "name": "stderr",
          "text": [
            "\u001b[34m\u001b[1mval: \u001b[0mScanning /content/Cloud-detection-1.0-4/valid/labels.cache... 49 images, 2 backgrounds, 0 corrupt: 100%|██████████| 49/49 [00:00<?, ?it/s]\n"
          ]
        },
        {
          "output_type": "stream",
          "name": "stdout",
          "text": [
            "Plotting labels to runs/detect/train3/labels.jpg... \n",
            "\u001b[34m\u001b[1moptimizer:\u001b[0m 'optimizer=auto' found, ignoring 'lr0=0.01' and 'momentum=0.937' and determining best 'optimizer', 'lr0' and 'momentum' automatically... \n",
            "\u001b[34m\u001b[1moptimizer:\u001b[0m AdamW(lr=0.001667, momentum=0.9) with parameter groups 57 weight(decay=0.0), 64 weight(decay=0.0005), 63 bias(decay=0.0)\n",
            "\u001b[34m\u001b[1mTensorBoard: \u001b[0mmodel graph visualization added ✅\n",
            "Image sizes 640 train, 640 val\n",
            "Using 2 dataloader workers\n",
            "Logging results to \u001b[1mruns/detect/train3\u001b[0m\n",
            "Starting training for 50 epochs...\n",
            "\n",
            "      Epoch    GPU_mem   box_loss   cls_loss   dfl_loss  Instances       Size\n"
          ]
        },
        {
          "output_type": "stream",
          "name": "stderr",
          "text": [
            "       1/50      1.08G      1.454      2.693      1.201         23        640: 100%|██████████| 71/71 [00:12<00:00,  5.80it/s]\n",
            "                 Class     Images  Instances      Box(P          R      mAP50  mAP50-95): 100%|██████████| 4/4 [00:00<00:00,  5.19it/s]"
          ]
        },
        {
          "output_type": "stream",
          "name": "stdout",
          "text": [
            "                   all         49        101      0.957      0.121      0.667      0.435\n"
          ]
        },
        {
          "output_type": "stream",
          "name": "stderr",
          "text": [
            "\n"
          ]
        },
        {
          "output_type": "stream",
          "name": "stdout",
          "text": [
            "\n",
            "      Epoch    GPU_mem   box_loss   cls_loss   dfl_loss  Instances       Size\n"
          ]
        },
        {
          "output_type": "stream",
          "name": "stderr",
          "text": [
            "       2/50      1.12G      1.424      1.771      1.163         23        640: 100%|██████████| 71/71 [00:10<00:00,  6.58it/s]\n",
            "                 Class     Images  Instances      Box(P          R      mAP50  mAP50-95): 100%|██████████| 4/4 [00:00<00:00,  6.09it/s]"
          ]
        },
        {
          "output_type": "stream",
          "name": "stdout",
          "text": [
            "                   all         49        101      0.655      0.718      0.793      0.453\n"
          ]
        },
        {
          "output_type": "stream",
          "name": "stderr",
          "text": [
            "\n"
          ]
        },
        {
          "output_type": "stream",
          "name": "stdout",
          "text": [
            "\n",
            "      Epoch    GPU_mem   box_loss   cls_loss   dfl_loss  Instances       Size\n"
          ]
        },
        {
          "output_type": "stream",
          "name": "stderr",
          "text": [
            "       3/50      1.06G      1.345      1.542      1.128         26        640: 100%|██████████| 71/71 [00:10<00:00,  7.00it/s]\n",
            "                 Class     Images  Instances      Box(P          R      mAP50  mAP50-95): 100%|██████████| 4/4 [00:00<00:00,  8.07it/s]\n"
          ]
        },
        {
          "output_type": "stream",
          "name": "stdout",
          "text": [
            "                   all         49        101       0.75      0.778      0.798       0.43\n",
            "\n",
            "      Epoch    GPU_mem   box_loss   cls_loss   dfl_loss  Instances       Size\n"
          ]
        },
        {
          "output_type": "stream",
          "name": "stderr",
          "text": [
            "       4/50      1.06G      1.301       1.42      1.111         19        640: 100%|██████████| 71/71 [00:10<00:00,  6.70it/s]\n",
            "                 Class     Images  Instances      Box(P          R      mAP50  mAP50-95): 100%|██████████| 4/4 [00:00<00:00, 12.72it/s]"
          ]
        },
        {
          "output_type": "stream",
          "name": "stdout",
          "text": [
            "                   all         49        101      0.832      0.811      0.847      0.518\n"
          ]
        },
        {
          "output_type": "stream",
          "name": "stderr",
          "text": [
            "\n"
          ]
        },
        {
          "output_type": "stream",
          "name": "stdout",
          "text": [
            "\n",
            "      Epoch    GPU_mem   box_loss   cls_loss   dfl_loss  Instances       Size\n"
          ]
        },
        {
          "output_type": "stream",
          "name": "stderr",
          "text": [
            "       5/50      1.06G      1.302      1.367      1.113         20        640: 100%|██████████| 71/71 [00:11<00:00,  6.37it/s]\n",
            "                 Class     Images  Instances      Box(P          R      mAP50  mAP50-95): 100%|██████████| 4/4 [00:00<00:00, 11.46it/s]"
          ]
        },
        {
          "output_type": "stream",
          "name": "stdout",
          "text": [
            "                   all         49        101      0.901      0.844      0.915       0.58\n"
          ]
        },
        {
          "output_type": "stream",
          "name": "stderr",
          "text": [
            "\n"
          ]
        },
        {
          "output_type": "stream",
          "name": "stdout",
          "text": [
            "\n",
            "      Epoch    GPU_mem   box_loss   cls_loss   dfl_loss  Instances       Size\n"
          ]
        },
        {
          "output_type": "stream",
          "name": "stderr",
          "text": [
            "       6/50       1.1G      1.272      1.237      1.092         27        640: 100%|██████████| 71/71 [00:11<00:00,  6.39it/s]\n",
            "                 Class     Images  Instances      Box(P          R      mAP50  mAP50-95): 100%|██████████| 4/4 [00:00<00:00, 11.14it/s]"
          ]
        },
        {
          "output_type": "stream",
          "name": "stdout",
          "text": [
            "                   all         49        101      0.901      0.821      0.904      0.573\n"
          ]
        },
        {
          "output_type": "stream",
          "name": "stderr",
          "text": [
            "\n"
          ]
        },
        {
          "output_type": "stream",
          "name": "stdout",
          "text": [
            "\n",
            "      Epoch    GPU_mem   box_loss   cls_loss   dfl_loss  Instances       Size\n"
          ]
        },
        {
          "output_type": "stream",
          "name": "stderr",
          "text": [
            "       7/50      1.06G      1.254      1.207      1.097         47        640: 100%|██████████| 71/71 [00:11<00:00,  6.01it/s]\n",
            "                 Class     Images  Instances      Box(P          R      mAP50  mAP50-95): 100%|██████████| 4/4 [00:00<00:00, 12.81it/s]"
          ]
        },
        {
          "output_type": "stream",
          "name": "stdout",
          "text": [
            "                   all         49        101      0.911      0.866      0.901      0.545\n"
          ]
        },
        {
          "output_type": "stream",
          "name": "stderr",
          "text": [
            "\n"
          ]
        },
        {
          "output_type": "stream",
          "name": "stdout",
          "text": [
            "\n",
            "      Epoch    GPU_mem   box_loss   cls_loss   dfl_loss  Instances       Size\n"
          ]
        },
        {
          "output_type": "stream",
          "name": "stderr",
          "text": [
            "       8/50      1.12G      1.187      1.127      1.076         19        640: 100%|██████████| 71/71 [00:11<00:00,  6.32it/s]\n",
            "                 Class     Images  Instances      Box(P          R      mAP50  mAP50-95): 100%|██████████| 4/4 [00:00<00:00, 13.20it/s]"
          ]
        },
        {
          "output_type": "stream",
          "name": "stdout",
          "text": [
            "                   all         49        101       0.86      0.738      0.856      0.551\n"
          ]
        },
        {
          "output_type": "stream",
          "name": "stderr",
          "text": [
            "\n"
          ]
        },
        {
          "output_type": "stream",
          "name": "stdout",
          "text": [
            "\n",
            "      Epoch    GPU_mem   box_loss   cls_loss   dfl_loss  Instances       Size\n"
          ]
        },
        {
          "output_type": "stream",
          "name": "stderr",
          "text": [
            "       9/50      1.06G      1.169      1.069      1.065         20        640: 100%|██████████| 71/71 [00:11<00:00,  6.39it/s]\n",
            "                 Class     Images  Instances      Box(P          R      mAP50  mAP50-95): 100%|██████████| 4/4 [00:00<00:00, 12.70it/s]"
          ]
        },
        {
          "output_type": "stream",
          "name": "stdout",
          "text": [
            "                   all         49        101      0.886      0.843      0.908        0.6\n"
          ]
        },
        {
          "output_type": "stream",
          "name": "stderr",
          "text": [
            "\n"
          ]
        },
        {
          "output_type": "stream",
          "name": "stdout",
          "text": [
            "\n",
            "      Epoch    GPU_mem   box_loss   cls_loss   dfl_loss  Instances       Size\n"
          ]
        },
        {
          "output_type": "stream",
          "name": "stderr",
          "text": [
            "      10/50      1.06G      1.146       1.08      1.064         17        640: 100%|██████████| 71/71 [00:11<00:00,  6.33it/s]\n",
            "                 Class     Images  Instances      Box(P          R      mAP50  mAP50-95): 100%|██████████| 4/4 [00:00<00:00, 11.27it/s]"
          ]
        },
        {
          "output_type": "stream",
          "name": "stdout",
          "text": [
            "                   all         49        101      0.727      0.789      0.803      0.535\n"
          ]
        },
        {
          "output_type": "stream",
          "name": "stderr",
          "text": [
            "\n"
          ]
        },
        {
          "output_type": "stream",
          "name": "stdout",
          "text": [
            "\n",
            "      Epoch    GPU_mem   box_loss   cls_loss   dfl_loss  Instances       Size\n"
          ]
        },
        {
          "output_type": "stream",
          "name": "stderr",
          "text": [
            "      11/50      1.06G      1.179      1.045      1.065         22        640: 100%|██████████| 71/71 [00:11<00:00,  6.43it/s]\n",
            "                 Class     Images  Instances      Box(P          R      mAP50  mAP50-95): 100%|██████████| 4/4 [00:00<00:00, 10.94it/s]"
          ]
        },
        {
          "output_type": "stream",
          "name": "stdout",
          "text": [
            "                   all         49        101       0.88      0.854      0.876      0.591\n"
          ]
        },
        {
          "output_type": "stream",
          "name": "stderr",
          "text": [
            "\n"
          ]
        },
        {
          "output_type": "stream",
          "name": "stdout",
          "text": [
            "\n",
            "      Epoch    GPU_mem   box_loss   cls_loss   dfl_loss  Instances       Size\n"
          ]
        },
        {
          "output_type": "stream",
          "name": "stderr",
          "text": [
            "      12/50      1.06G      1.178       1.02      1.075         34        640: 100%|██████████| 71/71 [00:11<00:00,  6.30it/s]\n",
            "                 Class     Images  Instances      Box(P          R      mAP50  mAP50-95): 100%|██████████| 4/4 [00:00<00:00, 11.06it/s]"
          ]
        },
        {
          "output_type": "stream",
          "name": "stdout",
          "text": [
            "                   all         49        101      0.875      0.834      0.896      0.608\n"
          ]
        },
        {
          "output_type": "stream",
          "name": "stderr",
          "text": [
            "\n"
          ]
        },
        {
          "output_type": "stream",
          "name": "stdout",
          "text": [
            "\n",
            "      Epoch    GPU_mem   box_loss   cls_loss   dfl_loss  Instances       Size\n"
          ]
        },
        {
          "output_type": "stream",
          "name": "stderr",
          "text": [
            "      13/50      1.06G      1.086     0.9643      1.026         24        640: 100%|██████████| 71/71 [00:11<00:00,  6.37it/s]\n",
            "                 Class     Images  Instances      Box(P          R      mAP50  mAP50-95): 100%|██████████| 4/4 [00:00<00:00, 13.36it/s]"
          ]
        },
        {
          "output_type": "stream",
          "name": "stdout",
          "text": [
            "                   all         49        101      0.906      0.826      0.905      0.604\n"
          ]
        },
        {
          "output_type": "stream",
          "name": "stderr",
          "text": [
            "\n"
          ]
        },
        {
          "output_type": "stream",
          "name": "stdout",
          "text": [
            "\n",
            "      Epoch    GPU_mem   box_loss   cls_loss   dfl_loss  Instances       Size\n"
          ]
        },
        {
          "output_type": "stream",
          "name": "stderr",
          "text": [
            "      14/50      1.06G      1.099     0.9318      1.022         23        640: 100%|██████████| 71/71 [00:11<00:00,  6.37it/s]\n",
            "                 Class     Images  Instances      Box(P          R      mAP50  mAP50-95): 100%|██████████| 4/4 [00:00<00:00, 11.81it/s]"
          ]
        },
        {
          "output_type": "stream",
          "name": "stdout",
          "text": [
            "                   all         49        101      0.946       0.82      0.909      0.621\n"
          ]
        },
        {
          "output_type": "stream",
          "name": "stderr",
          "text": [
            "\n"
          ]
        },
        {
          "output_type": "stream",
          "name": "stdout",
          "text": [
            "\n",
            "      Epoch    GPU_mem   box_loss   cls_loss   dfl_loss  Instances       Size\n"
          ]
        },
        {
          "output_type": "stream",
          "name": "stderr",
          "text": [
            "      15/50      1.06G      1.121     0.9892      1.048         41        640: 100%|██████████| 71/71 [00:11<00:00,  6.36it/s]\n",
            "                 Class     Images  Instances      Box(P          R      mAP50  mAP50-95): 100%|██████████| 4/4 [00:00<00:00, 12.48it/s]"
          ]
        },
        {
          "output_type": "stream",
          "name": "stdout",
          "text": [
            "                   all         49        101      0.939      0.833      0.909      0.614\n"
          ]
        },
        {
          "output_type": "stream",
          "name": "stderr",
          "text": [
            "\n"
          ]
        },
        {
          "output_type": "stream",
          "name": "stdout",
          "text": [
            "\n",
            "      Epoch    GPU_mem   box_loss   cls_loss   dfl_loss  Instances       Size\n"
          ]
        },
        {
          "output_type": "stream",
          "name": "stderr",
          "text": [
            "      16/50      1.06G      1.115     0.9493      1.035         26        640: 100%|██████████| 71/71 [00:11<00:00,  6.44it/s]\n",
            "                 Class     Images  Instances      Box(P          R      mAP50  mAP50-95): 100%|██████████| 4/4 [00:00<00:00, 13.17it/s]"
          ]
        },
        {
          "output_type": "stream",
          "name": "stdout",
          "text": [
            "                   all         49        101      0.918      0.873      0.919      0.617\n"
          ]
        },
        {
          "output_type": "stream",
          "name": "stderr",
          "text": [
            "\n"
          ]
        },
        {
          "output_type": "stream",
          "name": "stdout",
          "text": [
            "\n",
            "      Epoch    GPU_mem   box_loss   cls_loss   dfl_loss  Instances       Size\n"
          ]
        },
        {
          "output_type": "stream",
          "name": "stderr",
          "text": [
            "      17/50      1.06G      1.071     0.9055       1.01         31        640: 100%|██████████| 71/71 [00:11<00:00,  6.39it/s]\n",
            "                 Class     Images  Instances      Box(P          R      mAP50  mAP50-95): 100%|██████████| 4/4 [00:00<00:00,  9.34it/s]"
          ]
        },
        {
          "output_type": "stream",
          "name": "stdout",
          "text": [
            "                   all         49        101       0.86      0.818      0.898      0.612\n"
          ]
        },
        {
          "output_type": "stream",
          "name": "stderr",
          "text": [
            "\n"
          ]
        },
        {
          "output_type": "stream",
          "name": "stdout",
          "text": [
            "\n",
            "      Epoch    GPU_mem   box_loss   cls_loss   dfl_loss  Instances       Size\n"
          ]
        },
        {
          "output_type": "stream",
          "name": "stderr",
          "text": [
            "      18/50      1.06G      1.066     0.9313      1.012         36        640: 100%|██████████| 71/71 [00:10<00:00,  6.76it/s]\n",
            "                 Class     Images  Instances      Box(P          R      mAP50  mAP50-95): 100%|██████████| 4/4 [00:00<00:00,  8.75it/s]"
          ]
        },
        {
          "output_type": "stream",
          "name": "stdout",
          "text": [
            "                   all         49        101      0.923      0.829       0.91      0.615\n"
          ]
        },
        {
          "output_type": "stream",
          "name": "stderr",
          "text": [
            "\n"
          ]
        },
        {
          "output_type": "stream",
          "name": "stdout",
          "text": [
            "\n",
            "      Epoch    GPU_mem   box_loss   cls_loss   dfl_loss  Instances       Size\n"
          ]
        },
        {
          "output_type": "stream",
          "name": "stderr",
          "text": [
            "      19/50       1.1G      1.076     0.9336      1.024         18        640: 100%|██████████| 71/71 [00:10<00:00,  7.03it/s]\n",
            "                 Class     Images  Instances      Box(P          R      mAP50  mAP50-95): 100%|██████████| 4/4 [00:00<00:00,  8.16it/s]\n"
          ]
        },
        {
          "output_type": "stream",
          "name": "stdout",
          "text": [
            "                   all         49        101       0.94      0.835      0.919      0.601\n",
            "\n",
            "      Epoch    GPU_mem   box_loss   cls_loss   dfl_loss  Instances       Size\n"
          ]
        },
        {
          "output_type": "stream",
          "name": "stderr",
          "text": [
            "      20/50      1.06G      1.027     0.8718      0.995         43        640: 100%|██████████| 71/71 [00:10<00:00,  6.71it/s]\n",
            "                 Class     Images  Instances      Box(P          R      mAP50  mAP50-95): 100%|██████████| 4/4 [00:00<00:00, 12.42it/s]"
          ]
        },
        {
          "output_type": "stream",
          "name": "stdout",
          "text": [
            "                   all         49        101      0.952      0.827      0.909       0.64\n"
          ]
        },
        {
          "output_type": "stream",
          "name": "stderr",
          "text": [
            "\n"
          ]
        },
        {
          "output_type": "stream",
          "name": "stdout",
          "text": [
            "\n",
            "      Epoch    GPU_mem   box_loss   cls_loss   dfl_loss  Instances       Size\n"
          ]
        },
        {
          "output_type": "stream",
          "name": "stderr",
          "text": [
            "      21/50      1.06G     0.9672     0.8255     0.9803         30        640: 100%|██████████| 71/71 [00:11<00:00,  6.44it/s]\n",
            "                 Class     Images  Instances      Box(P          R      mAP50  mAP50-95): 100%|██████████| 4/4 [00:00<00:00, 13.04it/s]"
          ]
        },
        {
          "output_type": "stream",
          "name": "stdout",
          "text": [
            "                   all         49        101      0.926      0.813      0.897      0.613\n"
          ]
        },
        {
          "output_type": "stream",
          "name": "stderr",
          "text": [
            "\n"
          ]
        },
        {
          "output_type": "stream",
          "name": "stdout",
          "text": [
            "\n",
            "      Epoch    GPU_mem   box_loss   cls_loss   dfl_loss  Instances       Size\n"
          ]
        },
        {
          "output_type": "stream",
          "name": "stderr",
          "text": [
            "      22/50      1.06G      1.012     0.8411     0.9952         49        640: 100%|██████████| 71/71 [00:11<00:00,  6.37it/s]\n",
            "                 Class     Images  Instances      Box(P          R      mAP50  mAP50-95): 100%|██████████| 4/4 [00:00<00:00, 13.13it/s]"
          ]
        },
        {
          "output_type": "stream",
          "name": "stdout",
          "text": [
            "                   all         49        101       0.88      0.866      0.913      0.634\n"
          ]
        },
        {
          "output_type": "stream",
          "name": "stderr",
          "text": [
            "\n"
          ]
        },
        {
          "output_type": "stream",
          "name": "stdout",
          "text": [
            "\n",
            "      Epoch    GPU_mem   box_loss   cls_loss   dfl_loss  Instances       Size\n"
          ]
        },
        {
          "output_type": "stream",
          "name": "stderr",
          "text": [
            "      23/50      1.06G      1.034     0.8672          1         26        640: 100%|██████████| 71/71 [00:11<00:00,  6.30it/s]\n",
            "                 Class     Images  Instances      Box(P          R      mAP50  mAP50-95): 100%|██████████| 4/4 [00:00<00:00, 12.49it/s]"
          ]
        },
        {
          "output_type": "stream",
          "name": "stdout",
          "text": [
            "                   all         49        101      0.881      0.865      0.898      0.611\n"
          ]
        },
        {
          "output_type": "stream",
          "name": "stderr",
          "text": [
            "\n"
          ]
        },
        {
          "output_type": "stream",
          "name": "stdout",
          "text": [
            "\n",
            "      Epoch    GPU_mem   box_loss   cls_loss   dfl_loss  Instances       Size\n"
          ]
        },
        {
          "output_type": "stream",
          "name": "stderr",
          "text": [
            "      24/50      1.06G     0.9551     0.8101     0.9786         24        640: 100%|██████████| 71/71 [00:11<00:00,  6.37it/s]\n",
            "                 Class     Images  Instances      Box(P          R      mAP50  mAP50-95): 100%|██████████| 4/4 [00:00<00:00, 11.88it/s]"
          ]
        },
        {
          "output_type": "stream",
          "name": "stdout",
          "text": [
            "                   all         49        101      0.931      0.831      0.911      0.631\n"
          ]
        },
        {
          "output_type": "stream",
          "name": "stderr",
          "text": [
            "\n"
          ]
        },
        {
          "output_type": "stream",
          "name": "stdout",
          "text": [
            "\n",
            "      Epoch    GPU_mem   box_loss   cls_loss   dfl_loss  Instances       Size\n"
          ]
        },
        {
          "output_type": "stream",
          "name": "stderr",
          "text": [
            "      25/50      1.06G     0.9823     0.8422     0.9891          8        640: 100%|██████████| 71/71 [00:11<00:00,  6.25it/s]\n",
            "                 Class     Images  Instances      Box(P          R      mAP50  mAP50-95): 100%|██████████| 4/4 [00:00<00:00, 11.94it/s]"
          ]
        },
        {
          "output_type": "stream",
          "name": "stdout",
          "text": [
            "                   all         49        101      0.849      0.836      0.898       0.62\n"
          ]
        },
        {
          "output_type": "stream",
          "name": "stderr",
          "text": [
            "\n"
          ]
        },
        {
          "output_type": "stream",
          "name": "stdout",
          "text": [
            "\n",
            "      Epoch    GPU_mem   box_loss   cls_loss   dfl_loss  Instances       Size\n"
          ]
        },
        {
          "output_type": "stream",
          "name": "stderr",
          "text": [
            "      26/50      1.06G     0.9868     0.8536     0.9825         27        640: 100%|██████████| 71/71 [00:11<00:00,  6.41it/s]\n",
            "                 Class     Images  Instances      Box(P          R      mAP50  mAP50-95): 100%|██████████| 4/4 [00:00<00:00, 11.20it/s]"
          ]
        },
        {
          "output_type": "stream",
          "name": "stdout",
          "text": [
            "                   all         49        101      0.864      0.872      0.902      0.625\n"
          ]
        },
        {
          "output_type": "stream",
          "name": "stderr",
          "text": [
            "\n"
          ]
        },
        {
          "output_type": "stream",
          "name": "stdout",
          "text": [
            "\n",
            "      Epoch    GPU_mem   box_loss   cls_loss   dfl_loss  Instances       Size\n"
          ]
        },
        {
          "output_type": "stream",
          "name": "stderr",
          "text": [
            "      27/50      1.06G     0.9619     0.8313     0.9834         36        640: 100%|██████████| 71/71 [00:11<00:00,  6.36it/s]\n",
            "                 Class     Images  Instances      Box(P          R      mAP50  mAP50-95): 100%|██████████| 4/4 [00:00<00:00, 11.35it/s]"
          ]
        },
        {
          "output_type": "stream",
          "name": "stdout",
          "text": [
            "                   all         49        101      0.878      0.839      0.909      0.647\n"
          ]
        },
        {
          "output_type": "stream",
          "name": "stderr",
          "text": [
            "\n"
          ]
        },
        {
          "output_type": "stream",
          "name": "stdout",
          "text": [
            "\n",
            "      Epoch    GPU_mem   box_loss   cls_loss   dfl_loss  Instances       Size\n"
          ]
        },
        {
          "output_type": "stream",
          "name": "stderr",
          "text": [
            "      28/50      1.07G     0.9649     0.8237     0.9698         22        640: 100%|██████████| 71/71 [00:11<00:00,  6.28it/s]\n",
            "                 Class     Images  Instances      Box(P          R      mAP50  mAP50-95): 100%|██████████| 4/4 [00:00<00:00, 13.26it/s]"
          ]
        },
        {
          "output_type": "stream",
          "name": "stdout",
          "text": [
            "                   all         49        101      0.805      0.844      0.893      0.641\n"
          ]
        },
        {
          "output_type": "stream",
          "name": "stderr",
          "text": [
            "\n"
          ]
        },
        {
          "output_type": "stream",
          "name": "stdout",
          "text": [
            "\n",
            "      Epoch    GPU_mem   box_loss   cls_loss   dfl_loss  Instances       Size\n"
          ]
        },
        {
          "output_type": "stream",
          "name": "stderr",
          "text": [
            "      29/50      1.06G     0.9602      0.824     0.9707         21        640: 100%|██████████| 71/71 [00:11<00:00,  6.28it/s]\n",
            "                 Class     Images  Instances      Box(P          R      mAP50  mAP50-95): 100%|██████████| 4/4 [00:00<00:00, 11.92it/s]"
          ]
        },
        {
          "output_type": "stream",
          "name": "stdout",
          "text": [
            "                   all         49        101       0.86      0.851      0.858      0.613\n"
          ]
        },
        {
          "output_type": "stream",
          "name": "stderr",
          "text": [
            "\n"
          ]
        },
        {
          "output_type": "stream",
          "name": "stdout",
          "text": [
            "\n",
            "      Epoch    GPU_mem   box_loss   cls_loss   dfl_loss  Instances       Size\n"
          ]
        },
        {
          "output_type": "stream",
          "name": "stderr",
          "text": [
            "      30/50      1.06G     0.9332     0.8215      0.965         23        640: 100%|██████████| 71/71 [00:11<00:00,  6.40it/s]\n",
            "                 Class     Images  Instances      Box(P          R      mAP50  mAP50-95): 100%|██████████| 4/4 [00:00<00:00, 12.29it/s]"
          ]
        },
        {
          "output_type": "stream",
          "name": "stdout",
          "text": [
            "                   all         49        101      0.907      0.824      0.888      0.619\n"
          ]
        },
        {
          "output_type": "stream",
          "name": "stderr",
          "text": [
            "\n"
          ]
        },
        {
          "output_type": "stream",
          "name": "stdout",
          "text": [
            "\n",
            "      Epoch    GPU_mem   box_loss   cls_loss   dfl_loss  Instances       Size\n"
          ]
        },
        {
          "output_type": "stream",
          "name": "stderr",
          "text": [
            "      31/50      1.06G     0.9523      0.796     0.9728         18        640: 100%|██████████| 71/71 [00:10<00:00,  6.46it/s]\n",
            "                 Class     Images  Instances      Box(P          R      mAP50  mAP50-95): 100%|██████████| 4/4 [00:00<00:00, 12.47it/s]"
          ]
        },
        {
          "output_type": "stream",
          "name": "stdout",
          "text": [
            "                   all         49        101      0.912      0.831      0.893      0.631\n"
          ]
        },
        {
          "output_type": "stream",
          "name": "stderr",
          "text": [
            "\n"
          ]
        },
        {
          "output_type": "stream",
          "name": "stdout",
          "text": [
            "\n",
            "      Epoch    GPU_mem   box_loss   cls_loss   dfl_loss  Instances       Size\n"
          ]
        },
        {
          "output_type": "stream",
          "name": "stderr",
          "text": [
            "      32/50      1.06G     0.8937     0.7823     0.9488         30        640: 100%|██████████| 71/71 [00:11<00:00,  6.43it/s]\n",
            "                 Class     Images  Instances      Box(P          R      mAP50  mAP50-95): 100%|██████████| 4/4 [00:00<00:00, 11.88it/s]"
          ]
        },
        {
          "output_type": "stream",
          "name": "stdout",
          "text": [
            "                   all         49        101      0.894      0.853      0.904       0.63\n"
          ]
        },
        {
          "output_type": "stream",
          "name": "stderr",
          "text": [
            "\n"
          ]
        },
        {
          "output_type": "stream",
          "name": "stdout",
          "text": [
            "\n",
            "      Epoch    GPU_mem   box_loss   cls_loss   dfl_loss  Instances       Size\n"
          ]
        },
        {
          "output_type": "stream",
          "name": "stderr",
          "text": [
            "      33/50      1.06G     0.9199     0.8072     0.9653         43        640: 100%|██████████| 71/71 [00:11<00:00,  6.44it/s]\n",
            "                 Class     Images  Instances      Box(P          R      mAP50  mAP50-95): 100%|██████████| 4/4 [00:00<00:00,  8.04it/s]"
          ]
        },
        {
          "output_type": "stream",
          "name": "stdout",
          "text": [
            "                   all         49        101      0.897      0.813      0.882      0.609\n"
          ]
        },
        {
          "output_type": "stream",
          "name": "stderr",
          "text": [
            "\n"
          ]
        },
        {
          "output_type": "stream",
          "name": "stdout",
          "text": [
            "\n",
            "      Epoch    GPU_mem   box_loss   cls_loss   dfl_loss  Instances       Size\n"
          ]
        },
        {
          "output_type": "stream",
          "name": "stderr",
          "text": [
            "      34/50      1.06G     0.9277     0.8031      0.956         33        640: 100%|██████████| 71/71 [00:10<00:00,  6.92it/s]\n",
            "                 Class     Images  Instances      Box(P          R      mAP50  mAP50-95): 100%|██████████| 4/4 [00:00<00:00,  7.38it/s]"
          ]
        },
        {
          "output_type": "stream",
          "name": "stdout",
          "text": [
            "                   all         49        101      0.926      0.833      0.913      0.629\n"
          ]
        },
        {
          "output_type": "stream",
          "name": "stderr",
          "text": [
            "\n"
          ]
        },
        {
          "output_type": "stream",
          "name": "stdout",
          "text": [
            "\n",
            "      Epoch    GPU_mem   box_loss   cls_loss   dfl_loss  Instances       Size\n"
          ]
        },
        {
          "output_type": "stream",
          "name": "stderr",
          "text": [
            "      35/50      1.06G     0.9033     0.7609     0.9585         36        640: 100%|██████████| 71/71 [00:10<00:00,  6.91it/s]\n",
            "                 Class     Images  Instances      Box(P          R      mAP50  mAP50-95): 100%|██████████| 4/4 [00:00<00:00,  9.97it/s]"
          ]
        },
        {
          "output_type": "stream",
          "name": "stdout",
          "text": [
            "                   all         49        101      0.903      0.824      0.905       0.63\n"
          ]
        },
        {
          "output_type": "stream",
          "name": "stderr",
          "text": [
            "\n"
          ]
        },
        {
          "output_type": "stream",
          "name": "stdout",
          "text": [
            "\n",
            "      Epoch    GPU_mem   box_loss   cls_loss   dfl_loss  Instances       Size\n"
          ]
        },
        {
          "output_type": "stream",
          "name": "stderr",
          "text": [
            "      36/50      1.06G     0.8865     0.7719     0.9403         27        640: 100%|██████████| 71/71 [00:10<00:00,  6.59it/s]\n",
            "                 Class     Images  Instances      Box(P          R      mAP50  mAP50-95): 100%|██████████| 4/4 [00:00<00:00, 11.65it/s]"
          ]
        },
        {
          "output_type": "stream",
          "name": "stdout",
          "text": [
            "                   all         49        101      0.939      0.792      0.903      0.622\n"
          ]
        },
        {
          "output_type": "stream",
          "name": "stderr",
          "text": [
            "\n"
          ]
        },
        {
          "output_type": "stream",
          "name": "stdout",
          "text": [
            "\n",
            "      Epoch    GPU_mem   box_loss   cls_loss   dfl_loss  Instances       Size\n"
          ]
        },
        {
          "output_type": "stream",
          "name": "stderr",
          "text": [
            "      37/50      1.06G     0.8491     0.7624     0.9409         22        640: 100%|██████████| 71/71 [00:11<00:00,  6.43it/s]\n",
            "                 Class     Images  Instances      Box(P          R      mAP50  mAP50-95): 100%|██████████| 4/4 [00:00<00:00, 12.16it/s]"
          ]
        },
        {
          "output_type": "stream",
          "name": "stdout",
          "text": [
            "                   all         49        101      0.966       0.81      0.907       0.65\n"
          ]
        },
        {
          "output_type": "stream",
          "name": "stderr",
          "text": [
            "\n"
          ]
        },
        {
          "output_type": "stream",
          "name": "stdout",
          "text": [
            "\n",
            "      Epoch    GPU_mem   box_loss   cls_loss   dfl_loss  Instances       Size\n"
          ]
        },
        {
          "output_type": "stream",
          "name": "stderr",
          "text": [
            "      38/50      1.06G     0.8576     0.7313     0.9415         16        640: 100%|██████████| 71/71 [00:11<00:00,  6.37it/s]\n",
            "                 Class     Images  Instances      Box(P          R      mAP50  mAP50-95): 100%|██████████| 4/4 [00:00<00:00, 11.72it/s]"
          ]
        },
        {
          "output_type": "stream",
          "name": "stdout",
          "text": [
            "                   all         49        101      0.927      0.831      0.906      0.651\n"
          ]
        },
        {
          "output_type": "stream",
          "name": "stderr",
          "text": [
            "\n"
          ]
        },
        {
          "output_type": "stream",
          "name": "stdout",
          "text": [
            "\n",
            "      Epoch    GPU_mem   box_loss   cls_loss   dfl_loss  Instances       Size\n"
          ]
        },
        {
          "output_type": "stream",
          "name": "stderr",
          "text": [
            "      39/50      1.12G     0.8534     0.7175      0.939         12        640: 100%|██████████| 71/71 [00:11<00:00,  6.36it/s]\n",
            "                 Class     Images  Instances      Box(P          R      mAP50  mAP50-95): 100%|██████████| 4/4 [00:00<00:00, 11.10it/s]"
          ]
        },
        {
          "output_type": "stream",
          "name": "stdout",
          "text": [
            "                   all         49        101      0.938      0.814      0.908      0.657\n"
          ]
        },
        {
          "output_type": "stream",
          "name": "stderr",
          "text": [
            "\n"
          ]
        },
        {
          "output_type": "stream",
          "name": "stdout",
          "text": [
            "\n",
            "      Epoch    GPU_mem   box_loss   cls_loss   dfl_loss  Instances       Size\n"
          ]
        },
        {
          "output_type": "stream",
          "name": "stderr",
          "text": [
            "      40/50      1.06G     0.8199      0.716     0.9192         24        640: 100%|██████████| 71/71 [00:11<00:00,  6.40it/s]\n",
            "                 Class     Images  Instances      Box(P          R      mAP50  mAP50-95): 100%|██████████| 4/4 [00:00<00:00, 12.08it/s]"
          ]
        },
        {
          "output_type": "stream",
          "name": "stdout",
          "text": [
            "                   all         49        101       0.94      0.804      0.904      0.651\n"
          ]
        },
        {
          "output_type": "stream",
          "name": "stderr",
          "text": [
            "\n"
          ]
        },
        {
          "output_type": "stream",
          "name": "stdout",
          "text": [
            "Closing dataloader mosaic\n",
            "\u001b[34m\u001b[1malbumentations: \u001b[0mBlur(p=0.01, blur_limit=(3, 7)), MedianBlur(p=0.01, blur_limit=(3, 7)), ToGray(p=0.01, num_output_channels=3, method='weighted_average'), CLAHE(p=0.01, clip_limit=(1.0, 4.0), tile_grid_size=(8, 8))\n",
            "\n",
            "      Epoch    GPU_mem   box_loss   cls_loss   dfl_loss  Instances       Size\n"
          ]
        },
        {
          "output_type": "stream",
          "name": "stderr",
          "text": [
            "      41/50      1.06G     0.8243     0.7497     0.9308          6        640: 100%|██████████| 71/71 [00:11<00:00,  6.10it/s]\n",
            "                 Class     Images  Instances      Box(P          R      mAP50  mAP50-95): 100%|██████████| 4/4 [00:00<00:00, 11.94it/s]"
          ]
        },
        {
          "output_type": "stream",
          "name": "stdout",
          "text": [
            "                   all         49        101        0.9      0.825      0.901      0.641\n"
          ]
        },
        {
          "output_type": "stream",
          "name": "stderr",
          "text": [
            "\n"
          ]
        },
        {
          "output_type": "stream",
          "name": "stdout",
          "text": [
            "\n",
            "      Epoch    GPU_mem   box_loss   cls_loss   dfl_loss  Instances       Size\n"
          ]
        },
        {
          "output_type": "stream",
          "name": "stderr",
          "text": [
            "      42/50      1.06G     0.8454     0.7824     0.9348         15        640: 100%|██████████| 71/71 [00:10<00:00,  6.50it/s]\n",
            "                 Class     Images  Instances      Box(P          R      mAP50  mAP50-95): 100%|██████████| 4/4 [00:00<00:00, 10.33it/s]"
          ]
        },
        {
          "output_type": "stream",
          "name": "stdout",
          "text": [
            "                   all         49        101      0.845      0.837      0.906      0.629\n"
          ]
        },
        {
          "output_type": "stream",
          "name": "stderr",
          "text": [
            "\n"
          ]
        },
        {
          "output_type": "stream",
          "name": "stdout",
          "text": [
            "\n",
            "      Epoch    GPU_mem   box_loss   cls_loss   dfl_loss  Instances       Size\n"
          ]
        },
        {
          "output_type": "stream",
          "name": "stderr",
          "text": [
            "      43/50      1.06G     0.8162     0.7503     0.9234         21        640: 100%|██████████| 71/71 [00:10<00:00,  6.48it/s]\n",
            "                 Class     Images  Instances      Box(P          R      mAP50  mAP50-95): 100%|██████████| 4/4 [00:00<00:00, 12.90it/s]"
          ]
        },
        {
          "output_type": "stream",
          "name": "stdout",
          "text": [
            "                   all         49        101      0.903      0.813      0.905      0.635\n"
          ]
        },
        {
          "output_type": "stream",
          "name": "stderr",
          "text": [
            "\n"
          ]
        },
        {
          "output_type": "stream",
          "name": "stdout",
          "text": [
            "\n",
            "      Epoch    GPU_mem   box_loss   cls_loss   dfl_loss  Instances       Size\n"
          ]
        },
        {
          "output_type": "stream",
          "name": "stderr",
          "text": [
            "      44/50      1.06G     0.7966     0.7634     0.9291         14        640: 100%|██████████| 71/71 [00:10<00:00,  6.52it/s]\n",
            "                 Class     Images  Instances      Box(P          R      mAP50  mAP50-95): 100%|██████████| 4/4 [00:00<00:00, 12.16it/s]"
          ]
        },
        {
          "output_type": "stream",
          "name": "stdout",
          "text": [
            "                   all         49        101      0.899      0.834      0.912      0.652\n"
          ]
        },
        {
          "output_type": "stream",
          "name": "stderr",
          "text": [
            "\n"
          ]
        },
        {
          "output_type": "stream",
          "name": "stdout",
          "text": [
            "\n",
            "      Epoch    GPU_mem   box_loss   cls_loss   dfl_loss  Instances       Size\n"
          ]
        },
        {
          "output_type": "stream",
          "name": "stderr",
          "text": [
            "      45/50      1.06G     0.8033     0.7562     0.9234         33        640: 100%|██████████| 71/71 [00:10<00:00,  6.52it/s]\n",
            "                 Class     Images  Instances      Box(P          R      mAP50  mAP50-95): 100%|██████████| 4/4 [00:00<00:00, 11.94it/s]"
          ]
        },
        {
          "output_type": "stream",
          "name": "stdout",
          "text": [
            "                   all         49        101      0.844      0.847      0.906      0.655\n"
          ]
        },
        {
          "output_type": "stream",
          "name": "stderr",
          "text": [
            "\n"
          ]
        },
        {
          "output_type": "stream",
          "name": "stdout",
          "text": [
            "\n",
            "      Epoch    GPU_mem   box_loss   cls_loss   dfl_loss  Instances       Size\n"
          ]
        },
        {
          "output_type": "stream",
          "name": "stderr",
          "text": [
            "      46/50      1.06G     0.7683     0.7405     0.9076          6        640: 100%|██████████| 71/71 [00:10<00:00,  6.51it/s]\n",
            "                 Class     Images  Instances      Box(P          R      mAP50  mAP50-95): 100%|██████████| 4/4 [00:00<00:00, 12.51it/s]"
          ]
        },
        {
          "output_type": "stream",
          "name": "stdout",
          "text": [
            "                   all         49        101      0.906      0.826      0.905      0.647\n"
          ]
        },
        {
          "output_type": "stream",
          "name": "stderr",
          "text": [
            "\n"
          ]
        },
        {
          "output_type": "stream",
          "name": "stdout",
          "text": [
            "\n",
            "      Epoch    GPU_mem   box_loss   cls_loss   dfl_loss  Instances       Size\n"
          ]
        },
        {
          "output_type": "stream",
          "name": "stderr",
          "text": [
            "      47/50      1.06G     0.7525     0.7283     0.9112          9        640: 100%|██████████| 71/71 [00:10<00:00,  6.75it/s]\n",
            "                 Class     Images  Instances      Box(P          R      mAP50  mAP50-95): 100%|██████████| 4/4 [00:00<00:00,  8.01it/s]"
          ]
        },
        {
          "output_type": "stream",
          "name": "stdout",
          "text": [
            "                   all         49        101      0.867      0.827      0.909      0.654\n"
          ]
        },
        {
          "output_type": "stream",
          "name": "stderr",
          "text": [
            "\n"
          ]
        },
        {
          "output_type": "stream",
          "name": "stdout",
          "text": [
            "\n",
            "      Epoch    GPU_mem   box_loss   cls_loss   dfl_loss  Instances       Size\n"
          ]
        },
        {
          "output_type": "stream",
          "name": "stderr",
          "text": [
            "      48/50      1.06G      0.749     0.7225      0.913         12        640: 100%|██████████| 71/71 [00:10<00:00,  6.97it/s]\n",
            "                 Class     Images  Instances      Box(P          R      mAP50  mAP50-95): 100%|██████████| 4/4 [00:00<00:00,  8.49it/s]"
          ]
        },
        {
          "output_type": "stream",
          "name": "stdout",
          "text": [
            "                   all         49        101      0.867      0.844      0.906      0.647\n"
          ]
        },
        {
          "output_type": "stream",
          "name": "stderr",
          "text": [
            "\n"
          ]
        },
        {
          "output_type": "stream",
          "name": "stdout",
          "text": [
            "\n",
            "      Epoch    GPU_mem   box_loss   cls_loss   dfl_loss  Instances       Size\n"
          ]
        },
        {
          "output_type": "stream",
          "name": "stderr",
          "text": [
            "      49/50      1.06G     0.7414     0.7263     0.9087         13        640: 100%|██████████| 71/71 [00:09<00:00,  7.22it/s]\n",
            "                 Class     Images  Instances      Box(P          R      mAP50  mAP50-95): 100%|██████████| 4/4 [00:00<00:00, 11.29it/s]"
          ]
        },
        {
          "output_type": "stream",
          "name": "stdout",
          "text": [
            "                   all         49        101      0.856      0.838      0.904      0.644\n"
          ]
        },
        {
          "output_type": "stream",
          "name": "stderr",
          "text": [
            "\n"
          ]
        },
        {
          "output_type": "stream",
          "name": "stdout",
          "text": [
            "\n",
            "      Epoch    GPU_mem   box_loss   cls_loss   dfl_loss  Instances       Size\n"
          ]
        },
        {
          "output_type": "stream",
          "name": "stderr",
          "text": [
            "      50/50      1.06G     0.7198     0.7154     0.8944         14        640: 100%|██████████| 71/71 [00:10<00:00,  6.69it/s]\n",
            "                 Class     Images  Instances      Box(P          R      mAP50  mAP50-95): 100%|██████████| 4/4 [00:00<00:00, 10.32it/s]"
          ]
        },
        {
          "output_type": "stream",
          "name": "stdout",
          "text": [
            "                   all         49        101      0.848      0.841      0.907      0.643\n"
          ]
        },
        {
          "output_type": "stream",
          "name": "stderr",
          "text": [
            "\n"
          ]
        },
        {
          "output_type": "stream",
          "name": "stdout",
          "text": [
            "\n",
            "50 epochs completed in 0.168 hours.\n",
            "Optimizer stripped from runs/detect/train3/weights/last.pt, 6.2MB\n",
            "Optimizer stripped from runs/detect/train3/weights/best.pt, 6.2MB\n",
            "\n",
            "Validating runs/detect/train3/weights/best.pt...\n",
            "Ultralytics 8.3.76 🚀 Python-3.11.11 torch-2.5.1+cu124 CUDA:0 (Tesla T4, 15095MiB)\n",
            "Model summary (fused): 72 layers, 3,006,038 parameters, 0 gradients, 8.1 GFLOPs\n"
          ]
        },
        {
          "output_type": "stream",
          "name": "stderr",
          "text": [
            "                 Class     Images  Instances      Box(P          R      mAP50  mAP50-95): 100%|██████████| 4/4 [00:01<00:00,  3.63it/s]\n"
          ]
        },
        {
          "output_type": "stream",
          "name": "stdout",
          "text": [
            "                   all         49        101      0.939      0.814      0.907      0.658\n",
            "                 cloud         11         54      0.913      0.778      0.882      0.631\n",
            "                   sun         47         47      0.964      0.851      0.933      0.684\n",
            "Speed: 0.3ms preprocess, 4.7ms inference, 0.0ms loss, 3.9ms postprocess per image\n",
            "Results saved to \u001b[1mruns/detect/train3\u001b[0m\n"
          ]
        }
      ]
    },
    {
      "cell_type": "code",
      "source": [
        "metrics = model.val()\n"
      ],
      "metadata": {
        "colab": {
          "base_uri": "https://localhost:8080/"
        },
        "id": "ZgZ9PRpVJc5f",
        "outputId": "3d40b8f5-a894-4017-de80-1fe8ad1e0ec0"
      },
      "execution_count": null,
      "outputs": [
        {
          "output_type": "stream",
          "name": "stdout",
          "text": [
            "Ultralytics 8.3.76 🚀 Python-3.11.11 torch-2.5.1+cu124 CUDA:0 (Tesla T4, 15095MiB)\n",
            "Model summary (fused): 72 layers, 3,006,038 parameters, 0 gradients, 8.1 GFLOPs\n"
          ]
        },
        {
          "output_type": "stream",
          "name": "stderr",
          "text": [
            "\u001b[34m\u001b[1mval: \u001b[0mScanning /content/Cloud-detection-1.0-4/valid/labels.cache... 49 images, 2 backgrounds, 0 corrupt: 100%|██████████| 49/49 [00:00<?, ?it/s]\n",
            "                 Class     Images  Instances      Box(P          R      mAP50  mAP50-95): 100%|██████████| 7/7 [00:01<00:00,  6.30it/s]\n"
          ]
        },
        {
          "output_type": "stream",
          "name": "stdout",
          "text": [
            "                   all         49        101      0.938      0.814      0.907      0.659\n",
            "                 cloud         11         54      0.912      0.778      0.882      0.625\n",
            "                   sun         47         47      0.964      0.851      0.933      0.693\n",
            "Speed: 3.9ms preprocess, 6.6ms inference, 0.0ms loss, 2.5ms postprocess per image\n",
            "Results saved to \u001b[1mruns/detect/train32\u001b[0m\n"
          ]
        }
      ]
    },
    {
      "cell_type": "code",
      "source": [
        "from google.colab import drive\n",
        "drive.mount('/content/drive')\n"
      ],
      "metadata": {
        "colab": {
          "base_uri": "https://localhost:8080/"
        },
        "id": "7rg2tkoYQOt1",
        "outputId": "d8d82cb8-f5ae-496b-f972-5f50aeedecac"
      },
      "execution_count": null,
      "outputs": [
        {
          "output_type": "stream",
          "name": "stdout",
          "text": [
            "Mounted at /content/drive\n"
          ]
        }
      ]
    },
    {
      "cell_type": "code",
      "source": [
        "!ls -lh \"/content/drive/My Drive/Colab Notebooks/testImages/\"\n"
      ],
      "metadata": {
        "colab": {
          "base_uri": "https://localhost:8080/"
        },
        "id": "Ej7CeE-oQYOQ",
        "outputId": "c28b0349-439b-400c-9e58-4e4addf53b51"
      },
      "execution_count": null,
      "outputs": [
        {
          "output_type": "stream",
          "name": "stdout",
          "text": [
            "total 1.2M\n",
            "-rw------- 1 root root 554K Feb 16 05:44 '25-02-15 11-27-44.jpg'\n",
            "-rw------- 1 root root 658K Feb 16 05:43 '25-02-15 11-37-59.jpg'\n"
          ]
        }
      ]
    },
    {
      "cell_type": "code",
      "source": [
        "!ls -lh /content/runs/detect/\n"
      ],
      "metadata": {
        "colab": {
          "base_uri": "https://localhost:8080/"
        },
        "id": "TZMxeGL1RRmR",
        "outputId": "f32e90c0-6e6e-4b99-d8df-f48966826a7a"
      },
      "execution_count": null,
      "outputs": [
        {
          "output_type": "stream",
          "name": "stdout",
          "text": [
            "total 20K\n",
            "drwxr-xr-x 3 root root 4.0K Feb 18 17:29 train\n",
            "drwxr-xr-x 3 root root 4.0K Feb 18 17:40 train2\n",
            "drwxr-xr-x 2 root root 4.0K Feb 18 17:40 train22\n",
            "drwxr-xr-x 3 root root 4.0K Feb 18 18:02 train3\n",
            "drwxr-xr-x 2 root root 4.0K Feb 18 18:02 train32\n"
          ]
        }
      ]
    },
    {
      "cell_type": "code",
      "source": [
        "!ls -lh /content/runs/detect/predict/\n"
      ],
      "metadata": {
        "colab": {
          "base_uri": "https://localhost:8080/"
        },
        "id": "ulOzpg4SRUbU",
        "outputId": "0cc00694-e742-4e00-df5e-92830e28fb40"
      },
      "execution_count": null,
      "outputs": [
        {
          "output_type": "stream",
          "name": "stdout",
          "text": [
            "ls: cannot access '/content/runs/detect/predict/': No such file or directory\n"
          ]
        }
      ]
    },
    {
      "cell_type": "code",
      "source": [
        "# Load trained model\n",
        "trained_model = YOLO(\"/content/runs/detect/train2/weights/best.pt\")  # Change path if different\n",
        "\n",
        "# Run inference on a test image\n",
        "test_image = \"/content/drive/My Drive/Colab Notebooks/testImages/25-02-15 11-37-59.jpg\"\n",
        "  # Change to a real image\n",
        "results = trained_model(test_image, show=True)  # show=True will display image\n"
      ],
      "metadata": {
        "colab": {
          "base_uri": "https://localhost:8080/"
        },
        "id": "aKooR8kDJdX3",
        "outputId": "6c1a6314-8896-4ebc-fd6f-57b88d0bca70"
      },
      "execution_count": null,
      "outputs": [
        {
          "output_type": "stream",
          "name": "stdout",
          "text": [
            "WARNING ⚠️ Environment does not support cv2.imshow() or PIL Image.show()\n",
            "\n",
            "\n",
            "image 1/1 /content/drive/My Drive/Colab Notebooks/testImages/25-02-15 11-37-59.jpg: 320x640 6 clouds, 1 sun, 7.5ms\n",
            "Speed: 1.9ms preprocess, 7.5ms inference, 1.2ms postprocess per image at shape (1, 3, 320, 640)\n"
          ]
        }
      ]
    },
    {
      "cell_type": "code",
      "source": [
        "import glob\n",
        "import cv2\n",
        "import matplotlib.pyplot as plt\n",
        "\n",
        "# Find the latest YOLO prediction folder\n",
        "prediction_folders = sorted(glob.glob(\"/content/runs/detect/*\"), key=lambda x: os.path.getctime(x), reverse=True)\n",
        "if len(prediction_folders) == 0:\n",
        "    print(\"No prediction folder found!\")\n",
        "else:\n",
        "    latest_prediction_folder = prediction_folders[0]\n",
        "    print(f\"Using predictions from: {latest_prediction_folder}\")\n",
        "\n",
        "    # Find the first image in the prediction folder\n",
        "    predicted_images = glob.glob(latest_prediction_folder + \"/*.jpg\")  # Get all images\n",
        "    if len(predicted_images) == 0:\n",
        "        print(\"No predicted images found!\")\n",
        "    else:\n",
        "        output_image_path = predicted_images[0]  # Take the first predicted image\n",
        "        print(f\"Displaying: {output_image_path}\")\n",
        "\n",
        "        # Load and display the output image\n",
        "        output_image = cv2.imread(output_image_path)\n",
        "        output_image = cv2.cvtColor(output_image, cv2.COLOR_BGR2RGB)  # Convert BGR to RGB\n",
        "\n",
        "        # Display image\n",
        "        plt.figure(figsize=(8, 8))\n",
        "        plt.imshow(output_image)\n",
        "        plt.axis(\"off\")\n",
        "        plt.show()\n"
      ],
      "metadata": {
        "colab": {
          "base_uri": "https://localhost:8080/",
          "height": 368
        },
        "id": "SV5ih1RzQ5wM",
        "outputId": "cdc23190-2b63-4699-94cb-617363d59d5f"
      },
      "execution_count": null,
      "outputs": [
        {
          "output_type": "stream",
          "name": "stdout",
          "text": [
            "Using predictions from: /content/runs/detect/train32\n",
            "Displaying: /content/runs/detect/train32/val_batch0_pred.jpg\n"
          ]
        },
        {
          "output_type": "display_data",
          "data": {
            "text/plain": [
              "<Figure size 800x800 with 1 Axes>"
            ],
            "image/png": "[encoded data removed]"
          },
          "metadata": {}
        }
      ]
    },
    {
      "cell_type": "code",
      "source": [],
      "metadata": {
        "id": "mDYU3UyXSXeU"
      },
      "execution_count": null,
      "outputs": []
    },
    {
      "cell_type": "markdown",
      "source": [
        "When the UTF encoding doesnt work. Restart the run time and run this again and set it to UTF=8"
      ],
      "metadata": {
        "id": "wKF24WaASOYo"
      }
    },
    {
      "cell_type": "code",
      "source": [
        "!apt-get update && apt-get install -y locales && locale-gen en_US.UTF-8"
      ],
      "metadata": {
        "colab": {
          "base_uri": "https://localhost:8080/"
        },
        "id": "Nm_qaAevLJLq",
        "outputId": "e9b765fe-9e21-4e02-e500-358902957236"
      },
      "execution_count": null,
      "outputs": [
        {
          "output_type": "stream",
          "name": "stdout",
          "text": [
            "\r0% [Working]\r            \rGet:1 https://cloud.r-project.org/bin/linux/ubuntu jammy-cran40/ InRelease [3,632 B]\n",
            "\r0% [Waiting for headers] [Waiting for headers] [1 InRelease 3,632 B/3,632 B 100%] [Connected to r2u.\r0% [Waiting for headers] [Waiting for headers] [Connected to r2u.stat.illinois.edu (192.17.190.167)]\r                                                                                                    \rHit:2 http://archive.ubuntu.com/ubuntu jammy InRelease\n",
            "\r                                                                                                    \rGet:3 http://security.ubuntu.com/ubuntu jammy-security InRelease [129 kB]\n",
            "Get:4 https://developer.download.nvidia.com/compute/cuda/repos/ubuntu2204/x86_64  InRelease [1,581 B]\n",
            "Get:5 http://archive.ubuntu.com/ubuntu jammy-updates InRelease [128 kB]\n",
            "Get:6 https://r2u.stat.illinois.edu/ubuntu jammy InRelease [6,555 B]\n",
            "Get:7 http://archive.ubuntu.com/ubuntu jammy-backports InRelease [127 kB]\n",
            "Get:8 https://developer.download.nvidia.com/compute/cuda/repos/ubuntu2204/x86_64  Packages [1,315 kB]\n",
            "Hit:9 https://ppa.launchpadcontent.net/deadsnakes/ppa/ubuntu jammy InRelease\n",
            "Hit:10 https://ppa.launchpadcontent.net/graphics-drivers/ppa/ubuntu jammy InRelease\n",
            "Get:11 https://r2u.stat.illinois.edu/ubuntu jammy/main amd64 Packages [2,659 kB]\n",
            "Get:12 http://security.ubuntu.com/ubuntu jammy-security/main amd64 Packages [2,609 kB]\n",
            "Hit:13 https://ppa.launchpadcontent.net/ubuntugis/ppa/ubuntu jammy InRelease\n",
            "Get:14 http://archive.ubuntu.com/ubuntu jammy-updates/universe amd64 Packages [1,526 kB]\n",
            "Get:15 https://r2u.stat.illinois.edu/ubuntu jammy/main all Packages [8,682 kB]\n",
            "Get:16 http://archive.ubuntu.com/ubuntu jammy-updates/main amd64 Packages [2,911 kB]\n",
            "Fetched 20.1 MB in 2s (8,138 kB/s)\n",
            "Reading package lists... Done\n",
            "W: Skipping acquire of configured file 'main/source/Sources' as repository 'https://r2u.stat.illinois.edu/ubuntu jammy InRelease' does not seem to provide it (sources.list entry misspelt?)\n",
            "Reading package lists... Done\n",
            "Building dependency tree... Done\n",
            "Reading state information... Done\n",
            "locales is already the newest version (2.35-0ubuntu3.9).\n",
            "0 upgraded, 0 newly installed, 0 to remove and 22 not upgraded.\n",
            "Generating locales (this might take a while)...\n",
            "  en_US.UTF-8... done\n",
            "Generation complete.\n"
          ]
        }
      ]
    },
    {
      "cell_type": "code",
      "source": [
        "!update-locale LANG=en_US.UTF-8\n"
      ],
      "metadata": {
        "id": "ZxKe-jcXPK8n"
      },
      "execution_count": null,
      "outputs": []
    },
    {
      "cell_type": "code",
      "source": [
        "!locale\n"
      ],
      "metadata": {
        "colab": {
          "base_uri": "https://localhost:8080/"
        },
        "id": "ReJSlYGrPP5W",
        "outputId": "39649f88-61ca-4003-f065-029e4e440cd3"
      },
      "execution_count": null,
      "outputs": [
        {
          "output_type": "stream",
          "name": "stdout",
          "text": [
            "LANG=en_US.UTF-8\n",
            "LANGUAGE=en_US\n",
            "LC_CTYPE=\"en_US.UTF-8\"\n",
            "LC_NUMERIC=\"en_US.UTF-8\"\n",
            "LC_TIME=\"en_US.UTF-8\"\n",
            "LC_COLLATE=\"en_US.UTF-8\"\n",
            "LC_MONETARY=\"en_US.UTF-8\"\n",
            "LC_MESSAGES=\"en_US.UTF-8\"\n",
            "LC_PAPER=\"en_US.UTF-8\"\n",
            "LC_NAME=\"en_US.UTF-8\"\n",
            "LC_ADDRESS=\"en_US.UTF-8\"\n",
            "LC_TELEPHONE=\"en_US.UTF-8\"\n",
            "LC_MEASUREMENT=\"en_US.UTF-8\"\n",
            "LC_IDENTIFICATION=\"en_US.UTF-8\"\n",
            "LC_ALL=en_US.UTF-8\n"
          ]
        }
      ]
    },
    {
      "cell_type": "code",
      "source": [
        "!find /content -name \"best.pt\"\n"
      ],
      "metadata": {
        "colab": {
          "base_uri": "https://localhost:8080/"
        },
        "id": "aMBOENbHPWba",
        "outputId": "dfe42047-e64f-4c28-fba5-133b0ed077f8"
      },
      "execution_count": null,
      "outputs": [
        {
          "output_type": "stream",
          "name": "stdout",
          "text": [
            "/content/runs/detect/train3/weights/best.pt\n",
            "/content/runs/detect/train2/weights/best.pt\n"
          ]
        }
      ]
    },
    {
      "cell_type": "code",
      "source": [
        "!ls -lh /content/runs/detect/train2/weights/\n",
        "\n"
      ],
      "metadata": {
        "colab": {
          "base_uri": "https://localhost:8080/"
        },
        "id": "4Umfg61sSqT5",
        "outputId": "b1356a2b-f188-4ff9-e231-d38c0cb97c56"
      },
      "execution_count": null,
      "outputs": [
        {
          "output_type": "stream",
          "name": "stdout",
          "text": [
            "total 12M\n",
            "-rw-r--r-- 1 root root 6.0M Feb 18 17:39 best.pt\n",
            "-rw-r--r-- 1 root root 6.0M Feb 18 17:39 last.pt\n"
          ]
        }
      ]
    },
    {
      "cell_type": "code",
      "source": [
        "from google.colab import files\n",
        "files.download(\"/content/runs/detect/train2/weights/best.pt\")"
      ],
      "metadata": {
        "colab": {
          "base_uri": "https://localhost:8080/",
          "height": 34
        },
        "id": "2-rlfuwmSqso",
        "outputId": "d673a213-5b2d-40a2-f05e-294d61f7664d"
      },
      "execution_count": null,
      "outputs": [
        {
          "output_type": "display_data",
          "data": {
            "text/plain": [
              "<IPython.core.display.Javascript object>"
            ],
            "application/javascript": [
              "\n",
              "    async function download(id, filename, size) {\n",
              "      if (!google.colab.kernel.accessAllowed) {\n",
              "        return;\n",
              "      }\n",
              "      const div = document.createElement('div');\n",
              "      const label = document.createElement('label');\n",
              "      label.textContent = `Downloading \"${filename}\": `;\n",
              "      div.appendChild(label);\n",
              "      const progress = document.createElement('progress');\n",
              "      progress.max = size;\n",
              "      div.appendChild(progress);\n",
              "      document.body.appendChild(div);\n",
              "\n",
              "      const buffers = [];\n",
              "      let downloaded = 0;\n",
              "\n",
              "      const channel = await google.colab.kernel.comms.open(id);\n",
              "      // Send a message to notify the kernel that we're ready.\n",
              "      channel.send({})\n",
              "\n",
              "      for await (const message of channel.messages) {\n",
              "        // Send a message to notify the kernel that we're ready.\n",
              "        channel.send({})\n",
              "        if (message.buffers) {\n",
              "          for (const buffer of message.buffers) {\n",
              "            buffers.push(buffer);\n",
              "            downloaded += buffer.byteLength;\n",
              "            progress.value = downloaded;\n",
              "          }\n",
              "        }\n",
              "      }\n",
              "      const blob = new Blob(buffers, {type: 'application/binary'});\n",
              "      const a = document.createElement('a');\n",
              "      a.href = window.URL.createObjectURL(blob);\n",
              "      a.download = filename;\n",
              "      div.appendChild(a);\n",
              "      a.click();\n",
              "      div.remove();\n",
              "    }\n",
              "  "
            ]
          },
          "metadata": {}
        },
        {
          "output_type": "display_data",
          "data": {
            "text/plain": [
              "<IPython.core.display.Javascript object>"
            ],
            "application/javascript": [
              "download(\"download_32c646ae-de68-456d-b081-7f3d38ce2812\", \"best.pt\", 6219619)"
            ]
          },
          "metadata": {}
        }
      ]
    },
    {
      "cell_type": "code",
      "source": [],
      "metadata": {
        "id": "GVigUhWBSyDj"
      },
      "execution_count": null,
      "outputs": []
    }
  ]
}